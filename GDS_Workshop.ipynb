{
 "cells": [
  {
   "cell_type": "markdown",
   "metadata": {},
   "source": [
    "# Graph Data Science workshop with Neo4j\n",
    "\n",
    "Click on the link below to open a Colab version of the notebook. You will be able to create your own version."
   ]
  },
  {
   "cell_type": "markdown",
   "metadata": {
    "id": "JAPoU8Sm5E6e"
   },
   "source": [
    "<table align=\"left\">\n",
    "\n",
    "  <td>\n",
    "    <a href=\"https://colab.research.google.com/github/neo4j-field/graph-summit-apac-2023/blob/main/GDS_Workshop.ipynb\" target=\"_blank\">\n",
    "      <img src=\"https://cloud.google.com/ml-engine/images/colab-logo-32px.png\" alt=\"Colab logo\">Run your own notebook in Colab\n",
    "    </a>\n",
    "  </td>\n",
    "</table>"
   ]
  },
  {
   "cell_type": "markdown",
   "metadata": {},
   "source": [
    "---\n",
    "## Target\n",
    "\n",
    "Do fraud analysis on a group of persons and transactions using graphs and data science.  \n",
    "\n",
    "## Context\n",
    "\n",
    "This notebook allows you load a dataset based on an updated version of [Paysim](https://www.sisu.io/posts/paysim/).  \n",
    "PaySim is an approximation using an agent-based model and some anonymized, aggregate transactional data from a real mobile money network operator to create synthetic financial data sets academics and hackers can use for exploring ways to detect fraudulent behavior.  \n",
    "Using this [code](https://github.com/voutilad/paysim), you can generate your own dataset with different caracteristics (size, fraud occurences...).    \n",
    "\n",
    "We're going to leverage [Neo4j Graph Data Science (GDS)](https://neo4j.com/docs/graph-data-science/current/algorithms/) to investigate through the data and find out fraud patterns and fraudsters.  \n",
    "\n",
    "## Dataset\n",
    "\n",
    "The dataset used in this notebook represents money transafers between around 2500 clients, 75 merchants, 5 banks with 175000 transactions across 30 days.  \n",
    "There are 5 types of transactions:  \n",
    "* CashIn: a client moves money into the network via a merchant\n",
    "* CashOut: a client moves money out of the network via a merchant\n",
    "* Debit: a client moves money into a bank\n",
    "* Transfer: a client sends money to another client\n",
    "* Payment: a client exchanges money for something via a merchant\n",
    "\n",
    "We will try to identify Clients which are fraudsters, trying to target other clients by taking their money below limits ot be unnoticed.  \n",
    "We added from the the original Paysim some clients details (Phone, Email, SSN) to identify fake profiles too.  \n",
    "\n",
    "---\n",
    "\n",
    "## Let's get a graph database\n",
    "\n",
    "We will use a Neo4j graph database created on the [Neo4j sandbox](https://neo4j.com/sandbox/).  \n",
    "Once connected, on the _Select a project_ page, go to the section _Your own data_ and select the _Blank Sandbox_.  \n",
    "Click on the _Create_ button at the bottom of the page.  \n",
    "After few seconds, you should see the below.  \n",
    "<img src=\"./img/sandbox_start.png\" alt=\"Sandbox Start\" width=\"50%\" height=\"50%\" title=\"Sandbox Start\">  \n",
    "\n",
    "And once it's up and running, you can access the connection details by clicking on the top right down arrow and picking the *Connection details* tab.  \n",
    "You will need 2 things:\n",
    "* Password  \n",
    "* Bolt URL   \n",
    "\n",
    "<img src=\"./img/sandbox_details.png\" alt=\"Sandbox Details\" width=\"50%\" height=\"50%\" title=\"Sandbox Details\">  \n",
    "\n",
    "---\n",
    "\n",
    "## Let's code\n",
    "\n",
    "First we will import the [Neo4j GDS python library](https://pypi.org/project/graphdatascience/)  "
   ]
  },
  {
   "cell_type": "code",
   "execution_count": null,
   "metadata": {
    "id": "D3z2cYxEUpWJ",
    "tags": []
   },
   "outputs": [],
   "source": [
    "# Install Neo4j GDS Python Client\n",
    "import sys\n",
    "!{sys.executable} -m pip install graphdatascience"
   ]
  },
  {
   "cell_type": "code",
   "execution_count": null,
   "metadata": {
    "id": "nqPnRkIfWTor",
    "tags": []
   },
   "outputs": [],
   "source": [
    "from graphdatascience import GraphDataScience"
   ]
  },
  {
   "cell_type": "markdown",
   "metadata": {},
   "source": [
    "### Instantiate your GDS Session\n",
    "\n",
    "Use Neo4j/Bolt URI and credentials according to your setup  \n",
    "\n",
    "For local standalone instance Bolt connection without auth    \n",
    "`gds = GraphDataScience(\"bolt://localhost:7687\", auth=None)`  \n",
    "\n",
    "For local standalone instance Bolt connection with auth    \n",
    "`gds = GraphDataScience(\"bolt://localhost:7687\", auth=(\"neo4j\", \"<password>\"))`  \n",
    "\n",
    "For remote cluster Neo4j connection with auth  \n",
    "`gds = GraphDataScience(\"neo4j://<FQDN or IP Address>:7687\", auth=(\"neo4j\", \"<password>\"))`  \n",
    "\n",
    "For remote standalone instance Bolt connection with auth   \n",
    "`gds = GraphDataScience(\"bolt://<FQDN or IP Address>:7687\", auth=(\"neo4j\", \"<password>\"))` "
   ]
  },
  {
   "cell_type": "code",
   "execution_count": null,
   "metadata": {
    "id": "xi7xemCCWTwZ",
    "tags": []
   },
   "outputs": [],
   "source": [
    "gds = GraphDataScience(\"bolt://3.231.156.13:7687\", auth=(\"neo4j\", \"integrity-crusts-friction\")) # >> Update the password and the URL here <<"
   ]
  },
  {
   "cell_type": "markdown",
   "metadata": {},
   "source": [
    "### Check the GDS version installed"
   ]
  },
  {
   "cell_type": "code",
   "execution_count": null,
   "metadata": {
    "colab": {
     "base_uri": "https://localhost:8080/"
    },
    "id": "u3TcuHHHWTzR",
    "outputId": "622f8dc2-61b4-44b7-e028-be995db0dbed",
    "tags": []
   },
   "outputs": [],
   "source": [
    "print(f\"Neo4j GDS Version: {gds.version()}\")"
   ]
  },
  {
   "cell_type": "markdown",
   "metadata": {},
   "source": [
    "### Optional - Set database if you're not using the default _neo4j_ database. \n",
    "\n",
    "Not applicable for AuraDS, Neo4j Desktop and Neo4j Sandbox as we have only one database named _neo4j_."
   ]
  },
  {
   "cell_type": "code",
   "execution_count": null,
   "metadata": {
    "id": "jNfTsoQKWpXt",
    "tags": []
   },
   "outputs": [],
   "source": [
    "#gds.set_database(\"my-db\")"
   ]
  },
  {
   "cell_type": "markdown",
   "metadata": {},
   "source": [
    "### Mark it to True if you want to erase all the data in the db and reload all.\n",
    "If it is marked False, only the GDS properties will be remove, making the database ready for a rerun."
   ]
  },
  {
   "cell_type": "code",
   "execution_count": null,
   "metadata": {
    "id": "L1VaJViHa6TX",
    "tags": []
   },
   "outputs": [],
   "source": [
    "RELOAD_DATA = True"
   ]
  },
  {
   "cell_type": "markdown",
   "metadata": {},
   "source": [
    "### Cleaning the database or making it ready for a rerun of the notebook.\n",
    "Then we will use it to load the data from CSV files, running [Cypher](https://neo4j.com/developer/cypher/) queries.  "
   ]
  },
  {
   "cell_type": "code",
   "execution_count": null,
   "metadata": {
    "id": "BZ-Bk77eWpac",
    "tags": []
   },
   "outputs": [],
   "source": [
    "if RELOAD_DATA: # Delete all, takes few miniutes on a full database\n",
    "    gds.run_cypher(\n",
    "        \"\"\"\n",
    "        MATCH (n) CALL {\n",
    "          WITH n\n",
    "          DETACH DELETE n\n",
    "        } IN TRANSACTIONS OF 10 ROWS;\n",
    "        \"\"\"\n",
    "    )\n",
    "else: # Reset the GDS properties when we re run the book without erasing all\n",
    "    gds.run_cypher(\n",
    "        \"\"\"\n",
    "        MATCH (c:Client) SET c.fraud_group = null, c.fraud_group_2 = null, c.score = null;\n",
    "        \"\"\"\n",
    "    )"
   ]
  },
  {
   "cell_type": "markdown",
   "metadata": {
    "execution": {
     "iopub.execute_input": "2023-04-12T07:09:48.034862Z",
     "iopub.status.busy": "2023-04-12T07:09:48.034711Z",
     "iopub.status.idle": "2023-04-12T07:09:48.056279Z",
     "shell.execute_reply": "2023-04-12T07:09:48.055279Z",
     "shell.execute_reply.started": "2023-04-12T07:09:48.034862Z"
    }
   },
   "source": [
    "### Loading the data\n",
    "\n",
    "Using [LOAD CSV](https://neo4j.com/docs/cypher-manual/current/clauses/load-csv/), we are loading csv files into the database, creationg the graph on the fly.  \n",
    "The first cell is to test the file access, by reading it and showing only the first 5 rows.  "
   ]
  },
  {
   "cell_type": "code",
   "execution_count": null,
   "metadata": {
    "id": "T_STaebhWpcy",
    "tags": []
   },
   "outputs": [],
   "source": [
    "# Checking if we can access the data\n",
    "if RELOAD_DATA:\n",
    "    nodeListCSV = gds.run_cypher(\n",
    "    \"\"\"\n",
    "    LOAD CSV WITH HEADERS FROM \"https://raw.githubusercontent.com/neo4j-field/graph-summit-apac-2023/main/data/clients.csv\" AS row\n",
    "    RETURN row limit 5\n",
    "    \"\"\"\n",
    "    )\n",
    "    # The object returned is a Pandas Data Frame, so we can explore using standard Pandas methods\n",
    "    # The output is not what we expected but remember here were reading the CSV file and loading it into the Data Frame\n",
    "    nodeListCSV.head(5)"
   ]
  },
  {
   "cell_type": "markdown",
   "metadata": {},
   "source": [
    "### Creating constraints\n",
    "\n",
    "For data integrity, we will create [constraints](https://neo4j.com/docs/cypher-manual/current/constraints/) to have a robust graph data model."
   ]
  },
  {
   "cell_type": "code",
   "execution_count": null,
   "metadata": {
    "id": "931Nv3tbaOOO",
    "tags": []
   },
   "outputs": [],
   "source": [
    "if RELOAD_DATA:\n",
    "    # First we create index\n",
    "    CONSTRAINTS = [\n",
    "      \"CREATE CONSTRAINT ClientConstraint IF NOT EXISTS FOR (p:Client) REQUIRE p.id IS UNIQUE;\",\n",
    "      \"CREATE CONSTRAINT MuleConstraint IF NOT EXISTS FOR (p:Mule) REQUIRE p.id IS UNIQUE;\",\n",
    "      \"CREATE CONSTRAINT EmailConstraint IF NOT EXISTS FOR (p:Email) REQUIRE p.email IS UNIQUE;\",\n",
    "      \"CREATE CONSTRAINT PhoneConstraint IF NOT EXISTS FOR (p:Phone) REQUIRE p.phoneNumber IS UNIQUE;\",\n",
    "      \"CREATE CONSTRAINT SSNConstraint IF NOT EXISTS FOR (p:SSN) REQUIRE p.ssn IS UNIQUE;\",\n",
    "      \"CREATE CONSTRAINT MerchantConstraint IF NOT EXISTS FOR (p:Merchant) REQUIRE p.id IS UNIQUE;\",\n",
    "      \"CREATE CONSTRAINT BankConstraint IF NOT EXISTS FOR (p:Bank) REQUIRE p.id IS UNIQUE;\",\n",
    "      \"CREATE CONSTRAINT TransactionConstraint IF NOT EXISTS FOR (p:Transaction) REQUIRE p.globalStep IS UNIQUE;\",\n",
    "      \"CREATE CONSTRAINT DebitConstraint IF NOT EXISTS FOR (p:Transaction) REQUIRE p.globalStep IS UNIQUE;\",\n",
    "      \"CREATE CONSTRAINT CashInConstraint IF NOT EXISTS FOR (p:CashIn) REQUIRE p.globalStep IS UNIQUE;\",\n",
    "      \"CREATE CONSTRAINT CashOutConstraint IF NOT EXISTS FOR (p:CashOut) REQUIRE p.globalStep IS UNIQUE;\",\n",
    "      \"CREATE CONSTRAINT TransferConstraint IF NOT EXISTS FOR (p:Transfer) REQUIRE p.globalStep IS UNIQUE;\",\n",
    "      \"CREATE CONSTRAINT PaymentConstraint IF NOT EXISTS FOR (p:Payment) REQUIRE p.globalStep IS UNIQUE;\"\n",
    "    ]\n",
    "    for c in CONSTRAINTS:\n",
    "        gds.run_cypher(c)"
   ]
  },
  {
   "cell_type": "markdown",
   "metadata": {},
   "source": [
    "### Loading all the data\n",
    "\n",
    "We will load 7 csv files:  \n",
    "* one for clients   \n",
    "* one for merchants  \n",
    "* five for transactions  \n",
    "\n",
    "We can see how each node is created with a label and at leats one property.  \n",
    "We see all the relationships between all the nodes, to show the money exchanges betweens all entities.  "
   ]
  },
  {
   "cell_type": "code",
   "execution_count": null,
   "metadata": {
    "id": "9gzLKgHkaboi",
    "tags": []
   },
   "outputs": [],
   "source": [
    "if RELOAD_DATA:\n",
    "    # Load Clients data\n",
    "    gds.run_cypher(\n",
    "    \"\"\"\n",
    "        LOAD CSV WITH HEADERS FROM \"https://raw.githubusercontent.com/neo4j-field/graph-summit-apac-2023/main/data/clients.csv\" AS row\n",
    "        WITH row\n",
    "        MERGE (c:Client { id: row.ID })\n",
    "        SET c.name = row.NAME, c.isFraud = toBoolean(row.ISFRAUD)\n",
    "        MERGE (p:Phone { phoneNumber: row.PHONENUMBER })\n",
    "        MERGE (c)-[:HAS_PHONE]->(p)\n",
    "        MERGE (s:SSN { ssn: row.SSN })\n",
    "        MERGE (c)-[:HAS_SSN]->(s)\n",
    "        MERGE (e:Email { email: row.EMAIL })\n",
    "        MERGE (c)-[:HAS_EMAIL]->(e);\n",
    "    \"\"\"\n",
    "    )"
   ]
  },
  {
   "cell_type": "code",
   "execution_count": null,
   "metadata": {
    "id": "yQR8nWTRa-Rx",
    "tags": []
   },
   "outputs": [],
   "source": [
    "if RELOAD_DATA:\n",
    "    # Load Merchants data\n",
    "    gds.run_cypher(\n",
    "    \"\"\"\n",
    "        LOAD CSV WITH HEADERS FROM \"https://raw.githubusercontent.com/neo4j-field/graph-summit-apac-2023/main/data/merchants.csv\" AS row\n",
    "        WITH row\n",
    "        MERGE (m:Merchant { id: row.ID })\n",
    "        SET m.name = row.NAME, m.highRisk = toBoolean(row.HIGHRISK);\n",
    "    \"\"\"\n",
    "    )"
   ]
  },
  {
   "cell_type": "code",
   "execution_count": null,
   "metadata": {
    "id": "SWBqn1LLa-Vb",
    "tags": []
   },
   "outputs": [],
   "source": [
    "if RELOAD_DATA:\n",
    "    # Load Debit data\n",
    "    gds.run_cypher(\n",
    "    \"\"\"\n",
    "        LOAD CSV WITH HEADERS FROM \"https://raw.githubusercontent.com/neo4j-field/graph-summit-apac-2023/main/data/debit.csv\" AS row\n",
    "        WITH row\n",
    "        MERGE (b:Bank { id: row.IDDEST })\n",
    "        SET b.name = row.NAMEDEST\n",
    "        MERGE (c:Client { id: row.IDORIG })\n",
    "        MERGE (t:Transaction:Debit { globalStep: row.GLOBALSTEP })\n",
    "        SET t.amount = toFloat(row.AMOUNT), t.isFraud = toBoolean(row.ISFRAUD)\n",
    "        MERGE (t)-[:TO]->(b)\n",
    "        MERGE (c)-[:PERFORMED]->(t);\n",
    "    \"\"\"\n",
    "    )"
   ]
  },
  {
   "cell_type": "code",
   "execution_count": null,
   "metadata": {
    "id": "UaWM2vKba-Ys",
    "tags": []
   },
   "outputs": [],
   "source": [
    "if RELOAD_DATA:\n",
    "    # Load CashIn data, largest file then takes few seconds\n",
    "    gds.run_cypher(\n",
    "    \"\"\"\n",
    "        LOAD CSV WITH HEADERS FROM \"https://raw.githubusercontent.com/neo4j-field/graph-summit-apac-2023/main/data/cashin.csv\" AS row\n",
    "        CALL {\n",
    "            WITH row\n",
    "            MERGE (m:Merchant { id: row.IDDEST })\n",
    "            SET m.name = row.NAMEDEST\n",
    "            MERGE (c:Client { id: row.IDORIG })\n",
    "            MERGE (t:Transaction:CashIn { globalStep: row.GLOBALSTEP })\n",
    "            SET t.amount = toFloat(row.AMOUNT), t.isFraud = toBoolean(row.ISFRAUD)\n",
    "            MERGE (t)-[:TO]->(m)\n",
    "            MERGE (c)-[:PERFORMED]->(t)\n",
    "        } IN TRANSACTIONS OF 10 ROWS;\n",
    "    \"\"\"\n",
    "    )"
   ]
  },
  {
   "cell_type": "code",
   "execution_count": null,
   "metadata": {
    "id": "nwVnCVnCa-bG",
    "tags": []
   },
   "outputs": [],
   "source": [
    "if RELOAD_DATA:\n",
    "    # Load CashOut data\n",
    "    gds.run_cypher(\n",
    "    \"\"\"\n",
    "        LOAD CSV WITH HEADERS FROM \"https://raw.githubusercontent.com/neo4j-field/graph-summit-apac-2023/main/data/cashout.csv\" AS row\n",
    "        CALL {\n",
    "            WITH row\n",
    "            MERGE (m:Merchant { id: row.IDDEST })\n",
    "            SET m.name = row.NAMEDEST\n",
    "            MERGE (c:Client { id: row.IDORIG })\n",
    "            SET c.name = row.NAMEORIG\n",
    "            MERGE (t:Transaction:CashOut { globalStep: row.GLOBALSTEP })\n",
    "            SET t.amount = toFloat(row.AMOUNT), t.isFraud = toBoolean(row.ISFRAUD)\n",
    "            MERGE (t)-[:TO]->(m)\n",
    "            MERGE (c)-[:PERFORMED]->(t)\n",
    "        } IN TRANSACTIONS OF 10 ROWS;\n",
    "    \"\"\"\n",
    "    )"
   ]
  },
  {
   "cell_type": "code",
   "execution_count": null,
   "metadata": {
    "id": "a3rgtFjia-di",
    "tags": []
   },
   "outputs": [],
   "source": [
    "if RELOAD_DATA:\n",
    "    # Load Payment data\n",
    "    gds.run_cypher(\n",
    "    \"\"\"\n",
    "        LOAD CSV WITH HEADERS FROM \"https://raw.githubusercontent.com/neo4j-field/graph-summit-apac-2023/main/data/payment.csv\" AS row\n",
    "        CALL {\n",
    "            WITH row\n",
    "            MERGE (m:Merchant { id: row.IDDEST })\n",
    "            SET m.name = row.NAMEDEST\n",
    "            MERGE (c:Client { id: row.IDORIG })\n",
    "            SET c.name = row.NAMEORIG\n",
    "            MERGE (t:Transaction:Payment { globalStep: row.GLOBALSTEP })\n",
    "            SET t.amount = toFloat(row.AMOUNT), t.isFraud = toBoolean(row.ISFRAUD)\n",
    "            MERGE (t)-[:TO]->(m)\n",
    "            MERGE (c)-[:PERFORMED]->(t)\n",
    "            FOREACH (ignoreMe in CASE WHEN row.TYPEORIG = 'MULE' THEN [1] ELSE [] END | SET c :Mule)\n",
    "        } IN TRANSACTIONS OF 5 ROWS;\n",
    "    \"\"\"\n",
    "    )"
   ]
  },
  {
   "cell_type": "code",
   "execution_count": null,
   "metadata": {
    "id": "tt9gS2zNa-gX",
    "tags": []
   },
   "outputs": [],
   "source": [
    "if RELOAD_DATA:\n",
    "    # Load Transfer data\n",
    "    gds.run_cypher(\n",
    "    \"\"\"\n",
    "    LOAD CSV WITH HEADERS FROM \"https://raw.githubusercontent.com/neo4j-field/graph-summit-apac-2023/main/data/transfer.csv\" AS row\n",
    "    CALL {\n",
    "        WITH row\n",
    "        MERGE (cd:Client { id: row.IDDEST })\n",
    "        SET cd.name = row.NAMEDEST\n",
    "        MERGE (co:Client { id: row.IDORIG })\n",
    "        SET co.name = row.NAMEORIG\n",
    "        MERGE (t:Transaction:Transfer { globalStep: row.GLOBALSTEP })\n",
    "        SET t.amount = toFloat(row.AMOUNT), t.isFraud = toBoolean(row.ISFRAUD)\n",
    "        MERGE (t)-[:TO]->(cd)\n",
    "        MERGE (co)-[:PERFORMED]->(t)\n",
    "        FOREACH (ignoreMe in CASE WHEN row.TYPEDEST = 'MULE' THEN [1] ELSE [] END | SET cd :Mule)\n",
    "        FOREACH (ignoreMe in CASE WHEN row.TYPEORIG = 'MULE' THEN [1] ELSE [] END | SET co :Mule)\n",
    "    } IN TRANSACTIONS OF 5 ROWS;\n",
    "    \"\"\"\n",
    "    )"
   ]
  },
  {
   "cell_type": "markdown",
   "metadata": {},
   "source": [
    "Before updating the graph, you can check out the result with this command in Neo4j Browser (accessible from the Sandbox UI).  \n",
    "`CALL db.schema.visualization`  \n",
    "to see the data model from the data you have just loaded\n",
    "\n",
    "---\n",
    "### Enriching the graph\n",
    "\n",
    "Using the transaction details, we are able to enrich the model by adding the ordering of the transaction using the global step."
   ]
  },
  {
   "cell_type": "code",
   "execution_count": null,
   "metadata": {
    "id": "4o2iOkxVa-it",
    "tags": []
   },
   "outputs": [],
   "source": [
    "if RELOAD_DATA:\n",
    "    # Update data model with new relationships\n",
    "    gds.run_cypher(\n",
    "    \"\"\"\n",
    "    MATCH (c:Client) with c.id as clientId\n",
    "    CALL {\n",
    "        WITH clientId\n",
    "        MATCH (c:Client {id: clientId})-[:PERFORMED]->(tx:Transaction)\n",
    "        WITH c, tx ORDER BY tx.globalStep\n",
    "        WITH c, collect(tx) AS txs\n",
    "        WITH c, txs, head(txs) AS _start, last(txs) AS _last\n",
    "\n",
    "        MERGE (c)-[:FIRST_TX]->(_start)\n",
    "        MERGE (c)-[:LAST_TX]->(_last)\n",
    "        WITH c, apoc.coll.pairsMin(txs) AS pairs\n",
    "\n",
    "        UNWIND pairs AS pair\n",
    "          WITH pair[0] AS a, pair[1] AS b\n",
    "          MERGE (a)-[n:NEXT]->(b)\n",
    "    } IN TRANSACTIONS OF 10 ROWS;\n",
    "    \"\"\"\n",
    "    )"
   ]
  },
  {
   "cell_type": "markdown",
   "metadata": {},
   "source": [
    "### Having a first look at the dataset"
   ]
  },
  {
   "cell_type": "code",
   "execution_count": null,
   "metadata": {
    "tags": []
   },
   "outputs": [],
   "source": [
    "result = gds.run_cypher(\n",
    "    \"\"\"\n",
    "    CALL db.labels() YIELD label\n",
    "    CALL apoc.cypher.run('MATCH (:`'+label+'`) RETURN count(*) as freq',{}) YIELD value\n",
    "    WITH label,value.freq AS freq\n",
    "    CALL apoc.meta.stats() YIELD nodeCount\n",
    "    WITH *, 10^3 AS scaleFactor, toFloat(freq)/toFloat(nodeCount) AS relFreq\n",
    "    RETURN label AS nodeLabel,\n",
    "        freq AS frequency,\n",
    "        round(relFreq*scaleFactor)/scaleFactor AS relativeFrequency\n",
    "    ORDER BY freq DESC\n",
    "    \"\"\"\n",
    ")\n",
    "result"
   ]
  },
  {
   "cell_type": "markdown",
   "metadata": {},
   "source": [
    "### Let's have a look on how the money is exchanged across entities"
   ]
  },
  {
   "cell_type": "code",
   "execution_count": null,
   "metadata": {},
   "outputs": [],
   "source": [
    "result = gds.run_cypher(\n",
    "    \"\"\"\n",
    "    MATCH (t:Transaction)\n",
    "    WITH sum(t.amount) AS globalSum, count(t) AS globalCnt\n",
    "    WITH *, 10^3 AS scaleFactor\n",
    "    UNWIND ['CashIn', 'CashOut', 'Payment', 'Debit', 'Transfer'] AS txType\n",
    "        CALL apoc.cypher.run('MATCH (t:' + txType + ') RETURN sum(t.amount) as txAmount, count(t) AS txCnt', {}) YIELD value\n",
    "        RETURN txType,\n",
    "            value.txAmount AS TotalMarketValue,\n",
    "            100 * round(scaleFactor * (toFloat(value.txAmount) / toFloat(globalSum)))/scaleFactor AS `%MarketValue`,\n",
    "            100 * round(scaleFactor * (toFloat(value.txCnt) / toFloat(globalCnt)))/scaleFactor AS `%MarketTransactions`,\n",
    "            toInteger(toFloat(value.txAmount) / toFloat(value.txCnt)) AS AvgTransactionValue,\n",
    "            value.txCnt AS NumberOfTransactions\n",
    "        ORDER BY `%MarketTransactions` DESC\n",
    "    \"\"\"\n",
    ")\n",
    "result"
   ]
  },
  {
   "cell_type": "markdown",
   "metadata": {},
   "source": [
    "---\n",
    "### Let's do some data science \n",
    "\n",
    "Now that our graph is constructed and filled with data, we can start our analysis.  \n",
    "\n",
    "We will use the [Weakly Connected Components](https://neo4j.com/docs/graph-data-science/current/algorithms/wcc/) algorithm to investigate.  \n",
    "\n",
    "---"
   ]
  },
  {
   "cell_type": "code",
   "execution_count": null,
   "metadata": {
    "id": "1RIXaXRFbazk",
    "tags": []
   },
   "outputs": [],
   "source": [
    "# My first graph project name to use wcc algorithm\n",
    "graphName = 'wccGroups'\n",
    "# We will focus on fraud group above 5 members\n",
    "fraudGroupMinSize = 3"
   ]
  },
  {
   "cell_type": "code",
   "execution_count": null,
   "metadata": {
    "id": "OtUtta8EqVEf",
    "tags": []
   },
   "outputs": [],
   "source": [
    "# Remove existing projection with the same name, in case of a re run of the notebook\n",
    "if gds.graph.exists(graphName).exists:\n",
    "    gds.graph.drop(gds.graph.get(graphName))"
   ]
  },
  {
   "cell_type": "markdown",
   "metadata": {},
   "source": [
    "### Lets' find first party fraud\n",
    "\n",
    "By checking connections among clients, we can identify fake profiles and shady clients.  \n",
    "We will start with a memory estimate of our projection.  "
   ]
  },
  {
   "cell_type": "code",
   "execution_count": null,
   "metadata": {
    "tags": []
   },
   "outputs": [],
   "source": [
    "gds.graph.project.estimate(\n",
    "    ['Client', 'SSN', 'Email', 'Phone'],     # Nodes to be added in the projection\n",
    "    ['HAS_SSN', 'HAS_EMAIL', 'HAS_PHONE'])   # Relationships to be added in the projection"
   ]
  },
  {
   "cell_type": "markdown",
   "metadata": {},
   "source": [
    "### We will create the projection to be used\n",
    "\n",
    "We will use the variable _projection_ in our notebook. If you want to use it in Neo4j Browser, you can run "
   ]
  },
  {
   "cell_type": "code",
   "execution_count": null,
   "metadata": {
    "id": "jg8EWiKaqVHO",
    "tags": []
   },
   "outputs": [],
   "source": [
    "projection, projectionPandas = gds.graph.project(graphName, ['Client', 'SSN', 'Email', 'Phone'], ['HAS_SSN', 'HAS_EMAIL', 'HAS_PHONE'])\n",
    "projectionPandas"
   ]
  },
  {
   "cell_type": "markdown",
   "metadata": {},
   "source": [
    "### Before running the algorithm, we estimate the memory needed to execute it"
   ]
  },
  {
   "cell_type": "code",
   "execution_count": null,
   "metadata": {
    "tags": []
   },
   "outputs": [],
   "source": [
    "gds.wcc.stream.estimate(projection)"
   ]
  },
  {
   "cell_type": "markdown",
   "metadata": {},
   "source": [
    "### Let's check how the algorithm will find community in the projection"
   ]
  },
  {
   "cell_type": "code",
   "execution_count": null,
   "metadata": {
    "colab": {
     "base_uri": "https://localhost:8080/",
     "height": 394
    },
    "id": "j7dls0G-qVMN",
    "outputId": "ea568b15-21d0-404c-a908-0d76bfc25fa9",
    "tags": []
   },
   "outputs": [],
   "source": [
    "result = gds.wcc.stream(projection)\n",
    "result.head(10)"
   ]
  },
  {
   "cell_type": "code",
   "execution_count": null,
   "metadata": {
    "tags": []
   },
   "outputs": [],
   "source": [
    "result.groupby(['componentId']).count().sort_values('nodeId', ascending=False).head(10)"
   ]
  },
  {
   "cell_type": "markdown",
   "metadata": {},
   "source": [
    "### Let's populate the graph with a new property to represent the community detected by the wcc algorithm."
   ]
  },
  {
   "cell_type": "code",
   "execution_count": null,
   "metadata": {
    "colab": {
     "base_uri": "https://localhost:8080/"
    },
    "id": "Z2NF86MlzHVR",
    "outputId": "dada8627-55e7-42ab-91ca-26296e4d19b2",
    "tags": []
   },
   "outputs": [],
   "source": [
    "#result_wcc = gds.wcc.write(projection, writeProperty='fraud_group')\n",
    "#result_wcc\n",
    "\n",
    "result_wcc = gds.run_cypher(\"\"\"\n",
    "CALL gds.wcc.stream('\"\"\" + graphName + \"\"\"') YIELD nodeId, componentId\n",
    "WITH componentId, collect(gds.util.asNode(nodeId).id) AS clientIds       // Fetch the Node instance from the db and use its PaySim id\n",
    "WITH *, size(clientIds) AS groupSize WHERE groupSize > 1                 // Note that in this case, clients is a list of paysim ids.\n",
    "UNWIND clientIds AS clientId                                             // Let's unwind the list, MATCH, and tag them individually.\n",
    "    MATCH (c:Client {id:clientId})\n",
    "    SET c.fraud_group = componentId;\n",
    "\"\"\")\n",
    "result_wcc"
   ]
  },
  {
   "cell_type": "code",
   "execution_count": null,
   "metadata": {
    "colab": {
     "base_uri": "https://localhost:8080/",
     "height": 49
    },
    "id": "7d0hPxuYzHX3",
    "outputId": "9e0895f1-8f65-4b5f-c5ca-0bdf42ff6c45",
    "tags": []
   },
   "outputs": [],
   "source": [
    "# Create an index on the new property just created by the wcc algorithm on Clients\n",
    "gds.run_cypher(\"CREATE INDEX ClientFraudIndex IF NOT EXISTS FOR (c:Client) on c.fraud_group;\")"
   ]
  },
  {
   "cell_type": "code",
   "execution_count": null,
   "metadata": {
    "colab": {
     "base_uri": "https://localhost:8080/",
     "height": 363
    },
    "id": "IFvM5X4KzHaJ",
    "outputId": "740dab9c-9124-432f-82d2-4fad1665a524",
    "tags": []
   },
   "outputs": [],
   "source": [
    "# Look at the community created by the algorithm\n",
    "# We can see the biggest community has 16 elements\n",
    "result = gds.run_cypher(\"\"\"\n",
    "  MATCH (c:Client) WHERE c.fraud_group IS NOT NULL\n",
    "  WITH c.fraud_group AS groupId, collect(c.id) AS members\n",
    "  WITH groupId, size(members) AS groupSize\n",
    "  WITH collect(groupId) AS groupsOfSize, groupSize\n",
    "  RETURN groupSize, size(groupsOfSize) AS numOfGroups, groupsOfSize as FraudGroupIds\n",
    "  ORDER BY groupSize DESC;\n",
    "\"\"\")\n",
    "result.head(10)"
   ]
  },
  {
   "cell_type": "markdown",
   "metadata": {},
   "source": [
    "# Look at the large community in Neo4j Browser\n",
    "Run this Cypher query in Neo4j Browser to visualize the two largest communities.  \n",
    "\n",
    "`MATCH (c:Client)-[r:HAS_PHONE|HAS_EMAIL|HAS_PHONE]->(n) WHERE c.fraud_group IN [4103, 4104, 4114] RETURN c,r,n`  \n",
    "or just to see large groups  \n",
    "`MATCH (c:Client) WHERE c.fraud_group IS NOT NULL\n",
    "WITH c.fraud_group AS groupId, collect(c.id) AS members\n",
    "WITH *, size(members) AS groupSize WHERE groupSize > 7\n",
    "MATCH p=(c:Client {fraud_group:groupId})-[:HAS_SSN|HAS_EMAIL|HAS_PHONE]->()\n",
    "RETURN p`"
   ]
  },
  {
   "cell_type": "code",
   "execution_count": null,
   "metadata": {
    "colab": {
     "base_uri": "https://localhost:8080/",
     "height": 112
    },
    "id": "gan-K2JOdvsr",
    "outputId": "99097d3d-5fb5-432f-ce38-ce5bb7ec9035",
    "tags": []
   },
   "outputs": [],
   "source": [
    "result = gds.run_cypher(\"\"\"\n",
    "  MATCH (c:Client) WHERE c.fraud_group IS NOT NULL\n",
    "  WITH c.fraud_group AS groupId, collect(c.id) AS members\n",
    "  WITH groupId, size(members) AS groupSize WHERE groupSize > $gs\n",
    "  MATCH (:Client {fraud_group:groupId})-[]-(txn:Transaction)-[]-(c:Client)      \n",
    "  WHERE c.fraud_group IS NULL\n",
    "  UNWIND labels(txn) AS txnType                                                 \n",
    "  RETURN distinct(txnType), count(txnType);\n",
    "\"\"\", params= {'gs': fraudGroupMinSize} )\n",
    "result"
   ]
  },
  {
   "cell_type": "markdown",
   "metadata": {},
   "source": [
    "### Let's create a new property to identify suspect clients"
   ]
  },
  {
   "cell_type": "code",
   "execution_count": null,
   "metadata": {
    "colab": {
     "base_uri": "https://localhost:8080/",
     "height": 81
    },
    "id": "vVzy325Hdvu-",
    "outputId": "379bb171-6001-4739-e0e7-bad10308e000",
    "tags": []
   },
   "outputs": [],
   "source": [
    "result = gds.run_cypher(\"\"\"\n",
    "  MATCH (c:Client) WHERE c.fraud_group IS NOT NULL\n",
    "  WITH c.fraud_group AS groupId, collect(c.id) AS members\n",
    "  WITH groupId, size(members) AS groupSize WHERE groupSize > $gs\n",
    "  MATCH (c1:Client {fraud_group:groupId})-[]-(t:Transaction)-[]-(c2:Client)     \n",
    "  WHERE c2.fraud_group IS NULL\n",
    "  SET c1.suspect = true, c2.suspect = true                                      \n",
    "  MERGE (c1)-[r:TRANSACTED_WITH]->(c2)                                          \n",
    "  ON CREATE SET r += t\n",
    "  RETURN count(r);\n",
    "\"\"\", params= {'gs': fraudGroupMinSize})\n",
    "result"
   ]
  },
  {
   "cell_type": "markdown",
   "metadata": {},
   "source": [
    "### We found some suspect transactions, let's investigate them using again wcc"
   ]
  },
  {
   "cell_type": "code",
   "execution_count": null,
   "metadata": {
    "tags": []
   },
   "outputs": [],
   "source": [
    "graphName2 = 'wccGroups2'"
   ]
  },
  {
   "cell_type": "code",
   "execution_count": null,
   "metadata": {
    "id": "ObHYE5frdvxg",
    "tags": []
   },
   "outputs": [],
   "source": [
    "# Remove existing graph with the same name\n",
    "if gds.graph.exists(graphName2).exists:\n",
    "    gds.graph.drop(gds.graph.get(graphName2))"
   ]
  },
  {
   "cell_type": "markdown",
   "metadata": {},
   "source": [
    "### Creating a new projection using only suspect clients"
   ]
  },
  {
   "cell_type": "code",
   "execution_count": null,
   "metadata": {
    "id": "yzo487KpkRGh",
    "tags": []
   },
   "outputs": [],
   "source": [
    "projection2, projectionPandas2 = gds.graph.project.cypher(graphName2, \n",
    "          'MATCH (c:Client {suspect:true}) RETURN id(c) AS id', \n",
    "          'MATCH (c1:Client {suspect:true})-[r:TRANSACTED_WITH]->(c2:Client) RETURN id(c1) AS source, id(c2) as target')\n",
    "projectionPandas2"
   ]
  },
  {
   "cell_type": "code",
   "execution_count": null,
   "metadata": {
    "id": "__-LyayFkRLD",
    "tags": []
   },
   "outputs": [],
   "source": [
    "result = gds.wcc.write(projection2, writeProperty='fraud_group_2');"
   ]
  },
  {
   "cell_type": "code",
   "execution_count": null,
   "metadata": {
    "colab": {
     "base_uri": "https://localhost:8080/",
     "height": 49
    },
    "id": "iFgy6whHk0MK",
    "outputId": "1485b417-20b5-4aa2-9f61-9f8942bd3a09",
    "tags": []
   },
   "outputs": [],
   "source": [
    "# Create an index on the new property\n",
    "gds.run_cypher(\"CREATE INDEX ClientFraud2Index IF NOT EXISTS FOR (c:Client) on c.fraud_group_2;\")"
   ]
  },
  {
   "cell_type": "code",
   "execution_count": null,
   "metadata": {
    "colab": {
     "base_uri": "https://localhost:8080/",
     "height": 206
    },
    "id": "uTHK8ZwXk0Pz",
    "outputId": "9978be1c-bae1-4ef2-8a2c-aef4f0388237",
    "tags": []
   },
   "outputs": [],
   "source": [
    "result = gds.run_cypher(\"\"\"\n",
    "MATCH (c:Client) WHERE c.fraud_group_2 IS NOT NULL\n",
    "WITH c.fraud_group_2 AS secondGroupId, collect(c.id) AS members\n",
    "RETURN secondGroupId, size(members) AS groupSize\n",
    "ORDER BY groupSize DESC;\n",
    "\"\"\")\n",
    "result.head(5)"
   ]
  },
  {
   "cell_type": "code",
   "execution_count": null,
   "metadata": {
    "tags": []
   },
   "outputs": [],
   "source": [
    "graphName3 = 'betweenness'"
   ]
  },
  {
   "cell_type": "code",
   "execution_count": null,
   "metadata": {
    "id": "G_K6ZaMJlOdv",
    "tags": []
   },
   "outputs": [],
   "source": [
    "# Remove existing graph with the same name\n",
    "if gds.graph.exists(graphName3).exists:\n",
    "    gds.graph.drop(gds.graph.get(graphName3))"
   ]
  },
  {
   "cell_type": "code",
   "execution_count": null,
   "metadata": {
    "id": "ICdNnyXylOgQ",
    "tags": []
   },
   "outputs": [],
   "source": [
    "projection3, projectionPandas3 = gds.graph.project.cypher(graphName3, \n",
    "    'MATCH (c:Client) WHERE c.fraud_group_2 IS NOT NULL WITH c.fraud_group_2 AS secondGroupId, collect(c.id) AS members WITH secondGroupId, size(members) AS groupSize ORDER BY groupSize DESC LIMIT 1 WITH secondGroupId MATCH (c:Client {fraud_group_2:secondGroupId})-[r:TRANSACTED_WITH]-(c2:Client) RETURN id(c) AS id',\n",
    "    'MATCH (c:Client) WHERE c.fraud_group_2 IS NOT NULL WITH c.fraud_group_2 AS secondGroupId, collect(c.id) AS members WITH secondGroupId, size(members) AS groupSize ORDER BY groupSize DESC LIMIT 1 WITH secondGroupId MATCH (c1:Client {fraud_group_2:secondGroupId})-[:TRANSACTED_WITH]-(c2:Client) RETURN id(c1) AS source, id(c2) AS target'\n",
    ")"
   ]
  },
  {
   "cell_type": "code",
   "execution_count": null,
   "metadata": {
    "colab": {
     "base_uri": "https://localhost:8080/"
    },
    "id": "jvqNUkDglOio",
    "outputId": "062c3f10-abd3-4f67-cdbb-4a1bbdeff8ad",
    "tags": []
   },
   "outputs": [],
   "source": [
    "#Graph Projection Stats from Pandas object\n",
    "print(projectionPandas3)"
   ]
  },
  {
   "cell_type": "code",
   "execution_count": null,
   "metadata": {
    "colab": {
     "base_uri": "https://localhost:8080/"
    },
    "id": "ploAIAQPlizR",
    "outputId": "203c451b-b758-4bde-fd19-047dff602038",
    "tags": []
   },
   "outputs": [],
   "source": [
    "result = gds.betweenness.write(projection3, writeProperty='score')\n",
    "result"
   ]
  },
  {
   "cell_type": "code",
   "execution_count": null,
   "metadata": {
    "colab": {
     "base_uri": "https://localhost:8080/",
     "height": 300
    },
    "id": "aj02mhKIlx67",
    "outputId": "780e62c3-4090-4367-a977-ba187360cc50",
    "tags": []
   },
   "outputs": [],
   "source": [
    "gds.run_cypher(\"\"\"\n",
    "  CALL gds.betweenness.stream('betweenness') YIELD nodeId, score\n",
    "  WITH gds.util.asNode(nodeId) AS c, score WHERE score > 0                       // Filter 0 scores again\n",
    "  MATCH (c)-[r:TRANSACTED_WITH]-(:Client)                                        // Retrieve the relationships\n",
    "  WITH c.name AS name, score, collect(r) AS txns                                 // Collect and count the number of relationships\n",
    "  WITH name, score AS original, score/size(txns) AS newScore\n",
    "  RETURN name, newScore, original ORDER BY newScore DESC;  \n",
    "\"\"\")"
   ]
  },
  {
   "cell_type": "code",
   "execution_count": null,
   "metadata": {},
   "outputs": [],
   "source": []
  }
 ],
 "metadata": {
  "colab": {
   "authorship_tag": "ABX9TyOiPOIwDvHXAbwXfUP4II87",
   "include_colab_link": true,
   "provenance": []
  },
  "kernelspec": {
   "display_name": "Python 3 (ipykernel)",
   "language": "python",
   "name": "python3"
  },
  "language_info": {
   "codemirror_mode": {
    "name": "ipython",
    "version": 3
   },
   "file_extension": ".py",
   "mimetype": "text/x-python",
   "name": "python",
   "nbconvert_exporter": "python",
   "pygments_lexer": "ipython3",
   "version": "3.10.9"
  }
 },
 "nbformat": 4,
 "nbformat_minor": 4
}
