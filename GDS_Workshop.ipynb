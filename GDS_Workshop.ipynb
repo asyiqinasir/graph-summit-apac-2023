{
 "cells": [
  {
   "cell_type": "markdown",
   "metadata": {},
   "source": [
    "# Graph Data Science workshop with Neo4j\n",
    "\n",
    "Click on the link below to open a Colab version of the notebook. You will be able to create your own version."
   ]
  },
  {
   "cell_type": "markdown",
   "metadata": {
    "id": "JAPoU8Sm5E6e"
   },
   "source": [
    "<table align=\"left\">\n",
    "\n",
    "  <td>\n",
    "    <a href=\"https://colab.research.google.com/github/neo4j-field/graph-summit-apac-2023/blob/main/GDS_Workshop.ipynb\" target=\"_blank\">\n",
    "      <img src=\"https://cloud.google.com/ml-engine/images/colab-logo-32px.png\" alt=\"Colab logo\">Run your own notebook in Colab\n",
    "    </a>\n",
    "  </td>\n",
    "</table>"
   ]
  },
  {
   "cell_type": "markdown",
   "metadata": {},
   "source": [
    "---\n",
    "## Target\n",
    "\n",
    "Do fraud analysis on a group of persons and transactions using graphs and data science.  \n",
    "\n",
    "## Context\n",
    "\n",
    "This notebook allows you load a dataset based on an updated version of [Paysim](https://www.sisu.io/posts/paysim/).  \n",
    "PaySim is an approximation using an agent-based model and some anonymized, aggregate transactional data from a real mobile money network operator to create synthetic financial data sets academics and hackers can use for exploring ways to detect fraudulent behavior.  \n",
    "Using this [code](https://github.com/voutilad/paysim), you can generate your own dataset with different caracteristics (size, fraud occurences...).    \n",
    "\n",
    "We're going to leverage [Neo4j Graph Data Science (GDS)](https://neo4j.com/docs/graph-data-science/current/algorithms/) to investigate through the data and find out fraud patterns and fraudsters.  \n",
    "\n",
    "## Dataset\n",
    "\n",
    "The dataset used in this notebook represents money transafers between around 2500 clients, 75 merchants, 5 banks with 175000 transactions across 30 days.  \n",
    "There are 5 types of transactions:  \n",
    "* CashIn: a client moves money into the network via a merchant\n",
    "* CashOut: a client moves money out of the network via a merchant\n",
    "* Debit: a client moves money into a bank\n",
    "* Transfer: a client sends money to another client\n",
    "* Payment: a client exchanges money for something via a merchant\n",
    "\n",
    "We will try to identify Clients which are fraudsters, trying to target other clients by taking their money below limits ot be unnoticed.  \n",
    "We added from the the original Paysim some clients details (Phone, Email, SSN) to identify fake profiles too.  \n",
    "\n",
    "---\n",
    "\n",
    "## Let's get a graph database\n",
    "\n",
    "We will use a Neo4j graph database created on the [Neo4j sandbox](https://neo4j.com/sandbox/).  \n",
    "Once connected, on the _Select a project_ page, go to the section _Your own data_ and select the _Blank Sandbox_.  \n",
    "Click on the _Create_ button at the bottom of the page.  \n",
    "After few seconds, you should see the below.  \n",
    "<img src=\"./img/sandbox_start.png\" alt=\"Sandbox Start\" width=\"50%\" height=\"50%\" title=\"Sandbox Start\">  \n",
    "\n",
    "And once it's up and running, you can access the connection details by clicking on the top right down arrow and picking the *Connection details* tab.  \n",
    "You will need 2 things:\n",
    "* Password  \n",
    "* Bolt URL   \n",
    "\n",
    "<img src=\"./img/sandbox_details.png\" alt=\"Sandbox Details\" width=\"50%\" height=\"50%\" title=\"Sandbox Details\">  \n",
    "\n",
    "---\n",
    "\n",
    "## Let's code\n",
    "\n",
    "First we will import the [Neo4j GDS python library](https://pypi.org/project/graphdatascience/)  "
   ]
  },
  {
   "cell_type": "code",
   "execution_count": 1,
   "metadata": {
    "execution": {
     "iopub.execute_input": "2023-04-13T08:04:21.288546Z",
     "iopub.status.busy": "2023-04-13T08:04:21.287552Z",
     "iopub.status.idle": "2023-04-13T08:04:24.879756Z",
     "shell.execute_reply": "2023-04-13T08:04:24.878781Z",
     "shell.execute_reply.started": "2023-04-13T08:04:21.287552Z"
    },
    "id": "D3z2cYxEUpWJ",
    "tags": []
   },
   "outputs": [
    {
     "name": "stdout",
     "output_type": "stream",
     "text": [
      "Requirement already satisfied: graphdatascience in c:\\users\\xavier.pilas\\anaconda3\\envs\\neo4j\\lib\\site-packages (1.6)\n",
      "Requirement already satisfied: multimethod<2.0,>=1.0 in c:\\users\\xavier.pilas\\anaconda3\\envs\\neo4j\\lib\\site-packages (from graphdatascience) (1.9)\n",
      "Requirement already satisfied: neo4j<6.0,>=4.4.2 in c:\\users\\xavier.pilas\\anaconda3\\envs\\neo4j\\lib\\site-packages (from graphdatascience) (5.5.0)\n",
      "Requirement already satisfied: pandas<2.0,>=1.0 in c:\\users\\xavier.pilas\\anaconda3\\envs\\neo4j\\lib\\site-packages (from graphdatascience) (1.5.0)\n",
      "Requirement already satisfied: tqdm<5.0,>=4.0 in c:\\users\\xavier.pilas\\anaconda3\\envs\\neo4j\\lib\\site-packages (from graphdatascience) (4.64.1)\n",
      "Requirement already satisfied: pyarrow<11.0,>=4.0 in c:\\users\\xavier.pilas\\anaconda3\\envs\\neo4j\\lib\\site-packages (from graphdatascience) (9.0.0)\n",
      "Requirement already satisfied: pytz in c:\\users\\xavier.pilas\\anaconda3\\envs\\neo4j\\lib\\site-packages (from neo4j<6.0,>=4.4.2->graphdatascience) (2022.7)\n",
      "Requirement already satisfied: python-dateutil>=2.8.1 in c:\\users\\xavier.pilas\\anaconda3\\envs\\neo4j\\lib\\site-packages (from pandas<2.0,>=1.0->graphdatascience) (2.8.2)\n",
      "Requirement already satisfied: numpy>=1.21.0 in c:\\users\\xavier.pilas\\anaconda3\\envs\\neo4j\\lib\\site-packages (from pandas<2.0,>=1.0->graphdatascience) (1.23.3)\n",
      "Requirement already satisfied: colorama in c:\\users\\xavier.pilas\\anaconda3\\envs\\neo4j\\lib\\site-packages (from tqdm<5.0,>=4.0->graphdatascience) (0.4.6)\n",
      "Requirement already satisfied: six>=1.5 in c:\\users\\xavier.pilas\\anaconda3\\envs\\neo4j\\lib\\site-packages (from python-dateutil>=2.8.1->pandas<2.0,>=1.0->graphdatascience) (1.16.0)\n"
     ]
    }
   ],
   "source": [
    "# Install Neo4j GDS Python Client\n",
    "import sys\n",
    "!{sys.executable} -m pip install graphdatascience"
   ]
  },
  {
   "cell_type": "code",
   "execution_count": 2,
   "metadata": {
    "execution": {
     "iopub.execute_input": "2023-04-13T08:04:24.880756Z",
     "iopub.status.busy": "2023-04-13T08:04:24.880756Z",
     "iopub.status.idle": "2023-04-13T08:04:25.972719Z",
     "shell.execute_reply": "2023-04-13T08:04:25.971884Z",
     "shell.execute_reply.started": "2023-04-13T08:04:24.880756Z"
    },
    "id": "nqPnRkIfWTor",
    "tags": []
   },
   "outputs": [],
   "source": [
    "from graphdatascience import GraphDataScience"
   ]
  },
  {
   "cell_type": "markdown",
   "metadata": {},
   "source": [
    "### Instantiate your GDS Session\n",
    "\n",
    "Use Neo4j/Bolt URI and credentials according to your setup  \n",
    "\n",
    "For local standalone instance Bolt connection without auth    \n",
    "`gds = GraphDataScience(\"bolt://localhost:7687\", auth=None)`  \n",
    "\n",
    "For local standalone instance Bolt connection with auth    \n",
    "`gds = GraphDataScience(\"bolt://localhost:7687\", auth=(\"neo4j\", \"<password>\"))`  \n",
    "\n",
    "For remote cluster Neo4j connection with auth  \n",
    "`gds = GraphDataScience(\"neo4j://<FQDN or IP Address>:7687\", auth=(\"neo4j\", \"<password>\"))`  \n",
    "\n",
    "For remote standalone instance Bolt connection with auth   \n",
    "`gds = GraphDataScience(\"bolt://<FQDN or IP Address>:7687\", auth=(\"neo4j\", \"<password>\"))` "
   ]
  },
  {
   "cell_type": "code",
   "execution_count": 3,
   "metadata": {
    "execution": {
     "iopub.execute_input": "2023-04-13T08:04:25.974713Z",
     "iopub.status.busy": "2023-04-13T08:04:25.973713Z",
     "iopub.status.idle": "2023-04-13T08:04:28.135198Z",
     "shell.execute_reply": "2023-04-13T08:04:28.133238Z",
     "shell.execute_reply.started": "2023-04-13T08:04:25.974713Z"
    },
    "id": "xi7xemCCWTwZ",
    "tags": []
   },
   "outputs": [],
   "source": [
    "gds = GraphDataScience(\"bolt://3.231.156.13:7687\", auth=(\"neo4j\", \"integrity-crusts-friction\")) # >> Update the password and the URL here <<"
   ]
  },
  {
   "cell_type": "markdown",
   "metadata": {},
   "source": [
    "### Check the GDS version installed"
   ]
  },
  {
   "cell_type": "code",
   "execution_count": 4,
   "metadata": {
    "colab": {
     "base_uri": "https://localhost:8080/"
    },
    "execution": {
     "iopub.execute_input": "2023-04-13T08:04:28.139094Z",
     "iopub.status.busy": "2023-04-13T08:04:28.138195Z",
     "iopub.status.idle": "2023-04-13T08:04:28.414528Z",
     "shell.execute_reply": "2023-04-13T08:04:28.413612Z",
     "shell.execute_reply.started": "2023-04-13T08:04:28.139094Z"
    },
    "id": "u3TcuHHHWTzR",
    "outputId": "622f8dc2-61b4-44b7-e028-be995db0dbed",
    "tags": []
   },
   "outputs": [
    {
     "name": "stdout",
     "output_type": "stream",
     "text": [
      "Neo4j GDS Version: 2.3.1\n"
     ]
    }
   ],
   "source": [
    "print(f\"Neo4j GDS Version: {gds.version()}\")"
   ]
  },
  {
   "cell_type": "markdown",
   "metadata": {},
   "source": [
    "### Optional - Set database if you're not using the default _neo4j_ database. \n",
    "\n",
    "Not applicable for AuraDS, Neo4j Desktop and Neo4j Sandbox as we have only one database named _neo4j_."
   ]
  },
  {
   "cell_type": "code",
   "execution_count": 5,
   "metadata": {
    "execution": {
     "iopub.execute_input": "2023-04-13T08:04:28.416506Z",
     "iopub.status.busy": "2023-04-13T08:04:28.416506Z",
     "iopub.status.idle": "2023-04-13T08:04:28.429581Z",
     "shell.execute_reply": "2023-04-13T08:04:28.429581Z",
     "shell.execute_reply.started": "2023-04-13T08:04:28.416506Z"
    },
    "id": "jNfTsoQKWpXt",
    "tags": []
   },
   "outputs": [],
   "source": [
    "#gds.set_database(\"my-db\")"
   ]
  },
  {
   "cell_type": "markdown",
   "metadata": {},
   "source": [
    "### Mark it to True if you want to erase all the data in the db and reload all.\n",
    "If it is marked False, only the GDS properties will be remove, making the database ready for a rerun."
   ]
  },
  {
   "cell_type": "code",
   "execution_count": 6,
   "metadata": {
    "execution": {
     "iopub.execute_input": "2023-04-13T08:04:28.431528Z",
     "iopub.status.busy": "2023-04-13T08:04:28.430595Z",
     "iopub.status.idle": "2023-04-13T08:04:28.446512Z",
     "shell.execute_reply": "2023-04-13T08:04:28.445580Z",
     "shell.execute_reply.started": "2023-04-13T08:04:28.431528Z"
    },
    "id": "L1VaJViHa6TX",
    "tags": []
   },
   "outputs": [],
   "source": [
    "RELOAD_DATA = True"
   ]
  },
  {
   "cell_type": "markdown",
   "metadata": {},
   "source": [
    "### Cleaning the database or making it ready for a rerun of the notebook.\n",
    "Then we will use it to load the data from CSV files, running [Cypher](https://neo4j.com/developer/cypher/) queries.  "
   ]
  },
  {
   "cell_type": "code",
   "execution_count": 7,
   "metadata": {
    "execution": {
     "iopub.execute_input": "2023-04-13T08:04:28.449528Z",
     "iopub.status.busy": "2023-04-13T08:04:28.448520Z",
     "iopub.status.idle": "2023-04-13T08:04:28.742382Z",
     "shell.execute_reply": "2023-04-13T08:04:28.741424Z",
     "shell.execute_reply.started": "2023-04-13T08:04:28.449528Z"
    },
    "id": "BZ-Bk77eWpac",
    "tags": []
   },
   "outputs": [],
   "source": [
    "if RELOAD_DATA: # Delete all, takes few miniutes on a full database\n",
    "    gds.run_cypher(\n",
    "        \"\"\"\n",
    "        MATCH (n) CALL {\n",
    "          WITH n\n",
    "          DETACH DELETE n\n",
    "        } IN TRANSACTIONS OF 10 ROWS;\n",
    "        \"\"\"\n",
    "    )\n",
    "else: # Reset the GDS properties when we re run the book without erasing all\n",
    "    gds.run_cypher(\n",
    "        \"\"\"\n",
    "        MATCH (c:Client) SET c.fraud_group = null, c.fraud_group_2 = null, c.score = null;\n",
    "        \"\"\"\n",
    "    )"
   ]
  },
  {
   "cell_type": "markdown",
   "metadata": {
    "execution": {
     "iopub.execute_input": "2023-04-12T07:09:48.034862Z",
     "iopub.status.busy": "2023-04-12T07:09:48.034711Z",
     "iopub.status.idle": "2023-04-12T07:09:48.056279Z",
     "shell.execute_reply": "2023-04-12T07:09:48.055279Z",
     "shell.execute_reply.started": "2023-04-12T07:09:48.034862Z"
    }
   },
   "source": [
    "### Loading the data\n",
    "\n",
    "Using [LOAD CSV](https://neo4j.com/docs/cypher-manual/current/clauses/load-csv/), we are loading csv files into the database, creationg the graph on the fly.  \n",
    "The first cell is to test the file access, by reading it and showing only the first 5 rows.  "
   ]
  },
  {
   "cell_type": "code",
   "execution_count": 8,
   "metadata": {
    "execution": {
     "iopub.execute_input": "2023-04-13T08:04:28.744387Z",
     "iopub.status.busy": "2023-04-13T08:04:28.744387Z",
     "iopub.status.idle": "2023-04-13T08:04:29.196122Z",
     "shell.execute_reply": "2023-04-13T08:04:29.194117Z",
     "shell.execute_reply.started": "2023-04-13T08:04:28.744387Z"
    },
    "id": "T_STaebhWpcy",
    "tags": []
   },
   "outputs": [],
   "source": [
    "# Checking if we can access the data\n",
    "if RELOAD_DATA:\n",
    "    nodeListCSV = gds.run_cypher(\n",
    "    \"\"\"\n",
    "    LOAD CSV WITH HEADERS FROM \"https://raw.githubusercontent.com/neo4j-field/graph-summit-apac-2023/main/data/clients.csv\" AS row\n",
    "    RETURN row limit 5\n",
    "    \"\"\"\n",
    "    )\n",
    "    # The object returned is a Pandas Data Frame, so we can explore using standard Pandas methods\n",
    "    # The output is not what we expected but remember here were reading the CSV file and loading it into the Data Frame\n",
    "    nodeListCSV.head(5)"
   ]
  },
  {
   "cell_type": "markdown",
   "metadata": {},
   "source": [
    "### Creating constraints\n",
    "\n",
    "For data integrity, we will create [constraints](https://neo4j.com/docs/cypher-manual/current/constraints/) to have a robust graph data model."
   ]
  },
  {
   "cell_type": "code",
   "execution_count": 9,
   "metadata": {
    "execution": {
     "iopub.execute_input": "2023-04-13T08:04:29.199123Z",
     "iopub.status.busy": "2023-04-13T08:04:29.198124Z",
     "iopub.status.idle": "2023-04-13T08:04:32.539906Z",
     "shell.execute_reply": "2023-04-13T08:04:32.537918Z",
     "shell.execute_reply.started": "2023-04-13T08:04:29.199123Z"
    },
    "id": "931Nv3tbaOOO",
    "tags": []
   },
   "outputs": [],
   "source": [
    "if RELOAD_DATA:\n",
    "    # First we create index\n",
    "    CONSTRAINTS = [\n",
    "      \"CREATE CONSTRAINT ClientConstraint IF NOT EXISTS FOR (p:Client) REQUIRE p.id IS UNIQUE;\",\n",
    "      \"CREATE CONSTRAINT MuleConstraint IF NOT EXISTS FOR (p:Mule) REQUIRE p.id IS UNIQUE;\",\n",
    "      \"CREATE CONSTRAINT EmailConstraint IF NOT EXISTS FOR (p:Email) REQUIRE p.email IS UNIQUE;\",\n",
    "      \"CREATE CONSTRAINT PhoneConstraint IF NOT EXISTS FOR (p:Phone) REQUIRE p.phoneNumber IS UNIQUE;\",\n",
    "      \"CREATE CONSTRAINT SSNConstraint IF NOT EXISTS FOR (p:SSN) REQUIRE p.ssn IS UNIQUE;\",\n",
    "      \"CREATE CONSTRAINT MerchantConstraint IF NOT EXISTS FOR (p:Merchant) REQUIRE p.id IS UNIQUE;\",\n",
    "      \"CREATE CONSTRAINT BankConstraint IF NOT EXISTS FOR (p:Bank) REQUIRE p.id IS UNIQUE;\",\n",
    "      \"CREATE CONSTRAINT TransactionConstraint IF NOT EXISTS FOR (p:Transaction) REQUIRE p.globalStep IS UNIQUE;\",\n",
    "      \"CREATE CONSTRAINT DebitConstraint IF NOT EXISTS FOR (p:Transaction) REQUIRE p.globalStep IS UNIQUE;\",\n",
    "      \"CREATE CONSTRAINT CashInConstraint IF NOT EXISTS FOR (p:CashIn) REQUIRE p.globalStep IS UNIQUE;\",\n",
    "      \"CREATE CONSTRAINT CashOutConstraint IF NOT EXISTS FOR (p:CashOut) REQUIRE p.globalStep IS UNIQUE;\",\n",
    "      \"CREATE CONSTRAINT TransferConstraint IF NOT EXISTS FOR (p:Transfer) REQUIRE p.globalStep IS UNIQUE;\",\n",
    "      \"CREATE CONSTRAINT PaymentConstraint IF NOT EXISTS FOR (p:Payment) REQUIRE p.globalStep IS UNIQUE;\"\n",
    "    ]\n",
    "    for c in CONSTRAINTS:\n",
    "        gds.run_cypher(c)"
   ]
  },
  {
   "cell_type": "markdown",
   "metadata": {},
   "source": [
    "### Loading all the data\n",
    "\n",
    "We will load 7 csv files:  \n",
    "* one for clients   \n",
    "* one for merchants  \n",
    "* five for transactions  \n",
    "\n",
    "We can see how each node is created with a label and at leats one property.  \n",
    "We see all the relationships between all the nodes, to show the money exchanges betweens all entities.  "
   ]
  },
  {
   "cell_type": "code",
   "execution_count": 10,
   "metadata": {
    "execution": {
     "iopub.execute_input": "2023-04-13T08:04:32.541944Z",
     "iopub.status.busy": "2023-04-13T08:04:32.541944Z",
     "iopub.status.idle": "2023-04-13T08:04:35.467998Z",
     "shell.execute_reply": "2023-04-13T08:04:35.466108Z",
     "shell.execute_reply.started": "2023-04-13T08:04:32.541944Z"
    },
    "id": "9gzLKgHkaboi",
    "tags": []
   },
   "outputs": [],
   "source": [
    "if RELOAD_DATA:\n",
    "    # Load Clients data\n",
    "    gds.run_cypher(\n",
    "    \"\"\"\n",
    "        LOAD CSV WITH HEADERS FROM \"https://raw.githubusercontent.com/neo4j-field/graph-summit-apac-2023/main/data/clients.csv\" AS row\n",
    "        WITH row\n",
    "        MERGE (c:Client { id: row.ID })\n",
    "        SET c.name = row.NAME, c.isFraud = toBoolean(row.ISFRAUD)\n",
    "        MERGE (p:Phone { phoneNumber: row.PHONENUMBER })\n",
    "        MERGE (c)-[:HAS_PHONE]->(p)\n",
    "        MERGE (s:SSN { ssn: row.SSN })\n",
    "        MERGE (c)-[:HAS_SSN]->(s)\n",
    "        MERGE (e:Email { email: row.EMAIL })\n",
    "        MERGE (c)-[:HAS_EMAIL]->(e);\n",
    "    \"\"\"\n",
    "    )"
   ]
  },
  {
   "cell_type": "code",
   "execution_count": 11,
   "metadata": {
    "execution": {
     "iopub.execute_input": "2023-04-13T08:04:35.471080Z",
     "iopub.status.busy": "2023-04-13T08:04:35.470042Z",
     "iopub.status.idle": "2023-04-13T08:04:35.873652Z",
     "shell.execute_reply": "2023-04-13T08:04:35.872764Z",
     "shell.execute_reply.started": "2023-04-13T08:04:35.471080Z"
    },
    "id": "yQR8nWTRa-Rx",
    "tags": []
   },
   "outputs": [],
   "source": [
    "if RELOAD_DATA:\n",
    "    # Load Merchants data\n",
    "    gds.run_cypher(\n",
    "    \"\"\"\n",
    "        LOAD CSV WITH HEADERS FROM \"https://raw.githubusercontent.com/neo4j-field/graph-summit-apac-2023/main/data/merchants.csv\" AS row\n",
    "        WITH row\n",
    "        MERGE (m:Merchant { id: row.ID })\n",
    "        SET m.name = row.NAME, m.highRisk = toBoolean(row.HIGHRISK);\n",
    "    \"\"\"\n",
    "    )"
   ]
  },
  {
   "cell_type": "code",
   "execution_count": 12,
   "metadata": {
    "execution": {
     "iopub.execute_input": "2023-04-13T08:04:35.876645Z",
     "iopub.status.busy": "2023-04-13T08:04:35.876645Z",
     "iopub.status.idle": "2023-04-13T08:04:37.871380Z",
     "shell.execute_reply": "2023-04-13T08:04:37.869429Z",
     "shell.execute_reply.started": "2023-04-13T08:04:35.876645Z"
    },
    "id": "SWBqn1LLa-Vb",
    "tags": []
   },
   "outputs": [],
   "source": [
    "if RELOAD_DATA:\n",
    "    # Load Debit data\n",
    "    gds.run_cypher(\n",
    "    \"\"\"\n",
    "        LOAD CSV WITH HEADERS FROM \"https://raw.githubusercontent.com/neo4j-field/graph-summit-apac-2023/main/data/debit.csv\" AS row\n",
    "        WITH row\n",
    "        MERGE (b:Bank { id: row.IDDEST })\n",
    "        SET b.name = row.NAMEDEST\n",
    "        MERGE (c:Client { id: row.IDORIG })\n",
    "        MERGE (t:Transaction:Debit { globalStep: row.GLOBALSTEP })\n",
    "        SET t.amount = toFloat(row.AMOUNT), t.isFraud = toBoolean(row.ISFRAUD)\n",
    "        MERGE (t)-[:TO]->(b)\n",
    "        MERGE (c)-[:PERFORMED]->(t);\n",
    "    \"\"\"\n",
    "    )"
   ]
  },
  {
   "cell_type": "code",
   "execution_count": 13,
   "metadata": {
    "execution": {
     "iopub.execute_input": "2023-04-13T08:04:37.874378Z",
     "iopub.status.busy": "2023-04-13T08:04:37.873282Z",
     "iopub.status.idle": "2023-04-13T08:05:21.967654Z",
     "shell.execute_reply": "2023-04-13T08:05:21.966634Z",
     "shell.execute_reply.started": "2023-04-13T08:04:37.874378Z"
    },
    "id": "UaWM2vKba-Ys",
    "tags": []
   },
   "outputs": [],
   "source": [
    "if RELOAD_DATA:\n",
    "    # Load CashIn data, largest file then takes few seconds\n",
    "    gds.run_cypher(\n",
    "    \"\"\"\n",
    "        LOAD CSV WITH HEADERS FROM \"https://raw.githubusercontent.com/neo4j-field/graph-summit-apac-2023/main/data/cashin.csv\" AS row\n",
    "        CALL {\n",
    "            WITH row\n",
    "            MERGE (m:Merchant { id: row.IDDEST })\n",
    "            SET m.name = row.NAMEDEST\n",
    "            MERGE (c:Client { id: row.IDORIG })\n",
    "            MERGE (t:Transaction:CashIn { globalStep: row.GLOBALSTEP })\n",
    "            SET t.amount = toFloat(row.AMOUNT), t.isFraud = toBoolean(row.ISFRAUD)\n",
    "            MERGE (t)-[:TO]->(m)\n",
    "            MERGE (c)-[:PERFORMED]->(t)\n",
    "        } IN TRANSACTIONS OF 10 ROWS;\n",
    "    \"\"\"\n",
    "    )"
   ]
  },
  {
   "cell_type": "code",
   "execution_count": 14,
   "metadata": {
    "execution": {
     "iopub.execute_input": "2023-04-13T08:05:21.970654Z",
     "iopub.status.busy": "2023-04-13T08:05:21.969653Z",
     "iopub.status.idle": "2023-04-13T08:05:42.403456Z",
     "shell.execute_reply": "2023-04-13T08:05:42.402443Z",
     "shell.execute_reply.started": "2023-04-13T08:05:21.970654Z"
    },
    "id": "nwVnCVnCa-bG",
    "tags": []
   },
   "outputs": [],
   "source": [
    "if RELOAD_DATA:\n",
    "    # Load CashOut data\n",
    "    gds.run_cypher(\n",
    "    \"\"\"\n",
    "        LOAD CSV WITH HEADERS FROM \"https://raw.githubusercontent.com/neo4j-field/graph-summit-apac-2023/main/data/cashout.csv\" AS row\n",
    "        CALL {\n",
    "            WITH row\n",
    "            MERGE (m:Merchant { id: row.IDDEST })\n",
    "            SET m.name = row.NAMEDEST\n",
    "            MERGE (c:Client { id: row.IDORIG })\n",
    "            SET c.name = row.NAMEORIG\n",
    "            MERGE (t:Transaction:CashOut { globalStep: row.GLOBALSTEP })\n",
    "            SET t.amount = toFloat(row.AMOUNT), t.isFraud = toBoolean(row.ISFRAUD)\n",
    "            MERGE (t)-[:TO]->(m)\n",
    "            MERGE (c)-[:PERFORMED]->(t)\n",
    "        } IN TRANSACTIONS OF 10 ROWS;\n",
    "    \"\"\"\n",
    "    )"
   ]
  },
  {
   "cell_type": "code",
   "execution_count": 15,
   "metadata": {
    "execution": {
     "iopub.execute_input": "2023-04-13T08:05:42.406455Z",
     "iopub.status.busy": "2023-04-13T08:05:42.405455Z",
     "iopub.status.idle": "2023-04-13T08:06:08.592537Z",
     "shell.execute_reply": "2023-04-13T08:06:08.591527Z",
     "shell.execute_reply.started": "2023-04-13T08:05:42.406455Z"
    },
    "id": "a3rgtFjia-di",
    "tags": []
   },
   "outputs": [],
   "source": [
    "if RELOAD_DATA:\n",
    "    # Load Payment data\n",
    "    gds.run_cypher(\n",
    "    \"\"\"\n",
    "        LOAD CSV WITH HEADERS FROM \"https://raw.githubusercontent.com/neo4j-field/graph-summit-apac-2023/main/data/payment.csv\" AS row\n",
    "        CALL {\n",
    "            WITH row\n",
    "            MERGE (m:Merchant { id: row.IDDEST })\n",
    "            SET m.name = row.NAMEDEST\n",
    "            MERGE (c:Client { id: row.IDORIG })\n",
    "            SET c.name = row.NAMEORIG\n",
    "            MERGE (t:Transaction:Payment { globalStep: row.GLOBALSTEP })\n",
    "            SET t.amount = toFloat(row.AMOUNT), t.isFraud = toBoolean(row.ISFRAUD)\n",
    "            MERGE (t)-[:TO]->(m)\n",
    "            MERGE (c)-[:PERFORMED]->(t)\n",
    "            FOREACH (ignoreMe in CASE WHEN row.TYPEORIG = 'MULE' THEN [1] ELSE [] END | SET c :Mule)\n",
    "        } IN TRANSACTIONS OF 10 ROWS;\n",
    "    \"\"\"\n",
    "    )"
   ]
  },
  {
   "cell_type": "code",
   "execution_count": 16,
   "metadata": {
    "execution": {
     "iopub.execute_input": "2023-04-13T08:06:08.594514Z",
     "iopub.status.busy": "2023-04-13T08:06:08.593511Z",
     "iopub.status.idle": "2023-04-13T08:06:30.041503Z",
     "shell.execute_reply": "2023-04-13T08:06:30.039655Z",
     "shell.execute_reply.started": "2023-04-13T08:06:08.594514Z"
    },
    "id": "tt9gS2zNa-gX",
    "tags": []
   },
   "outputs": [],
   "source": [
    "if RELOAD_DATA:\n",
    "    # Load Transfer data\n",
    "    gds.run_cypher(\n",
    "    \"\"\"\n",
    "    LOAD CSV WITH HEADERS FROM \"https://raw.githubusercontent.com/neo4j-field/graph-summit-apac-2023/main/data/transfer.csv\" AS row\n",
    "    CALL {\n",
    "        WITH row\n",
    "        MERGE (cd:Client { id: row.IDDEST })\n",
    "        SET cd.name = row.NAMEDEST\n",
    "        MERGE (co:Client { id: row.IDORIG })\n",
    "        SET co.name = row.NAMEORIG\n",
    "        MERGE (t:Transaction:Transfer { globalStep: row.GLOBALSTEP })\n",
    "        SET t.amount = toFloat(row.AMOUNT), t.isFraud = toBoolean(row.ISFRAUD)\n",
    "        MERGE (t)-[:TO]->(cd)\n",
    "        MERGE (co)-[:PERFORMED]->(t)\n",
    "        FOREACH (ignoreMe in CASE WHEN row.TYPEDEST = 'MULE' THEN [1] ELSE [] END | SET cd :Mule)\n",
    "        FOREACH (ignoreMe in CASE WHEN row.TYPEORIG = 'MULE' THEN [1] ELSE [] END | SET co :Mule)\n",
    "    } IN TRANSACTIONS OF 10 ROWS;\n",
    "    \"\"\"\n",
    "    )"
   ]
  },
  {
   "cell_type": "markdown",
   "metadata": {},
   "source": [
    "Before updating the graph, you can check out the result with this command in Neo4j Browser (accessible from the Sandbox UI).  \n",
    "`CALL db.schema.visualization`  \n",
    "to see the data model from the data you have just loaded\n",
    "\n",
    "---\n",
    "### Enriching the graph\n",
    "\n",
    "Using the transaction details, we are able to enrich the model by adding the ordering of the transaction using the global step."
   ]
  },
  {
   "cell_type": "code",
   "execution_count": 17,
   "metadata": {
    "execution": {
     "iopub.execute_input": "2023-04-13T08:06:30.043509Z",
     "iopub.status.busy": "2023-04-13T08:06:30.042504Z",
     "iopub.status.idle": "2023-04-13T08:06:48.378160Z",
     "shell.execute_reply": "2023-04-13T08:06:48.376306Z",
     "shell.execute_reply.started": "2023-04-13T08:06:30.043509Z"
    },
    "id": "4o2iOkxVa-it",
    "tags": []
   },
   "outputs": [],
   "source": [
    "if RELOAD_DATA:\n",
    "    # Update data model with new relationships\n",
    "    gds.run_cypher(\n",
    "    \"\"\"\n",
    "    MATCH (c:Client) with c.id as clientId\n",
    "    CALL {\n",
    "        WITH clientId\n",
    "        MATCH (c:Client {id: clientId})-[:PERFORMED]->(tx:Transaction)\n",
    "        WITH c, tx ORDER BY tx.globalStep\n",
    "        WITH c, collect(tx) AS txs\n",
    "        WITH c, txs, head(txs) AS _start, last(txs) AS _last\n",
    "\n",
    "        MERGE (c)-[:FIRST_TX]->(_start)\n",
    "        MERGE (c)-[:LAST_TX]->(_last)\n",
    "        WITH c, apoc.coll.pairsMin(txs) AS pairs\n",
    "\n",
    "        UNWIND pairs AS pair\n",
    "          WITH pair[0] AS a, pair[1] AS b\n",
    "          MERGE (a)-[n:NEXT]->(b)\n",
    "    } IN TRANSACTIONS OF 10 ROWS;\n",
    "    \"\"\"\n",
    "    )"
   ]
  },
  {
   "cell_type": "markdown",
   "metadata": {},
   "source": [
    "### Having a first look at the dataset"
   ]
  },
  {
   "cell_type": "code",
   "execution_count": 18,
   "metadata": {
    "execution": {
     "iopub.execute_input": "2023-04-13T08:06:48.381155Z",
     "iopub.status.busy": "2023-04-13T08:06:48.381155Z",
     "iopub.status.idle": "2023-04-13T08:07:02.546399Z",
     "shell.execute_reply": "2023-04-13T08:07:02.545498Z",
     "shell.execute_reply.started": "2023-04-13T08:06:48.381155Z"
    },
    "tags": []
   },
   "outputs": [
    {
     "data": {
      "text/html": [
       "<div>\n",
       "<style scoped>\n",
       "    .dataframe tbody tr th:only-of-type {\n",
       "        vertical-align: middle;\n",
       "    }\n",
       "\n",
       "    .dataframe tbody tr th {\n",
       "        vertical-align: top;\n",
       "    }\n",
       "\n",
       "    .dataframe thead th {\n",
       "        text-align: right;\n",
       "    }\n",
       "</style>\n",
       "<table border=\"1\" class=\"dataframe\">\n",
       "  <thead>\n",
       "    <tr style=\"text-align: right;\">\n",
       "      <th></th>\n",
       "      <th>nodeLabel</th>\n",
       "      <th>frequency</th>\n",
       "      <th>relativeFrequency</th>\n",
       "    </tr>\n",
       "  </thead>\n",
       "  <tbody>\n",
       "    <tr>\n",
       "      <th>0</th>\n",
       "      <td>Transaction</td>\n",
       "      <td>167943</td>\n",
       "      <td>0.954</td>\n",
       "    </tr>\n",
       "    <tr>\n",
       "      <th>1</th>\n",
       "      <td>CashIn</td>\n",
       "      <td>75231</td>\n",
       "      <td>0.427</td>\n",
       "    </tr>\n",
       "    <tr>\n",
       "      <th>2</th>\n",
       "      <td>Payment</td>\n",
       "      <td>34465</td>\n",
       "      <td>0.196</td>\n",
       "    </tr>\n",
       "    <tr>\n",
       "      <th>3</th>\n",
       "      <td>CashOut</td>\n",
       "      <td>33828</td>\n",
       "      <td>0.192</td>\n",
       "    </tr>\n",
       "    <tr>\n",
       "      <th>4</th>\n",
       "      <td>Transfer</td>\n",
       "      <td>22419</td>\n",
       "      <td>0.127</td>\n",
       "    </tr>\n",
       "    <tr>\n",
       "      <th>5</th>\n",
       "      <td>Client</td>\n",
       "      <td>2583</td>\n",
       "      <td>0.015</td>\n",
       "    </tr>\n",
       "    <tr>\n",
       "      <th>6</th>\n",
       "      <td>Debit</td>\n",
       "      <td>2000</td>\n",
       "      <td>0.011</td>\n",
       "    </tr>\n",
       "    <tr>\n",
       "      <th>7</th>\n",
       "      <td>Phone</td>\n",
       "      <td>1829</td>\n",
       "      <td>0.010</td>\n",
       "    </tr>\n",
       "    <tr>\n",
       "      <th>8</th>\n",
       "      <td>SSN</td>\n",
       "      <td>1821</td>\n",
       "      <td>0.010</td>\n",
       "    </tr>\n",
       "    <tr>\n",
       "      <th>9</th>\n",
       "      <td>Email</td>\n",
       "      <td>1814</td>\n",
       "      <td>0.010</td>\n",
       "    </tr>\n",
       "    <tr>\n",
       "      <th>10</th>\n",
       "      <td>Mule</td>\n",
       "      <td>1583</td>\n",
       "      <td>0.009</td>\n",
       "    </tr>\n",
       "    <tr>\n",
       "      <th>11</th>\n",
       "      <td>Merchant</td>\n",
       "      <td>75</td>\n",
       "      <td>0.000</td>\n",
       "    </tr>\n",
       "    <tr>\n",
       "      <th>12</th>\n",
       "      <td>Bank</td>\n",
       "      <td>4</td>\n",
       "      <td>0.000</td>\n",
       "    </tr>\n",
       "    <tr>\n",
       "      <th>13</th>\n",
       "      <td>Mul</td>\n",
       "      <td>0</td>\n",
       "      <td>0.000</td>\n",
       "    </tr>\n",
       "    <tr>\n",
       "      <th>14</th>\n",
       "      <td>_Bloom_Perspective_</td>\n",
       "      <td>0</td>\n",
       "      <td>0.000</td>\n",
       "    </tr>\n",
       "  </tbody>\n",
       "</table>\n",
       "</div>"
      ],
      "text/plain": [
       "              nodeLabel  frequency  relativeFrequency\n",
       "0           Transaction     167943              0.954\n",
       "1                CashIn      75231              0.427\n",
       "2               Payment      34465              0.196\n",
       "3               CashOut      33828              0.192\n",
       "4              Transfer      22419              0.127\n",
       "5                Client       2583              0.015\n",
       "6                 Debit       2000              0.011\n",
       "7                 Phone       1829              0.010\n",
       "8                   SSN       1821              0.010\n",
       "9                 Email       1814              0.010\n",
       "10                 Mule       1583              0.009\n",
       "11             Merchant         75              0.000\n",
       "12                 Bank          4              0.000\n",
       "13                  Mul          0              0.000\n",
       "14  _Bloom_Perspective_          0              0.000"
      ]
     },
     "execution_count": 18,
     "metadata": {},
     "output_type": "execute_result"
    }
   ],
   "source": [
    "result = gds.run_cypher(\n",
    "    \"\"\"\n",
    "    CALL db.labels() YIELD label\n",
    "    CALL apoc.cypher.run('MATCH (:`'+label+'`) RETURN count(*) as freq',{}) YIELD value\n",
    "    WITH label,value.freq AS freq\n",
    "    CALL apoc.meta.stats() YIELD nodeCount\n",
    "    WITH *, 10^3 AS scaleFactor, toFloat(freq)/toFloat(nodeCount) AS relFreq\n",
    "    RETURN label AS nodeLabel,\n",
    "        freq AS frequency,\n",
    "        round(relFreq*scaleFactor)/scaleFactor AS relativeFrequency\n",
    "    ORDER BY freq DESC\n",
    "    \"\"\"\n",
    ")\n",
    "result"
   ]
  },
  {
   "cell_type": "markdown",
   "metadata": {},
   "source": [
    "### Let's have a look on how the money is exchanged across entities"
   ]
  },
  {
   "cell_type": "code",
   "execution_count": 19,
   "metadata": {
    "execution": {
     "iopub.execute_input": "2023-04-13T08:07:02.548397Z",
     "iopub.status.busy": "2023-04-13T08:07:02.547396Z",
     "iopub.status.idle": "2023-04-13T08:07:03.700605Z",
     "shell.execute_reply": "2023-04-13T08:07:03.699651Z",
     "shell.execute_reply.started": "2023-04-13T08:07:02.548397Z"
    }
   },
   "outputs": [
    {
     "data": {
      "text/html": [
       "<div>\n",
       "<style scoped>\n",
       "    .dataframe tbody tr th:only-of-type {\n",
       "        vertical-align: middle;\n",
       "    }\n",
       "\n",
       "    .dataframe tbody tr th {\n",
       "        vertical-align: top;\n",
       "    }\n",
       "\n",
       "    .dataframe thead th {\n",
       "        text-align: right;\n",
       "    }\n",
       "</style>\n",
       "<table border=\"1\" class=\"dataframe\">\n",
       "  <thead>\n",
       "    <tr style=\"text-align: right;\">\n",
       "      <th></th>\n",
       "      <th>txType</th>\n",
       "      <th>TotalMarketValue</th>\n",
       "      <th>%MarketValue</th>\n",
       "      <th>%MarketTransactions</th>\n",
       "      <th>AvgTransactionValue</th>\n",
       "      <th>NumberOfTransactions</th>\n",
       "    </tr>\n",
       "  </thead>\n",
       "  <tbody>\n",
       "    <tr>\n",
       "      <th>0</th>\n",
       "      <td>CashIn</td>\n",
       "      <td>1.044044e+10</td>\n",
       "      <td>45.5</td>\n",
       "      <td>44.8</td>\n",
       "      <td>138778</td>\n",
       "      <td>75231</td>\n",
       "    </tr>\n",
       "    <tr>\n",
       "      <th>1</th>\n",
       "      <td>Payment</td>\n",
       "      <td>2.904321e+08</td>\n",
       "      <td>1.3</td>\n",
       "      <td>20.5</td>\n",
       "      <td>8426</td>\n",
       "      <td>34465</td>\n",
       "    </tr>\n",
       "    <tr>\n",
       "      <th>2</th>\n",
       "      <td>CashOut</td>\n",
       "      <td>4.273458e+09</td>\n",
       "      <td>18.6</td>\n",
       "      <td>20.1</td>\n",
       "      <td>126329</td>\n",
       "      <td>33828</td>\n",
       "    </tr>\n",
       "    <tr>\n",
       "      <th>3</th>\n",
       "      <td>Transfer</td>\n",
       "      <td>7.950018e+09</td>\n",
       "      <td>34.6</td>\n",
       "      <td>13.3</td>\n",
       "      <td>354610</td>\n",
       "      <td>22419</td>\n",
       "    </tr>\n",
       "    <tr>\n",
       "      <th>4</th>\n",
       "      <td>Debit</td>\n",
       "      <td>1.168293e+07</td>\n",
       "      <td>0.1</td>\n",
       "      <td>1.2</td>\n",
       "      <td>5841</td>\n",
       "      <td>2000</td>\n",
       "    </tr>\n",
       "  </tbody>\n",
       "</table>\n",
       "</div>"
      ],
      "text/plain": [
       "     txType  TotalMarketValue  %MarketValue  %MarketTransactions  \\\n",
       "0    CashIn      1.044044e+10          45.5                 44.8   \n",
       "1   Payment      2.904321e+08           1.3                 20.5   \n",
       "2   CashOut      4.273458e+09          18.6                 20.1   \n",
       "3  Transfer      7.950018e+09          34.6                 13.3   \n",
       "4     Debit      1.168293e+07           0.1                  1.2   \n",
       "\n",
       "   AvgTransactionValue  NumberOfTransactions  \n",
       "0               138778                 75231  \n",
       "1                 8426                 34465  \n",
       "2               126329                 33828  \n",
       "3               354610                 22419  \n",
       "4                 5841                  2000  "
      ]
     },
     "execution_count": 19,
     "metadata": {},
     "output_type": "execute_result"
    }
   ],
   "source": [
    "result = gds.run_cypher(\n",
    "    \"\"\"\n",
    "    MATCH (t:Transaction)\n",
    "    WITH sum(t.amount) AS globalSum, count(t) AS globalCnt\n",
    "    WITH *, 10^3 AS scaleFactor\n",
    "    UNWIND ['CashIn', 'CashOut', 'Payment', 'Debit', 'Transfer'] AS txType\n",
    "        CALL apoc.cypher.run('MATCH (t:' + txType + ') RETURN sum(t.amount) as txAmount, count(t) AS txCnt', {}) YIELD value\n",
    "        RETURN txType,\n",
    "            value.txAmount AS TotalMarketValue,\n",
    "            100 * round(scaleFactor * (toFloat(value.txAmount) / toFloat(globalSum)))/scaleFactor AS `%MarketValue`,\n",
    "            100 * round(scaleFactor * (toFloat(value.txCnt) / toFloat(globalCnt)))/scaleFactor AS `%MarketTransactions`,\n",
    "            toInteger(toFloat(value.txAmount) / toFloat(value.txCnt)) AS AvgTransactionValue,\n",
    "            value.txCnt AS NumberOfTransactions\n",
    "        ORDER BY `%MarketTransactions` DESC\n",
    "    \"\"\"\n",
    ")\n",
    "result"
   ]
  },
  {
   "cell_type": "markdown",
   "metadata": {},
   "source": [
    "---\n",
    "### Let's do some data science \n",
    "\n",
    "Now that our graph is constructed and filled with data, we can start our analysis.  \n",
    "\n",
    "We will use the [Weakly Connected Components](https://neo4j.com/docs/graph-data-science/current/algorithms/wcc/) algorithm to investigate.  \n",
    "\n",
    "---"
   ]
  },
  {
   "cell_type": "code",
   "execution_count": 20,
   "metadata": {
    "execution": {
     "iopub.execute_input": "2023-04-13T08:07:03.702622Z",
     "iopub.status.busy": "2023-04-13T08:07:03.701605Z",
     "iopub.status.idle": "2023-04-13T08:07:03.715602Z",
     "shell.execute_reply": "2023-04-13T08:07:03.715602Z",
     "shell.execute_reply.started": "2023-04-13T08:07:03.702622Z"
    },
    "id": "1RIXaXRFbazk",
    "tags": []
   },
   "outputs": [],
   "source": [
    "# My first graph project name to use wcc algorithm\n",
    "graphName = 'wccGroups'\n",
    "# We will focus on fraud group above 5 members\n",
    "fraudGroupMinSize = 4"
   ]
  },
  {
   "cell_type": "code",
   "execution_count": 21,
   "metadata": {
    "execution": {
     "iopub.execute_input": "2023-04-13T08:07:03.717605Z",
     "iopub.status.busy": "2023-04-13T08:07:03.717605Z",
     "iopub.status.idle": "2023-04-13T08:07:04.614934Z",
     "shell.execute_reply": "2023-04-13T08:07:04.614934Z",
     "shell.execute_reply.started": "2023-04-13T08:07:03.717605Z"
    },
    "id": "OtUtta8EqVEf",
    "tags": []
   },
   "outputs": [],
   "source": [
    "# Remove existing projection with the same name, in case of a re run of the notebook\n",
    "if gds.graph.exists(graphName).exists:\n",
    "    gds.graph.drop(gds.graph.get(graphName))"
   ]
  },
  {
   "cell_type": "markdown",
   "metadata": {},
   "source": [
    "### Lets' find first party fraud\n",
    "\n",
    "By checking connections among clients, we can identify fake profiles and shady clients.  \n",
    "We will start with a memory estimate of our projection.  "
   ]
  },
  {
   "cell_type": "code",
   "execution_count": 22,
   "metadata": {
    "execution": {
     "iopub.execute_input": "2023-04-13T08:07:04.618895Z",
     "iopub.status.busy": "2023-04-13T08:07:04.617897Z",
     "iopub.status.idle": "2023-04-13T08:07:04.912624Z",
     "shell.execute_reply": "2023-04-13T08:07:04.911624Z",
     "shell.execute_reply.started": "2023-04-13T08:07:04.618895Z"
    },
    "tags": []
   },
   "outputs": [
    {
     "data": {
      "text/plain": [
       "requiredMemory                                 [2727 KiB ... 4040 KiB]\n",
       "treeView             graph projection: [2727 KiB ... 4040 KiB]\\n|--...\n",
       "mapView              {'components': [{'components': [{'memoryUsage'...\n",
       "bytesMin                                                       2792856\n",
       "bytesMax                                                       4137328\n",
       "nodeCount                                                         8047\n",
       "relationshipCount                                                15498\n",
       "heapPercentageMin                                                  0.1\n",
       "heapPercentageMax                                                  0.1\n",
       "Name: 0, dtype: object"
      ]
     },
     "execution_count": 22,
     "metadata": {},
     "output_type": "execute_result"
    }
   ],
   "source": [
    "gds.graph.project.estimate(\n",
    "    ['Client', 'SSN', 'Email', 'Phone'],     # Nodes to be added in the projection\n",
    "    ['HAS_SSN', 'HAS_EMAIL', 'HAS_PHONE'])   # Relationships to be added in the projection"
   ]
  },
  {
   "cell_type": "markdown",
   "metadata": {},
   "source": [
    "### We will create the projection to be used\n",
    "\n",
    "We will use the variable _projection_ in our notebook. If you want to use it in Neo4j Browser, you can run "
   ]
  },
  {
   "cell_type": "code",
   "execution_count": 23,
   "metadata": {
    "execution": {
     "iopub.execute_input": "2023-04-13T08:07:04.915525Z",
     "iopub.status.busy": "2023-04-13T08:07:04.915525Z",
     "iopub.status.idle": "2023-04-13T08:07:06.760702Z",
     "shell.execute_reply": "2023-04-13T08:07:06.759703Z",
     "shell.execute_reply.started": "2023-04-13T08:07:04.915525Z"
    },
    "id": "jg8EWiKaqVHO",
    "tags": []
   },
   "outputs": [
    {
     "data": {
      "text/plain": [
       "nodeProjection            {'Email': {'label': 'Email', 'properties': {}}...\n",
       "relationshipProjection    {'HAS_SSN': {'orientation': 'NATURAL', 'indexI...\n",
       "graphName                                                         wccGroups\n",
       "nodeCount                                                              8047\n",
       "relationshipCount                                                      7749\n",
       "projectMillis                                                           369\n",
       "Name: 0, dtype: object"
      ]
     },
     "execution_count": 23,
     "metadata": {},
     "output_type": "execute_result"
    }
   ],
   "source": [
    "projection, projectionPandas = gds.graph.project(graphName, ['Client', 'SSN', 'Email', 'Phone'], ['HAS_SSN', 'HAS_EMAIL', 'HAS_PHONE'])\n",
    "projectionPandas"
   ]
  },
  {
   "cell_type": "markdown",
   "metadata": {},
   "source": [
    "### Before running the algorithm, we estimate the memory needed to execute it"
   ]
  },
  {
   "cell_type": "code",
   "execution_count": 24,
   "metadata": {
    "execution": {
     "iopub.execute_input": "2023-04-13T08:07:06.761703Z",
     "iopub.status.busy": "2023-04-13T08:07:06.760702Z",
     "iopub.status.idle": "2023-04-13T08:07:07.054823Z",
     "shell.execute_reply": "2023-04-13T08:07:07.053918Z",
     "shell.execute_reply.started": "2023-04-13T08:07:06.761703Z"
    },
    "tags": []
   },
   "outputs": [
    {
     "data": {
      "text/plain": [
       "requiredMemory                                                  62 KiB\n",
       "treeView             Memory Estimation: 62 KiB\\n|-- algorithm: 62 K...\n",
       "mapView              {'components': [{'components': [{'components':...\n",
       "bytesMin                                                         64472\n",
       "bytesMax                                                         64472\n",
       "nodeCount                                                         8047\n",
       "relationshipCount                                                 7749\n",
       "heapPercentageMin                                                  0.1\n",
       "heapPercentageMax                                                  0.1\n",
       "Name: 0, dtype: object"
      ]
     },
     "execution_count": 24,
     "metadata": {},
     "output_type": "execute_result"
    }
   ],
   "source": [
    "gds.wcc.stream.estimate(projection)"
   ]
  },
  {
   "cell_type": "markdown",
   "metadata": {},
   "source": [
    "### Let's check how the algorithm will find community in the projection"
   ]
  },
  {
   "cell_type": "code",
   "execution_count": 25,
   "metadata": {
    "colab": {
     "base_uri": "https://localhost:8080/",
     "height": 394
    },
    "execution": {
     "iopub.execute_input": "2023-04-13T08:07:07.056816Z",
     "iopub.status.busy": "2023-04-13T08:07:07.055814Z",
     "iopub.status.idle": "2023-04-13T08:07:11.161784Z",
     "shell.execute_reply": "2023-04-13T08:07:11.160781Z",
     "shell.execute_reply.started": "2023-04-13T08:07:07.056816Z"
    },
    "id": "j7dls0G-qVMN",
    "outputId": "ea568b15-21d0-404c-a908-0d76bfc25fa9",
    "tags": []
   },
   "outputs": [
    {
     "data": {
      "text/html": [
       "<div>\n",
       "<style scoped>\n",
       "    .dataframe tbody tr th:only-of-type {\n",
       "        vertical-align: middle;\n",
       "    }\n",
       "\n",
       "    .dataframe tbody tr th {\n",
       "        vertical-align: top;\n",
       "    }\n",
       "\n",
       "    .dataframe thead th {\n",
       "        text-align: right;\n",
       "    }\n",
       "</style>\n",
       "<table border=\"1\" class=\"dataframe\">\n",
       "  <thead>\n",
       "    <tr style=\"text-align: right;\">\n",
       "      <th></th>\n",
       "      <th>nodeId</th>\n",
       "      <th>componentId</th>\n",
       "    </tr>\n",
       "  </thead>\n",
       "  <tbody>\n",
       "    <tr>\n",
       "      <th>0</th>\n",
       "      <td>176069</td>\n",
       "      <td>0</td>\n",
       "    </tr>\n",
       "    <tr>\n",
       "      <th>1</th>\n",
       "      <td>176070</td>\n",
       "      <td>1</td>\n",
       "    </tr>\n",
       "    <tr>\n",
       "      <th>2</th>\n",
       "      <td>176071</td>\n",
       "      <td>2</td>\n",
       "    </tr>\n",
       "    <tr>\n",
       "      <th>3</th>\n",
       "      <td>0</td>\n",
       "      <td>3</td>\n",
       "    </tr>\n",
       "    <tr>\n",
       "      <th>4</th>\n",
       "      <td>1</td>\n",
       "      <td>4</td>\n",
       "    </tr>\n",
       "    <tr>\n",
       "      <th>5</th>\n",
       "      <td>2</td>\n",
       "      <td>5</td>\n",
       "    </tr>\n",
       "    <tr>\n",
       "      <th>6</th>\n",
       "      <td>3</td>\n",
       "      <td>6</td>\n",
       "    </tr>\n",
       "    <tr>\n",
       "      <th>7</th>\n",
       "      <td>4</td>\n",
       "      <td>7</td>\n",
       "    </tr>\n",
       "    <tr>\n",
       "      <th>8</th>\n",
       "      <td>5</td>\n",
       "      <td>8</td>\n",
       "    </tr>\n",
       "    <tr>\n",
       "      <th>9</th>\n",
       "      <td>6</td>\n",
       "      <td>9</td>\n",
       "    </tr>\n",
       "  </tbody>\n",
       "</table>\n",
       "</div>"
      ],
      "text/plain": [
       "   nodeId  componentId\n",
       "0  176069            0\n",
       "1  176070            1\n",
       "2  176071            2\n",
       "3       0            3\n",
       "4       1            4\n",
       "5       2            5\n",
       "6       3            6\n",
       "7       4            7\n",
       "8       5            8\n",
       "9       6            9"
      ]
     },
     "execution_count": 25,
     "metadata": {},
     "output_type": "execute_result"
    }
   ],
   "source": [
    "result = gds.wcc.stream(projection)\n",
    "result.head(10)"
   ]
  },
  {
   "cell_type": "code",
   "execution_count": 26,
   "metadata": {
    "execution": {
     "iopub.execute_input": "2023-04-13T08:07:11.163719Z",
     "iopub.status.busy": "2023-04-13T08:07:11.163719Z",
     "iopub.status.idle": "2023-04-13T08:07:11.176815Z",
     "shell.execute_reply": "2023-04-13T08:07:11.176815Z",
     "shell.execute_reply.started": "2023-04-13T08:07:11.163719Z"
    }
   },
   "outputs": [
    {
     "data": {
      "text/html": [
       "<div>\n",
       "<style scoped>\n",
       "    .dataframe tbody tr th:only-of-type {\n",
       "        vertical-align: middle;\n",
       "    }\n",
       "\n",
       "    .dataframe tbody tr th {\n",
       "        vertical-align: top;\n",
       "    }\n",
       "\n",
       "    .dataframe thead th {\n",
       "        text-align: right;\n",
       "    }\n",
       "</style>\n",
       "<table border=\"1\" class=\"dataframe\">\n",
       "  <thead>\n",
       "    <tr style=\"text-align: right;\">\n",
       "      <th></th>\n",
       "      <th>nodeId</th>\n",
       "    </tr>\n",
       "    <tr>\n",
       "      <th>componentId</th>\n",
       "      <th></th>\n",
       "    </tr>\n",
       "  </thead>\n",
       "  <tbody>\n",
       "    <tr>\n",
       "      <th>5649</th>\n",
       "      <td>25</td>\n",
       "    </tr>\n",
       "    <tr>\n",
       "      <th>5207</th>\n",
       "      <td>25</td>\n",
       "    </tr>\n",
       "    <tr>\n",
       "      <th>5231</th>\n",
       "      <td>23</td>\n",
       "    </tr>\n",
       "    <tr>\n",
       "      <th>5191</th>\n",
       "      <td>23</td>\n",
       "    </tr>\n",
       "    <tr>\n",
       "      <th>5221</th>\n",
       "      <td>23</td>\n",
       "    </tr>\n",
       "    <tr>\n",
       "      <th>6164</th>\n",
       "      <td>22</td>\n",
       "    </tr>\n",
       "    <tr>\n",
       "      <th>5218</th>\n",
       "      <td>21</td>\n",
       "    </tr>\n",
       "    <tr>\n",
       "      <th>5698</th>\n",
       "      <td>21</td>\n",
       "    </tr>\n",
       "    <tr>\n",
       "      <th>5631</th>\n",
       "      <td>21</td>\n",
       "    </tr>\n",
       "    <tr>\n",
       "      <th>5626</th>\n",
       "      <td>21</td>\n",
       "    </tr>\n",
       "  </tbody>\n",
       "</table>\n",
       "</div>"
      ],
      "text/plain": [
       "             nodeId\n",
       "componentId        \n",
       "5649             25\n",
       "5207             25\n",
       "5231             23\n",
       "5191             23\n",
       "5221             23\n",
       "6164             22\n",
       "5218             21\n",
       "5698             21\n",
       "5631             21\n",
       "5626             21"
      ]
     },
     "execution_count": 26,
     "metadata": {},
     "output_type": "execute_result"
    }
   ],
   "source": [
    "result.groupby(['componentId']).count().sort_values('nodeId', ascending=False).head(10)"
   ]
  },
  {
   "cell_type": "markdown",
   "metadata": {},
   "source": [
    "### Let's populate the graph with a new property to represent the community detected by the wcc algorithm."
   ]
  },
  {
   "cell_type": "code",
   "execution_count": 27,
   "metadata": {
    "colab": {
     "base_uri": "https://localhost:8080/"
    },
    "execution": {
     "iopub.execute_input": "2023-04-13T08:07:11.177797Z",
     "iopub.status.busy": "2023-04-13T08:07:11.177797Z",
     "iopub.status.idle": "2023-04-13T08:07:12.281531Z",
     "shell.execute_reply": "2023-04-13T08:07:12.280552Z",
     "shell.execute_reply.started": "2023-04-13T08:07:11.177797Z"
    },
    "id": "Z2NF86MlzHVR",
    "outputId": "dada8627-55e7-42ab-91ca-26296e4d19b2",
    "tags": []
   },
   "outputs": [
    {
     "data": {
      "text/plain": [
       "writeMillis                                                            493\n",
       "nodePropertiesWritten                                                 2631\n",
       "componentCount                                                        1527\n",
       "componentDistribution    {'p99': 20, 'min': 4, 'max': 25, 'mean': 5.269...\n",
       "postProcessingMillis                                                   181\n",
       "preProcessingMillis                                                      0\n",
       "computeMillis                                                           16\n",
       "configuration            {'jobId': '8bdea72e-a7d7-46aa-8ec2-924123eadab...\n",
       "Name: 0, dtype: object"
      ]
     },
     "execution_count": 27,
     "metadata": {},
     "output_type": "execute_result"
    }
   ],
   "source": [
    "result_wcc = gds.wcc.write(projection, writeProperty='fraud_group', minComponentSize=fraudGroupMinSize)\n",
    "result_wcc"
   ]
  },
  {
   "cell_type": "code",
   "execution_count": 28,
   "metadata": {
    "colab": {
     "base_uri": "https://localhost:8080/",
     "height": 49
    },
    "execution": {
     "iopub.execute_input": "2023-04-13T08:07:12.282423Z",
     "iopub.status.busy": "2023-04-13T08:07:12.282423Z",
     "iopub.status.idle": "2023-04-13T08:07:12.563888Z",
     "shell.execute_reply": "2023-04-13T08:07:12.561900Z",
     "shell.execute_reply.started": "2023-04-13T08:07:12.282423Z"
    },
    "id": "7d0hPxuYzHX3",
    "outputId": "9e0895f1-8f65-4b5f-c5ca-0bdf42ff6c45",
    "tags": []
   },
   "outputs": [
    {
     "data": {
      "text/html": [
       "<div>\n",
       "<style scoped>\n",
       "    .dataframe tbody tr th:only-of-type {\n",
       "        vertical-align: middle;\n",
       "    }\n",
       "\n",
       "    .dataframe tbody tr th {\n",
       "        vertical-align: top;\n",
       "    }\n",
       "\n",
       "    .dataframe thead th {\n",
       "        text-align: right;\n",
       "    }\n",
       "</style>\n",
       "<table border=\"1\" class=\"dataframe\">\n",
       "  <thead>\n",
       "    <tr style=\"text-align: right;\">\n",
       "      <th></th>\n",
       "    </tr>\n",
       "  </thead>\n",
       "  <tbody>\n",
       "  </tbody>\n",
       "</table>\n",
       "</div>"
      ],
      "text/plain": [
       "Empty DataFrame\n",
       "Columns: []\n",
       "Index: []"
      ]
     },
     "execution_count": 28,
     "metadata": {},
     "output_type": "execute_result"
    }
   ],
   "source": [
    "# Create an index on the new property just created by the wcc algorithm on Clients\n",
    "gds.run_cypher(\"CREATE INDEX ClientFraudIndex IF NOT EXISTS FOR (c:Client) on c.fraud_group;\")"
   ]
  },
  {
   "cell_type": "code",
   "execution_count": 29,
   "metadata": {
    "colab": {
     "base_uri": "https://localhost:8080/",
     "height": 363
    },
    "execution": {
     "iopub.execute_input": "2023-04-13T08:07:12.565875Z",
     "iopub.status.busy": "2023-04-13T08:07:12.565875Z",
     "iopub.status.idle": "2023-04-13T08:07:13.181612Z",
     "shell.execute_reply": "2023-04-13T08:07:13.181612Z",
     "shell.execute_reply.started": "2023-04-13T08:07:12.565875Z"
    },
    "id": "IFvM5X4KzHaJ",
    "outputId": "740dab9c-9124-432f-82d2-4fad1665a524",
    "tags": []
   },
   "outputs": [
    {
     "data": {
      "text/html": [
       "<div>\n",
       "<style scoped>\n",
       "    .dataframe tbody tr th:only-of-type {\n",
       "        vertical-align: middle;\n",
       "    }\n",
       "\n",
       "    .dataframe tbody tr th {\n",
       "        vertical-align: top;\n",
       "    }\n",
       "\n",
       "    .dataframe thead th {\n",
       "        text-align: right;\n",
       "    }\n",
       "</style>\n",
       "<table border=\"1\" class=\"dataframe\">\n",
       "  <thead>\n",
       "    <tr style=\"text-align: right;\">\n",
       "      <th></th>\n",
       "      <th>groupSize</th>\n",
       "      <th>numOfGroups</th>\n",
       "      <th>FraudGroupIds</th>\n",
       "    </tr>\n",
       "  </thead>\n",
       "  <tbody>\n",
       "    <tr>\n",
       "      <th>0</th>\n",
       "      <td>16</td>\n",
       "      <td>2</td>\n",
       "      <td>[5207, 5649]</td>\n",
       "    </tr>\n",
       "    <tr>\n",
       "      <th>1</th>\n",
       "      <td>14</td>\n",
       "      <td>3</td>\n",
       "      <td>[5191, 5221, 5231]</td>\n",
       "    </tr>\n",
       "    <tr>\n",
       "      <th>2</th>\n",
       "      <td>13</td>\n",
       "      <td>1</td>\n",
       "      <td>[6164]</td>\n",
       "    </tr>\n",
       "    <tr>\n",
       "      <th>3</th>\n",
       "      <td>12</td>\n",
       "      <td>7</td>\n",
       "      <td>[5201, 5211, 5218, 5626, 5629, 5631, 5698]</td>\n",
       "    </tr>\n",
       "    <tr>\n",
       "      <th>4</th>\n",
       "      <td>11</td>\n",
       "      <td>3</td>\n",
       "      <td>[5230, 5239, 6152]</td>\n",
       "    </tr>\n",
       "    <tr>\n",
       "      <th>5</th>\n",
       "      <td>10</td>\n",
       "      <td>19</td>\n",
       "      <td>[5192, 5199, 5210, 5214, 5217, 5224, 5228, 524...</td>\n",
       "    </tr>\n",
       "    <tr>\n",
       "      <th>6</th>\n",
       "      <td>9</td>\n",
       "      <td>14</td>\n",
       "      <td>[5195, 5220, 5223, 5241, 5636, 5639, 5650, 569...</td>\n",
       "    </tr>\n",
       "    <tr>\n",
       "      <th>7</th>\n",
       "      <td>8</td>\n",
       "      <td>20</td>\n",
       "      <td>[5204, 5209, 5215, 5227, 5635, 5642, 5656, 567...</td>\n",
       "    </tr>\n",
       "    <tr>\n",
       "      <th>8</th>\n",
       "      <td>7</td>\n",
       "      <td>22</td>\n",
       "      <td>[5189, 5194, 5219, 5238, 5244, 5634, 5653, 567...</td>\n",
       "    </tr>\n",
       "    <tr>\n",
       "      <th>9</th>\n",
       "      <td>6</td>\n",
       "      <td>30</td>\n",
       "      <td>[5196, 5197, 5202, 5206, 5213, 5216, 5233, 524...</td>\n",
       "    </tr>\n",
       "  </tbody>\n",
       "</table>\n",
       "</div>"
      ],
      "text/plain": [
       "   groupSize  numOfGroups                                      FraudGroupIds\n",
       "0         16            2                                       [5207, 5649]\n",
       "1         14            3                                 [5191, 5221, 5231]\n",
       "2         13            1                                             [6164]\n",
       "3         12            7         [5201, 5211, 5218, 5626, 5629, 5631, 5698]\n",
       "4         11            3                                 [5230, 5239, 6152]\n",
       "5         10           19  [5192, 5199, 5210, 5214, 5217, 5224, 5228, 524...\n",
       "6          9           14  [5195, 5220, 5223, 5241, 5636, 5639, 5650, 569...\n",
       "7          8           20  [5204, 5209, 5215, 5227, 5635, 5642, 5656, 567...\n",
       "8          7           22  [5189, 5194, 5219, 5238, 5244, 5634, 5653, 567...\n",
       "9          6           30  [5196, 5197, 5202, 5206, 5213, 5216, 5233, 524..."
      ]
     },
     "execution_count": 29,
     "metadata": {},
     "output_type": "execute_result"
    }
   ],
   "source": [
    "# Look at the community created by the algorithm\n",
    "# We can see the biggest community has 16 elements\n",
    "result = gds.run_cypher(\"\"\"\n",
    "  MATCH (c:Client) WHERE c.fraud_group IS NOT NULL\n",
    "  WITH c.fraud_group AS groupId, collect(c.id) AS members\n",
    "  WITH groupId, size(members) AS groupSize\n",
    "  WITH collect(groupId) AS groupsOfSize, groupSize\n",
    "  RETURN groupSize, size(groupsOfSize) AS numOfGroups, groupsOfSize as FraudGroupIds\n",
    "  ORDER BY groupSize DESC;\n",
    "\"\"\")\n",
    "result.head(10)"
   ]
  },
  {
   "cell_type": "markdown",
   "metadata": {},
   "source": [
    "# Look at the large community in Neo4j Browser\n",
    "Run this Cypher query in Neo4j Browser to visualize the two largest communities.  \n",
    "\n",
    "`MATCH (c:Client)-[r:HAS_PHONE|HAS_EMAIL|HAS_PHONE]->(n) WHERE c.fraud_group IN [5207, 5649] RETURN c,r,n`  \n",
    "or just to see large groups  \n",
    "`MATCH (c:Client) WHERE c.fraud_group IS NOT NULL\n",
    "WITH c.fraud_group AS groupId, collect(c.id) AS members\n",
    "WITH *, size(members) AS groupSize WHERE groupSize > 12\n",
    "MATCH p=(c:Client {fraud_group:groupId})-[:HAS_SSN|HAS_EMAIL|HAS_PHONE]->()\n",
    "RETURN p`"
   ]
  },
  {
   "cell_type": "code",
   "execution_count": 30,
   "metadata": {
    "colab": {
     "base_uri": "https://localhost:8080/",
     "height": 112
    },
    "execution": {
     "iopub.execute_input": "2023-04-13T08:07:13.183533Z",
     "iopub.status.busy": "2023-04-13T08:07:13.182620Z",
     "iopub.status.idle": "2023-04-13T08:07:14.881846Z",
     "shell.execute_reply": "2023-04-13T08:07:14.880840Z",
     "shell.execute_reply.started": "2023-04-13T08:07:13.182620Z"
    },
    "id": "gan-K2JOdvsr",
    "outputId": "99097d3d-5fb5-432f-ce38-ce5bb7ec9035",
    "tags": []
   },
   "outputs": [
    {
     "data": {
      "text/html": [
       "<div>\n",
       "<style scoped>\n",
       "    .dataframe tbody tr th:only-of-type {\n",
       "        vertical-align: middle;\n",
       "    }\n",
       "\n",
       "    .dataframe tbody tr th {\n",
       "        vertical-align: top;\n",
       "    }\n",
       "\n",
       "    .dataframe thead th {\n",
       "        text-align: right;\n",
       "    }\n",
       "</style>\n",
       "<table border=\"1\" class=\"dataframe\">\n",
       "  <thead>\n",
       "    <tr style=\"text-align: right;\">\n",
       "      <th></th>\n",
       "      <th>txnType</th>\n",
       "      <th>count(txnType)</th>\n",
       "    </tr>\n",
       "  </thead>\n",
       "  <tbody>\n",
       "    <tr>\n",
       "      <th>0</th>\n",
       "      <td>Transaction</td>\n",
       "      <td>4485</td>\n",
       "    </tr>\n",
       "    <tr>\n",
       "      <th>1</th>\n",
       "      <td>Transfer</td>\n",
       "      <td>4485</td>\n",
       "    </tr>\n",
       "  </tbody>\n",
       "</table>\n",
       "</div>"
      ],
      "text/plain": [
       "       txnType  count(txnType)\n",
       "0  Transaction            4485\n",
       "1     Transfer            4485"
      ]
     },
     "execution_count": 30,
     "metadata": {},
     "output_type": "execute_result"
    }
   ],
   "source": [
    "result = gds.run_cypher(\"\"\"\n",
    "  MATCH (c:Client) WHERE c.fraud_group IS NOT NULL\n",
    "  WITH c.fraud_group AS groupId, collect(c.id) AS members\n",
    "  WITH groupId, size(members) AS groupSize WHERE groupSize > $gs\n",
    "  MATCH (:Client {fraud_group:groupId})-[]-(txn)-[]-(d)      \n",
    "  WHERE d.fraud_group IS NULL\n",
    "  UNWIND labels(txn) AS txnType                                                 \n",
    "  RETURN distinct(txnType), count(txnType);\n",
    "\"\"\", params= {'gs': fraudGroupMinSize} )\n",
    "result"
   ]
  },
  {
   "cell_type": "markdown",
   "metadata": {},
   "source": [
    "### Let's create a new property to identofy suspect clients"
   ]
  },
  {
   "cell_type": "code",
   "execution_count": 31,
   "metadata": {
    "colab": {
     "base_uri": "https://localhost:8080/",
     "height": 81
    },
    "execution": {
     "iopub.execute_input": "2023-04-13T08:07:14.882846Z",
     "iopub.status.busy": "2023-04-13T08:07:14.882846Z",
     "iopub.status.idle": "2023-04-13T08:07:16.369583Z",
     "shell.execute_reply": "2023-04-13T08:07:16.369583Z",
     "shell.execute_reply.started": "2023-04-13T08:07:14.882846Z"
    },
    "id": "vVzy325Hdvu-",
    "outputId": "379bb171-6001-4739-e0e7-bad10308e000",
    "tags": []
   },
   "outputs": [
    {
     "data": {
      "text/html": [
       "<div>\n",
       "<style scoped>\n",
       "    .dataframe tbody tr th:only-of-type {\n",
       "        vertical-align: middle;\n",
       "    }\n",
       "\n",
       "    .dataframe tbody tr th {\n",
       "        vertical-align: top;\n",
       "    }\n",
       "\n",
       "    .dataframe thead th {\n",
       "        text-align: right;\n",
       "    }\n",
       "</style>\n",
       "<table border=\"1\" class=\"dataframe\">\n",
       "  <thead>\n",
       "    <tr style=\"text-align: right;\">\n",
       "      <th></th>\n",
       "      <th>count(r)</th>\n",
       "    </tr>\n",
       "  </thead>\n",
       "  <tbody>\n",
       "    <tr>\n",
       "      <th>0</th>\n",
       "      <td>3535</td>\n",
       "    </tr>\n",
       "  </tbody>\n",
       "</table>\n",
       "</div>"
      ],
      "text/plain": [
       "   count(r)\n",
       "0      3535"
      ]
     },
     "execution_count": 31,
     "metadata": {},
     "output_type": "execute_result"
    }
   ],
   "source": [
    "result = gds.run_cypher(\"\"\"\n",
    "  MATCH (c:Client) WHERE c.fraud_group IS NOT NULL\n",
    "  WITH c.fraud_group AS groupId, collect(c.id) AS members\n",
    "  WITH groupId, size(members) AS groupSize WHERE groupSize > $gs\n",
    "  MATCH (c1:Client {fraud_group:groupId})-[]-(t:Transaction)-[]-(c2:Client)     \n",
    "  WHERE c2.fraud_group IS NULL\n",
    "  SET c1.suspect = true, c2.suspect = true                                      \n",
    "  MERGE (c1)-[r:TRANSACTED_WITH]->(c2)                                          \n",
    "  ON CREATE SET r += t\n",
    "  RETURN count(r);\n",
    "\"\"\", params= {'gs': fraudGroupMinSize})\n",
    "result"
   ]
  },
  {
   "cell_type": "markdown",
   "metadata": {},
   "source": [
    "### We found 3335 suspect transactions, let's investigate them using again wcc"
   ]
  },
  {
   "cell_type": "code",
   "execution_count": 32,
   "metadata": {
    "execution": {
     "iopub.execute_input": "2023-04-13T08:07:16.371598Z",
     "iopub.status.busy": "2023-04-13T08:07:16.370481Z",
     "iopub.status.idle": "2023-04-13T08:07:16.386529Z",
     "shell.execute_reply": "2023-04-13T08:07:16.385530Z",
     "shell.execute_reply.started": "2023-04-13T08:07:16.371598Z"
    }
   },
   "outputs": [],
   "source": [
    "graphName2 = 'wccGroups2'"
   ]
  },
  {
   "cell_type": "code",
   "execution_count": 33,
   "metadata": {
    "execution": {
     "iopub.execute_input": "2023-04-13T08:07:16.387529Z",
     "iopub.status.busy": "2023-04-13T08:07:16.386529Z",
     "iopub.status.idle": "2023-04-13T08:07:17.160389Z",
     "shell.execute_reply": "2023-04-13T08:07:17.159494Z",
     "shell.execute_reply.started": "2023-04-13T08:07:16.387529Z"
    },
    "id": "ObHYE5frdvxg",
    "tags": []
   },
   "outputs": [],
   "source": [
    "# Remove existing graph with the same name\n",
    "if gds.graph.exists(graphName2).exists:\n",
    "    gds.graph.drop(gds.graph.get(graphName2))"
   ]
  },
  {
   "cell_type": "markdown",
   "metadata": {},
   "source": [
    "### Creating a new projection using only suspect clients"
   ]
  },
  {
   "cell_type": "code",
   "execution_count": 34,
   "metadata": {
    "execution": {
     "iopub.execute_input": "2023-04-13T08:07:17.163398Z",
     "iopub.status.busy": "2023-04-13T08:07:17.162363Z",
     "iopub.status.idle": "2023-04-13T08:07:17.596405Z",
     "shell.execute_reply": "2023-04-13T08:07:17.596405Z",
     "shell.execute_reply.started": "2023-04-13T08:07:17.163398Z"
    },
    "id": "yzo487KpkRGh",
    "tags": []
   },
   "outputs": [
    {
     "data": {
      "text/plain": [
       "nodeQuery            MATCH (c:Client {suspect:true}) RETURN id(c) A...\n",
       "relationshipQuery    MATCH (c1:Client {suspect:true})-[r:TRANSACTED...\n",
       "graphName                                                   wccGroups2\n",
       "nodeCount                                                         1278\n",
       "relationshipCount                                                 1165\n",
       "projectMillis                                                       95\n",
       "Name: 0, dtype: object"
      ]
     },
     "execution_count": 34,
     "metadata": {},
     "output_type": "execute_result"
    }
   ],
   "source": [
    "projection2, projectionPandas2 = gds.graph.project.cypher(graphName2, \n",
    "          'MATCH (c:Client {suspect:true}) RETURN id(c) AS id', \n",
    "          'MATCH (c1:Client {suspect:true})-[r:TRANSACTED_WITH]->(c2:Client) RETURN id(c1) AS source, id(c2) as target')\n",
    "projectionPandas2"
   ]
  },
  {
   "cell_type": "code",
   "execution_count": 35,
   "metadata": {
    "execution": {
     "iopub.execute_input": "2023-04-13T08:07:17.598304Z",
     "iopub.status.busy": "2023-04-13T08:07:17.597413Z",
     "iopub.status.idle": "2023-04-13T08:07:17.970093Z",
     "shell.execute_reply": "2023-04-13T08:07:17.968171Z",
     "shell.execute_reply.started": "2023-04-13T08:07:17.598304Z"
    },
    "id": "__-LyayFkRLD",
    "tags": []
   },
   "outputs": [],
   "source": [
    "result = gds.wcc.write(projection2, writeProperty='fraud_group_2');"
   ]
  },
  {
   "cell_type": "code",
   "execution_count": 36,
   "metadata": {
    "colab": {
     "base_uri": "https://localhost:8080/",
     "height": 49
    },
    "execution": {
     "iopub.execute_input": "2023-04-13T08:07:17.972105Z",
     "iopub.status.busy": "2023-04-13T08:07:17.971091Z",
     "iopub.status.idle": "2023-04-13T08:07:18.247318Z",
     "shell.execute_reply": "2023-04-13T08:07:18.246417Z",
     "shell.execute_reply.started": "2023-04-13T08:07:17.972105Z"
    },
    "id": "iFgy6whHk0MK",
    "outputId": "1485b417-20b5-4aa2-9f61-9f8942bd3a09",
    "tags": []
   },
   "outputs": [
    {
     "data": {
      "text/html": [
       "<div>\n",
       "<style scoped>\n",
       "    .dataframe tbody tr th:only-of-type {\n",
       "        vertical-align: middle;\n",
       "    }\n",
       "\n",
       "    .dataframe tbody tr th {\n",
       "        vertical-align: top;\n",
       "    }\n",
       "\n",
       "    .dataframe thead th {\n",
       "        text-align: right;\n",
       "    }\n",
       "</style>\n",
       "<table border=\"1\" class=\"dataframe\">\n",
       "  <thead>\n",
       "    <tr style=\"text-align: right;\">\n",
       "      <th></th>\n",
       "    </tr>\n",
       "  </thead>\n",
       "  <tbody>\n",
       "  </tbody>\n",
       "</table>\n",
       "</div>"
      ],
      "text/plain": [
       "Empty DataFrame\n",
       "Columns: []\n",
       "Index: []"
      ]
     },
     "execution_count": 36,
     "metadata": {},
     "output_type": "execute_result"
    }
   ],
   "source": [
    "# Create an index on the new property\n",
    "gds.run_cypher(\"CREATE INDEX ClientFraud2Index IF NOT EXISTS FOR (c:Client) on c.fraud_group_2;\")"
   ]
  },
  {
   "cell_type": "code",
   "execution_count": 37,
   "metadata": {
    "colab": {
     "base_uri": "https://localhost:8080/",
     "height": 206
    },
    "execution": {
     "iopub.execute_input": "2023-04-13T08:07:18.248316Z",
     "iopub.status.busy": "2023-04-13T08:07:18.248316Z",
     "iopub.status.idle": "2023-04-13T08:07:18.789436Z",
     "shell.execute_reply": "2023-04-13T08:07:18.789436Z",
     "shell.execute_reply.started": "2023-04-13T08:07:18.248316Z"
    },
    "id": "uTHK8ZwXk0Pz",
    "outputId": "9978be1c-bae1-4ef2-8a2c-aef4f0388237",
    "tags": []
   },
   "outputs": [
    {
     "data": {
      "text/html": [
       "<div>\n",
       "<style scoped>\n",
       "    .dataframe tbody tr th:only-of-type {\n",
       "        vertical-align: middle;\n",
       "    }\n",
       "\n",
       "    .dataframe tbody tr th {\n",
       "        vertical-align: top;\n",
       "    }\n",
       "\n",
       "    .dataframe thead th {\n",
       "        text-align: right;\n",
       "    }\n",
       "</style>\n",
       "<table border=\"1\" class=\"dataframe\">\n",
       "  <thead>\n",
       "    <tr style=\"text-align: right;\">\n",
       "      <th></th>\n",
       "      <th>secondGroupId</th>\n",
       "      <th>groupSize</th>\n",
       "    </tr>\n",
       "  </thead>\n",
       "  <tbody>\n",
       "    <tr>\n",
       "      <th>0</th>\n",
       "      <td>56</td>\n",
       "      <td>29</td>\n",
       "    </tr>\n",
       "    <tr>\n",
       "      <th>1</th>\n",
       "      <td>68</td>\n",
       "      <td>28</td>\n",
       "    </tr>\n",
       "    <tr>\n",
       "      <th>2</th>\n",
       "      <td>2</td>\n",
       "      <td>26</td>\n",
       "    </tr>\n",
       "    <tr>\n",
       "      <th>3</th>\n",
       "      <td>38</td>\n",
       "      <td>23</td>\n",
       "    </tr>\n",
       "    <tr>\n",
       "      <th>4</th>\n",
       "      <td>14</td>\n",
       "      <td>23</td>\n",
       "    </tr>\n",
       "  </tbody>\n",
       "</table>\n",
       "</div>"
      ],
      "text/plain": [
       "   secondGroupId  groupSize\n",
       "0             56         29\n",
       "1             68         28\n",
       "2              2         26\n",
       "3             38         23\n",
       "4             14         23"
      ]
     },
     "execution_count": 37,
     "metadata": {},
     "output_type": "execute_result"
    }
   ],
   "source": [
    "result = gds.run_cypher(\"\"\"\n",
    "MATCH (c:Client) WHERE c.fraud_group_2 IS NOT NULL\n",
    "WITH c.fraud_group_2 AS secondGroupId, collect(c.id) AS members\n",
    "RETURN secondGroupId, size(members) AS groupSize\n",
    "ORDER BY groupSize DESC;\n",
    "\"\"\")\n",
    "result.head(5)"
   ]
  },
  {
   "cell_type": "code",
   "execution_count": 38,
   "metadata": {
    "execution": {
     "iopub.execute_input": "2023-04-13T08:07:18.790426Z",
     "iopub.status.busy": "2023-04-13T08:07:18.790426Z",
     "iopub.status.idle": "2023-04-13T08:07:18.804350Z",
     "shell.execute_reply": "2023-04-13T08:07:18.804350Z",
     "shell.execute_reply.started": "2023-04-13T08:07:18.790426Z"
    }
   },
   "outputs": [],
   "source": [
    "graphName3 = 'betweenness'"
   ]
  },
  {
   "cell_type": "code",
   "execution_count": 39,
   "metadata": {
    "execution": {
     "iopub.execute_input": "2023-04-13T08:07:18.806333Z",
     "iopub.status.busy": "2023-04-13T08:07:18.805351Z",
     "iopub.status.idle": "2023-04-13T08:07:19.071003Z",
     "shell.execute_reply": "2023-04-13T08:07:19.069042Z",
     "shell.execute_reply.started": "2023-04-13T08:07:18.806333Z"
    },
    "id": "G_K6ZaMJlOdv",
    "tags": []
   },
   "outputs": [],
   "source": [
    "# Remove existing graph with the same name\n",
    "if gds.graph.exists(graphName3).exists:\n",
    "    gds.graph.drop(gds.graph.get(graphName3))"
   ]
  },
  {
   "cell_type": "code",
   "execution_count": 40,
   "metadata": {
    "execution": {
     "iopub.execute_input": "2023-04-13T08:07:19.073124Z",
     "iopub.status.busy": "2023-04-13T08:07:19.073124Z",
     "iopub.status.idle": "2023-04-13T08:07:20.182304Z",
     "shell.execute_reply": "2023-04-13T08:07:20.180455Z",
     "shell.execute_reply.started": "2023-04-13T08:07:19.073124Z"
    },
    "id": "ICdNnyXylOgQ",
    "tags": []
   },
   "outputs": [],
   "source": [
    "projection3, projectionPandas3 = gds.graph.project.cypher(graphName3, \n",
    "    'MATCH (c:Client) WHERE c.fraud_group_2 IS NOT NULL WITH c.fraud_group_2 AS secondGroupId, collect(c.id) AS members WITH secondGroupId, size(members) AS groupSize ORDER BY groupSize DESC LIMIT 1 WITH secondGroupId MATCH (c:Client {fraud_group_2:secondGroupId})-[r:TRANSACTED_WITH]-(c2:Client) RETURN id(c) AS id',\n",
    "    'MATCH (c:Client) WHERE c.fraud_group_2 IS NOT NULL WITH c.fraud_group_2 AS secondGroupId, collect(c.id) AS members WITH secondGroupId, size(members) AS groupSize ORDER BY groupSize DESC LIMIT 1 WITH secondGroupId MATCH (c1:Client {fraud_group_2:secondGroupId})-[:TRANSACTED_WITH]-(c2:Client) RETURN id(c1) AS source, id(c2) AS target'\n",
    ")"
   ]
  },
  {
   "cell_type": "code",
   "execution_count": 41,
   "metadata": {
    "colab": {
     "base_uri": "https://localhost:8080/"
    },
    "execution": {
     "iopub.execute_input": "2023-04-13T08:07:20.185317Z",
     "iopub.status.busy": "2023-04-13T08:07:20.184310Z",
     "iopub.status.idle": "2023-04-13T08:07:20.197833Z",
     "shell.execute_reply": "2023-04-13T08:07:20.195919Z",
     "shell.execute_reply.started": "2023-04-13T08:07:20.185317Z"
    },
    "id": "jvqNUkDglOio",
    "outputId": "062c3f10-abd3-4f67-cdbb-4a1bbdeff8ad",
    "tags": []
   },
   "outputs": [
    {
     "name": "stdout",
     "output_type": "stream",
     "text": [
      "nodeQuery            MATCH (c:Client) WHERE c.fraud_group_2 IS NOT ...\n",
      "relationshipQuery    MATCH (c:Client) WHERE c.fraud_group_2 IS NOT ...\n",
      "graphName                                                  betweenness\n",
      "nodeCount                                                           29\n",
      "relationshipCount                                                   56\n",
      "projectMillis                                                      386\n",
      "Name: 0, dtype: object\n"
     ]
    }
   ],
   "source": [
    "#Graph Projection Stats from Pandas object\n",
    "print(projectionPandas3)"
   ]
  },
  {
   "cell_type": "code",
   "execution_count": 42,
   "metadata": {
    "colab": {
     "base_uri": "https://localhost:8080/"
    },
    "execution": {
     "iopub.execute_input": "2023-04-13T08:07:20.199833Z",
     "iopub.status.busy": "2023-04-13T08:07:20.199833Z",
     "iopub.status.idle": "2023-04-13T08:07:21.486163Z",
     "shell.execute_reply": "2023-04-13T08:07:21.485162Z",
     "shell.execute_reply.started": "2023-04-13T08:07:20.199833Z"
    },
    "id": "ploAIAQPlizR",
    "outputId": "203c451b-b758-4bde-fd19-047dff602038",
    "tags": []
   },
   "outputs": [
    {
     "data": {
      "text/plain": [
       "nodePropertiesWritten                                                    29\n",
       "writeMillis                                                               8\n",
       "centralityDistribution    {'p99': 520.003662109375, 'min': 0.0, 'max': 5...\n",
       "postProcessingMillis                                                    797\n",
       "preProcessingMillis                                                       0\n",
       "computeMillis                                                            94\n",
       "configuration             {'jobId': 'a2221c0d-e424-4a08-be50-ba72ba29e20...\n",
       "Name: 0, dtype: object"
      ]
     },
     "execution_count": 42,
     "metadata": {},
     "output_type": "execute_result"
    }
   ],
   "source": [
    "result = gds.betweenness.write(projection3, writeProperty='score')\n",
    "result"
   ]
  },
  {
   "cell_type": "code",
   "execution_count": 43,
   "metadata": {
    "colab": {
     "base_uri": "https://localhost:8080/",
     "height": 300
    },
    "execution": {
     "iopub.execute_input": "2023-04-13T08:07:21.488164Z",
     "iopub.status.busy": "2023-04-13T08:07:21.488164Z",
     "iopub.status.idle": "2023-04-13T08:07:22.076962Z",
     "shell.execute_reply": "2023-04-13T08:07:22.075960Z",
     "shell.execute_reply.started": "2023-04-13T08:07:21.488164Z"
    },
    "id": "aj02mhKIlx67",
    "outputId": "780e62c3-4090-4367-a977-ba187360cc50",
    "tags": []
   },
   "outputs": [
    {
     "data": {
      "text/html": [
       "<div>\n",
       "<style scoped>\n",
       "    .dataframe tbody tr th:only-of-type {\n",
       "        vertical-align: middle;\n",
       "    }\n",
       "\n",
       "    .dataframe tbody tr th {\n",
       "        vertical-align: top;\n",
       "    }\n",
       "\n",
       "    .dataframe thead th {\n",
       "        text-align: right;\n",
       "    }\n",
       "</style>\n",
       "<table border=\"1\" class=\"dataframe\">\n",
       "  <thead>\n",
       "    <tr style=\"text-align: right;\">\n",
       "      <th></th>\n",
       "      <th>name</th>\n",
       "      <th>newScore</th>\n",
       "      <th>original</th>\n",
       "    </tr>\n",
       "  </thead>\n",
       "  <tbody>\n",
       "    <tr>\n",
       "      <th>0</th>\n",
       "      <td>Austin Cotton</td>\n",
       "      <td>173.333333</td>\n",
       "      <td>520.0</td>\n",
       "    </tr>\n",
       "    <tr>\n",
       "      <th>1</th>\n",
       "      <td>Kevin Bridges</td>\n",
       "      <td>171.000000</td>\n",
       "      <td>342.0</td>\n",
       "    </tr>\n",
       "    <tr>\n",
       "      <th>2</th>\n",
       "      <td>Tyler Turner</td>\n",
       "      <td>171.000000</td>\n",
       "      <td>342.0</td>\n",
       "    </tr>\n",
       "    <tr>\n",
       "      <th>3</th>\n",
       "      <td>Scarlett Stephenson</td>\n",
       "      <td>147.000000</td>\n",
       "      <td>294.0</td>\n",
       "    </tr>\n",
       "    <tr>\n",
       "      <th>4</th>\n",
       "      <td>John Cochran</td>\n",
       "      <td>46.750000</td>\n",
       "      <td>374.0</td>\n",
       "    </tr>\n",
       "    <tr>\n",
       "      <th>5</th>\n",
       "      <td>Dominic Hatfield</td>\n",
       "      <td>42.000000</td>\n",
       "      <td>294.0</td>\n",
       "    </tr>\n",
       "    <tr>\n",
       "      <th>6</th>\n",
       "      <td>Brooklyn Riddle</td>\n",
       "      <td>41.777778</td>\n",
       "      <td>376.0</td>\n",
       "    </tr>\n",
       "    <tr>\n",
       "      <th>7</th>\n",
       "      <td>Peyton Keller</td>\n",
       "      <td>27.000000</td>\n",
       "      <td>54.0</td>\n",
       "    </tr>\n",
       "  </tbody>\n",
       "</table>\n",
       "</div>"
      ],
      "text/plain": [
       "                  name    newScore  original\n",
       "0        Austin Cotton  173.333333     520.0\n",
       "1        Kevin Bridges  171.000000     342.0\n",
       "2         Tyler Turner  171.000000     342.0\n",
       "3  Scarlett Stephenson  147.000000     294.0\n",
       "4         John Cochran   46.750000     374.0\n",
       "5     Dominic Hatfield   42.000000     294.0\n",
       "6      Brooklyn Riddle   41.777778     376.0\n",
       "7        Peyton Keller   27.000000      54.0"
      ]
     },
     "execution_count": 43,
     "metadata": {},
     "output_type": "execute_result"
    }
   ],
   "source": [
    "gds.run_cypher(\"\"\"\n",
    "  CALL gds.betweenness.stream('betweenness') YIELD nodeId, score\n",
    "  WITH gds.util.asNode(nodeId) AS c, score WHERE score > 0                       // Filter 0 scores again\n",
    "  MATCH (c)-[r:TRANSACTED_WITH]-(:Client)                                        // Retrieve the relationships\n",
    "  WITH c.name AS name, score, collect(r) AS txns                                 // Collect and count the number of relationships\n",
    "  WITH name, score AS original, score/size(txns) AS newScore\n",
    "  RETURN name, newScore, original ORDER BY newScore DESC;  \n",
    "\"\"\")"
   ]
  }
 ],
 "metadata": {
  "colab": {
   "authorship_tag": "ABX9TyOiPOIwDvHXAbwXfUP4II87",
   "include_colab_link": true,
   "provenance": []
  },
  "kernelspec": {
   "display_name": "Python 3 (ipykernel)",
   "language": "python",
   "name": "python3"
  },
  "language_info": {
   "codemirror_mode": {
    "name": "ipython",
    "version": 3
   },
   "file_extension": ".py",
   "mimetype": "text/x-python",
   "name": "python",
   "nbconvert_exporter": "python",
   "pygments_lexer": "ipython3",
   "version": "3.10.9"
  }
 },
 "nbformat": 4,
 "nbformat_minor": 4
}
