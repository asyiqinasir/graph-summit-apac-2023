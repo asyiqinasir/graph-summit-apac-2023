{
 "cells": [
  {
   "cell_type": "markdown",
   "metadata": {},
   "source": [
    "# Graph Data Science workshop with Neo4j\n",
    "\n",
    "Click on the link below to open a Colab version of the notebook. You will be able to create your own version."
   ]
  },
  {
   "cell_type": "markdown",
   "metadata": {
    "id": "JAPoU8Sm5E6e"
   },
   "source": [
    "<table align=\"left\">\n",
    "\n",
    "  <td>\n",
    "    <a href=\"https://colab.research.google.com/github/neo4j-field/graph-summit-apac-2023/blob/main/GDS_Workshop.ipynb\" target=\"_blank\">\n",
    "      <img src=\"https://cloud.google.com/ml-engine/images/colab-logo-32px.png\" alt=\"Colab logo\">Run your own notebook in Colab\n",
    "    </a>\n",
    "  </td>\n",
    "</table>"
   ]
  },
  {
   "cell_type": "markdown",
   "metadata": {},
   "source": [
    "---\n",
    "## Target\n",
    "\n",
    "Do fraud analysis on a group of persons and transactions using graphs and data science.  \n",
    "\n",
    "## Context\n",
    "\n",
    "This notebook allows you load a dataset based on an updated version of [Paysim](https://www.sisu.io/posts/paysim/).  \n",
    "PaySim is an approximation using an agent-based model and some anonymized, aggregate transactional data from a real mobile money network operator to create synthetic financial data sets academics and hackers can use for exploring ways to detect fraudulent behavior.  \n",
    "Using this [code](https://github.com/voutilad/paysim), you can generate your own dataset with different caracteristics (size, fraud occurences...).    \n",
    "\n",
    "We're going to leverage [Neo4j Graph Data Science (GDS)](https://neo4j.com/docs/graph-data-science/current/algorithms/) to investigate through the data and find out fraud patterns and fraudsters.  \n",
    "\n",
    "## Dataset\n",
    "\n",
    "The dataset used in this notebook represents money transafers between around 2500 clients, 75 merchants, 5 banks with 175000 transactions across 30 days.  \n",
    "There are 5 types of transactions:  \n",
    "* CashIn: a client moves money into the network via a merchant\n",
    "* CashOut: a client moves money out of the network via a merchant\n",
    "* Debit: a client moves money into a bank\n",
    "* Transfer: a client sends money to another client\n",
    "* Payment: a client exchanges money for something via a merchant\n",
    "\n",
    "We will try to identify Clients which are fraudsters, trying to target other clients by taking their money below limits ot be unnoticed.  \n",
    "We added from the the original Paysim some clients details (Phone, Email, SSN) to identify fake profiles too.  \n",
    "\n",
    "---\n",
    "\n",
    "## Let's get a graph database\n",
    "\n",
    "We will use a Neo4j graph database created on the [Neo4j sandbox](https://neo4j.com/sandbox/).  \n",
    "Once connected, on the _Select a project_ page, go to the section _Your own data_ and select the _Blank Sandbox_.  \n",
    "Click on the _Create_ button at the bottom of the page.  \n",
    "After few seconds, you should see the below.  \n",
    "<img src=\"./img/sandbox_start.png\" alt=\"Sandbox Start\" width=\"50%\" height=\"50%\" title=\"Sandbox Start\">  \n",
    "\n",
    "And once it's up and running, you can access the connection details by clicking on the top right down arrow and picking the *Connection details* tab.  \n",
    "You will need 2 things:\n",
    "* Password  \n",
    "* Bolt URL   \n",
    "\n",
    "<img src=\"./img/sandbox_details.png\" alt=\"Sandbox Details\" width=\"50%\" height=\"50%\" title=\"Sandbox Details\">  \n",
    "\n",
    "---\n",
    "\n",
    "## Let's code\n",
    "\n",
    "First we will import the [Neo4j GDS python library](https://pypi.org/project/graphdatascience/)  "
   ]
  },
  {
   "cell_type": "code",
   "execution_count": 1,
   "metadata": {
    "execution": {
     "iopub.execute_input": "2023-04-13T08:45:58.484437Z",
     "iopub.status.busy": "2023-04-13T08:45:58.484437Z",
     "iopub.status.idle": "2023-04-13T08:46:00.479883Z",
     "shell.execute_reply": "2023-04-13T08:46:00.478811Z",
     "shell.execute_reply.started": "2023-04-13T08:45:58.484437Z"
    },
    "id": "D3z2cYxEUpWJ",
    "tags": []
   },
   "outputs": [
    {
     "name": "stdout",
     "output_type": "stream",
     "text": [
      "Requirement already satisfied: graphdatascience in c:\\users\\xavier.pilas\\anaconda3\\envs\\neo4j\\lib\\site-packages (1.6)\n",
      "Requirement already satisfied: tqdm<5.0,>=4.0 in c:\\users\\xavier.pilas\\anaconda3\\envs\\neo4j\\lib\\site-packages (from graphdatascience) (4.64.1)\n",
      "Requirement already satisfied: pyarrow<11.0,>=4.0 in c:\\users\\xavier.pilas\\anaconda3\\envs\\neo4j\\lib\\site-packages (from graphdatascience) (9.0.0)\n",
      "Requirement already satisfied: multimethod<2.0,>=1.0 in c:\\users\\xavier.pilas\\anaconda3\\envs\\neo4j\\lib\\site-packages (from graphdatascience) (1.9)\n",
      "Requirement already satisfied: pandas<2.0,>=1.0 in c:\\users\\xavier.pilas\\anaconda3\\envs\\neo4j\\lib\\site-packages (from graphdatascience) (1.5.0)\n",
      "Requirement already satisfied: neo4j<6.0,>=4.4.2 in c:\\users\\xavier.pilas\\anaconda3\\envs\\neo4j\\lib\\site-packages (from graphdatascience) (5.5.0)\n",
      "Requirement already satisfied: pytz in c:\\users\\xavier.pilas\\anaconda3\\envs\\neo4j\\lib\\site-packages (from neo4j<6.0,>=4.4.2->graphdatascience) (2022.7)\n",
      "Requirement already satisfied: numpy>=1.21.0 in c:\\users\\xavier.pilas\\anaconda3\\envs\\neo4j\\lib\\site-packages (from pandas<2.0,>=1.0->graphdatascience) (1.23.3)\n",
      "Requirement already satisfied: python-dateutil>=2.8.1 in c:\\users\\xavier.pilas\\anaconda3\\envs\\neo4j\\lib\\site-packages (from pandas<2.0,>=1.0->graphdatascience) (2.8.2)\n",
      "Requirement already satisfied: colorama in c:\\users\\xavier.pilas\\anaconda3\\envs\\neo4j\\lib\\site-packages (from tqdm<5.0,>=4.0->graphdatascience) (0.4.6)\n",
      "Requirement already satisfied: six>=1.5 in c:\\users\\xavier.pilas\\anaconda3\\envs\\neo4j\\lib\\site-packages (from python-dateutil>=2.8.1->pandas<2.0,>=1.0->graphdatascience) (1.16.0)\n"
     ]
    }
   ],
   "source": [
    "# Install Neo4j GDS Python Client\n",
    "import sys\n",
    "!{sys.executable} -m pip install graphdatascience"
   ]
  },
  {
   "cell_type": "code",
   "execution_count": 2,
   "metadata": {
    "execution": {
     "iopub.execute_input": "2023-04-13T08:46:00.481751Z",
     "iopub.status.busy": "2023-04-13T08:46:00.481751Z",
     "iopub.status.idle": "2023-04-13T08:46:01.780187Z",
     "shell.execute_reply": "2023-04-13T08:46:01.780187Z",
     "shell.execute_reply.started": "2023-04-13T08:46:00.481751Z"
    },
    "id": "nqPnRkIfWTor",
    "tags": []
   },
   "outputs": [],
   "source": [
    "from graphdatascience import GraphDataScience"
   ]
  },
  {
   "cell_type": "markdown",
   "metadata": {},
   "source": [
    "### Instantiate your GDS Session\n",
    "\n",
    "Use Neo4j/Bolt URI and credentials according to your setup  \n",
    "\n",
    "For local standalone instance Bolt connection without auth    \n",
    "`gds = GraphDataScience(\"bolt://localhost:7687\", auth=None)`  \n",
    "\n",
    "For local standalone instance Bolt connection with auth    \n",
    "`gds = GraphDataScience(\"bolt://localhost:7687\", auth=(\"neo4j\", \"<password>\"))`  \n",
    "\n",
    "For remote cluster Neo4j connection with auth  \n",
    "`gds = GraphDataScience(\"neo4j://<FQDN or IP Address>:7687\", auth=(\"neo4j\", \"<password>\"))`  \n",
    "\n",
    "For remote standalone instance Bolt connection with auth   \n",
    "`gds = GraphDataScience(\"bolt://<FQDN or IP Address>:7687\", auth=(\"neo4j\", \"<password>\"))` "
   ]
  },
  {
   "cell_type": "code",
   "execution_count": 3,
   "metadata": {
    "execution": {
     "iopub.execute_input": "2023-04-13T08:46:01.782168Z",
     "iopub.status.busy": "2023-04-13T08:46:01.781188Z",
     "iopub.status.idle": "2023-04-13T08:46:05.057465Z",
     "shell.execute_reply": "2023-04-13T08:46:05.055514Z",
     "shell.execute_reply.started": "2023-04-13T08:46:01.782168Z"
    },
    "id": "xi7xemCCWTwZ",
    "tags": []
   },
   "outputs": [],
   "source": [
    "gds = GraphDataScience(\"bolt://3.231.156.13:7687\", auth=(\"neo4j\", \"integrity-crusts-friction\")) # >> Update the password and the URL here <<"
   ]
  },
  {
   "cell_type": "markdown",
   "metadata": {},
   "source": [
    "### Check the GDS version installed"
   ]
  },
  {
   "cell_type": "code",
   "execution_count": 4,
   "metadata": {
    "colab": {
     "base_uri": "https://localhost:8080/"
    },
    "execution": {
     "iopub.execute_input": "2023-04-13T08:46:05.059505Z",
     "iopub.status.busy": "2023-04-13T08:46:05.059505Z",
     "iopub.status.idle": "2023-04-13T08:46:05.352387Z",
     "shell.execute_reply": "2023-04-13T08:46:05.350353Z",
     "shell.execute_reply.started": "2023-04-13T08:46:05.059505Z"
    },
    "id": "u3TcuHHHWTzR",
    "outputId": "622f8dc2-61b4-44b7-e028-be995db0dbed",
    "tags": []
   },
   "outputs": [
    {
     "name": "stdout",
     "output_type": "stream",
     "text": [
      "Neo4j GDS Version: 2.3.1\n"
     ]
    }
   ],
   "source": [
    "print(f\"Neo4j GDS Version: {gds.version()}\")"
   ]
  },
  {
   "cell_type": "markdown",
   "metadata": {},
   "source": [
    "### Optional - Set database if you're not using the default _neo4j_ database. \n",
    "\n",
    "Not applicable for AuraDS, Neo4j Desktop and Neo4j Sandbox as we have only one database named _neo4j_."
   ]
  },
  {
   "cell_type": "code",
   "execution_count": 5,
   "metadata": {
    "execution": {
     "iopub.execute_input": "2023-04-13T08:46:05.355252Z",
     "iopub.status.busy": "2023-04-13T08:46:05.354374Z",
     "iopub.status.idle": "2023-04-13T08:46:05.366275Z",
     "shell.execute_reply": "2023-04-13T08:46:05.365270Z",
     "shell.execute_reply.started": "2023-04-13T08:46:05.355252Z"
    },
    "id": "jNfTsoQKWpXt",
    "tags": []
   },
   "outputs": [],
   "source": [
    "#gds.set_database(\"my-db\")"
   ]
  },
  {
   "cell_type": "markdown",
   "metadata": {},
   "source": [
    "### Mark it to True if you want to erase all the data in the db and reload all.\n",
    "If it is marked False, only the GDS properties will be remove, making the database ready for a rerun."
   ]
  },
  {
   "cell_type": "code",
   "execution_count": 6,
   "metadata": {
    "execution": {
     "iopub.execute_input": "2023-04-13T08:46:05.368263Z",
     "iopub.status.busy": "2023-04-13T08:46:05.367261Z",
     "iopub.status.idle": "2023-04-13T08:46:05.382269Z",
     "shell.execute_reply": "2023-04-13T08:46:05.381242Z",
     "shell.execute_reply.started": "2023-04-13T08:46:05.368263Z"
    },
    "id": "L1VaJViHa6TX",
    "tags": []
   },
   "outputs": [],
   "source": [
    "RELOAD_DATA = True"
   ]
  },
  {
   "cell_type": "markdown",
   "metadata": {},
   "source": [
    "### Cleaning the database or making it ready for a rerun of the notebook.\n",
    "Then we will use it to load the data from CSV files, running [Cypher](https://neo4j.com/developer/cypher/) queries.  "
   ]
  },
  {
   "cell_type": "code",
   "execution_count": 7,
   "metadata": {
    "execution": {
     "iopub.execute_input": "2023-04-13T08:46:05.386241Z",
     "iopub.status.busy": "2023-04-13T08:46:05.385268Z",
     "iopub.status.idle": "2023-04-13T08:47:26.236538Z",
     "shell.execute_reply": "2023-04-13T08:47:26.235539Z",
     "shell.execute_reply.started": "2023-04-13T08:46:05.386241Z"
    },
    "id": "BZ-Bk77eWpac",
    "tags": []
   },
   "outputs": [],
   "source": [
    "if RELOAD_DATA: # Delete all, takes few miniutes on a full database\n",
    "    gds.run_cypher(\n",
    "        \"\"\"\n",
    "        MATCH (n) CALL {\n",
    "          WITH n\n",
    "          DETACH DELETE n\n",
    "        } IN TRANSACTIONS OF 10 ROWS;\n",
    "        \"\"\"\n",
    "    )\n",
    "else: # Reset the GDS properties when we re run the book without erasing all\n",
    "    gds.run_cypher(\n",
    "        \"\"\"\n",
    "        MATCH (c:Client) SET c.fraud_group = null, c.fraud_group_2 = null, c.score = null;\n",
    "        \"\"\"\n",
    "    )"
   ]
  },
  {
   "cell_type": "markdown",
   "metadata": {
    "execution": {
     "iopub.execute_input": "2023-04-12T07:09:48.034862Z",
     "iopub.status.busy": "2023-04-12T07:09:48.034711Z",
     "iopub.status.idle": "2023-04-12T07:09:48.056279Z",
     "shell.execute_reply": "2023-04-12T07:09:48.055279Z",
     "shell.execute_reply.started": "2023-04-12T07:09:48.034862Z"
    }
   },
   "source": [
    "### Loading the data\n",
    "\n",
    "Using [LOAD CSV](https://neo4j.com/docs/cypher-manual/current/clauses/load-csv/), we are loading csv files into the database, creationg the graph on the fly.  \n",
    "The first cell is to test the file access, by reading it and showing only the first 5 rows.  "
   ]
  },
  {
   "cell_type": "code",
   "execution_count": 8,
   "metadata": {
    "execution": {
     "iopub.execute_input": "2023-04-13T08:47:26.237537Z",
     "iopub.status.busy": "2023-04-13T08:47:26.237537Z",
     "iopub.status.idle": "2023-04-13T08:47:26.778128Z",
     "shell.execute_reply": "2023-04-13T08:47:26.778128Z",
     "shell.execute_reply.started": "2023-04-13T08:47:26.237537Z"
    },
    "id": "T_STaebhWpcy",
    "tags": []
   },
   "outputs": [],
   "source": [
    "# Checking if we can access the data\n",
    "if RELOAD_DATA:\n",
    "    nodeListCSV = gds.run_cypher(\n",
    "    \"\"\"\n",
    "    LOAD CSV WITH HEADERS FROM \"https://raw.githubusercontent.com/neo4j-field/graph-summit-apac-2023/main/data/clients.csv\" AS row\n",
    "    RETURN row limit 5\n",
    "    \"\"\"\n",
    "    )\n",
    "    # The object returned is a Pandas Data Frame, so we can explore using standard Pandas methods\n",
    "    # The output is not what we expected but remember here were reading the CSV file and loading it into the Data Frame\n",
    "    nodeListCSV.head(5)"
   ]
  },
  {
   "cell_type": "markdown",
   "metadata": {},
   "source": [
    "### Creating constraints\n",
    "\n",
    "For data integrity, we will create [constraints](https://neo4j.com/docs/cypher-manual/current/constraints/) to have a robust graph data model."
   ]
  },
  {
   "cell_type": "code",
   "execution_count": 9,
   "metadata": {
    "execution": {
     "iopub.execute_input": "2023-04-13T08:47:26.780016Z",
     "iopub.status.busy": "2023-04-13T08:47:26.779019Z",
     "iopub.status.idle": "2023-04-13T08:47:31.411472Z",
     "shell.execute_reply": "2023-04-13T08:47:31.408742Z",
     "shell.execute_reply.started": "2023-04-13T08:47:26.780016Z"
    },
    "id": "931Nv3tbaOOO",
    "tags": []
   },
   "outputs": [],
   "source": [
    "if RELOAD_DATA:\n",
    "    # First we create index\n",
    "    CONSTRAINTS = [\n",
    "      \"CREATE CONSTRAINT ClientConstraint IF NOT EXISTS FOR (p:Client) REQUIRE p.id IS UNIQUE;\",\n",
    "      \"CREATE CONSTRAINT MuleConstraint IF NOT EXISTS FOR (p:Mule) REQUIRE p.id IS UNIQUE;\",\n",
    "      \"CREATE CONSTRAINT EmailConstraint IF NOT EXISTS FOR (p:Email) REQUIRE p.email IS UNIQUE;\",\n",
    "      \"CREATE CONSTRAINT PhoneConstraint IF NOT EXISTS FOR (p:Phone) REQUIRE p.phoneNumber IS UNIQUE;\",\n",
    "      \"CREATE CONSTRAINT SSNConstraint IF NOT EXISTS FOR (p:SSN) REQUIRE p.ssn IS UNIQUE;\",\n",
    "      \"CREATE CONSTRAINT MerchantConstraint IF NOT EXISTS FOR (p:Merchant) REQUIRE p.id IS UNIQUE;\",\n",
    "      \"CREATE CONSTRAINT BankConstraint IF NOT EXISTS FOR (p:Bank) REQUIRE p.id IS UNIQUE;\",\n",
    "      \"CREATE CONSTRAINT TransactionConstraint IF NOT EXISTS FOR (p:Transaction) REQUIRE p.globalStep IS UNIQUE;\",\n",
    "      \"CREATE CONSTRAINT DebitConstraint IF NOT EXISTS FOR (p:Transaction) REQUIRE p.globalStep IS UNIQUE;\",\n",
    "      \"CREATE CONSTRAINT CashInConstraint IF NOT EXISTS FOR (p:CashIn) REQUIRE p.globalStep IS UNIQUE;\",\n",
    "      \"CREATE CONSTRAINT CashOutConstraint IF NOT EXISTS FOR (p:CashOut) REQUIRE p.globalStep IS UNIQUE;\",\n",
    "      \"CREATE CONSTRAINT TransferConstraint IF NOT EXISTS FOR (p:Transfer) REQUIRE p.globalStep IS UNIQUE;\",\n",
    "      \"CREATE CONSTRAINT PaymentConstraint IF NOT EXISTS FOR (p:Payment) REQUIRE p.globalStep IS UNIQUE;\"\n",
    "    ]\n",
    "    for c in CONSTRAINTS:\n",
    "        gds.run_cypher(c)"
   ]
  },
  {
   "cell_type": "markdown",
   "metadata": {},
   "source": [
    "### Loading all the data\n",
    "\n",
    "We will load 7 csv files:  \n",
    "* one for clients   \n",
    "* one for merchants  \n",
    "* five for transactions  \n",
    "\n",
    "We can see how each node is created with a label and at leats one property.  \n",
    "We see all the relationships between all the nodes, to show the money exchanges betweens all entities.  "
   ]
  },
  {
   "cell_type": "code",
   "execution_count": 10,
   "metadata": {
    "execution": {
     "iopub.execute_input": "2023-04-13T08:47:31.415418Z",
     "iopub.status.busy": "2023-04-13T08:47:31.413445Z",
     "iopub.status.idle": "2023-04-13T08:47:33.005460Z",
     "shell.execute_reply": "2023-04-13T08:47:33.002478Z",
     "shell.execute_reply.started": "2023-04-13T08:47:31.415418Z"
    },
    "id": "9gzLKgHkaboi",
    "tags": []
   },
   "outputs": [],
   "source": [
    "if RELOAD_DATA:\n",
    "    # Load Clients data\n",
    "    gds.run_cypher(\n",
    "    \"\"\"\n",
    "        LOAD CSV WITH HEADERS FROM \"https://raw.githubusercontent.com/neo4j-field/graph-summit-apac-2023/main/data/clients.csv\" AS row\n",
    "        WITH row\n",
    "        MERGE (c:Client { id: row.ID })\n",
    "        SET c.name = row.NAME, c.isFraud = toBoolean(row.ISFRAUD)\n",
    "        MERGE (p:Phone { phoneNumber: row.PHONENUMBER })\n",
    "        MERGE (c)-[:HAS_PHONE]->(p)\n",
    "        MERGE (s:SSN { ssn: row.SSN })\n",
    "        MERGE (c)-[:HAS_SSN]->(s)\n",
    "        MERGE (e:Email { email: row.EMAIL })\n",
    "        MERGE (c)-[:HAS_EMAIL]->(e);\n",
    "    \"\"\"\n",
    "    )"
   ]
  },
  {
   "cell_type": "code",
   "execution_count": 11,
   "metadata": {
    "execution": {
     "iopub.execute_input": "2023-04-13T08:47:33.009465Z",
     "iopub.status.busy": "2023-04-13T08:47:33.008465Z",
     "iopub.status.idle": "2023-04-13T08:47:33.400118Z",
     "shell.execute_reply": "2023-04-13T08:47:33.399085Z",
     "shell.execute_reply.started": "2023-04-13T08:47:33.009465Z"
    },
    "id": "yQR8nWTRa-Rx",
    "tags": []
   },
   "outputs": [],
   "source": [
    "if RELOAD_DATA:\n",
    "    # Load Merchants data\n",
    "    gds.run_cypher(\n",
    "    \"\"\"\n",
    "        LOAD CSV WITH HEADERS FROM \"https://raw.githubusercontent.com/neo4j-field/graph-summit-apac-2023/main/data/merchants.csv\" AS row\n",
    "        WITH row\n",
    "        MERGE (m:Merchant { id: row.ID })\n",
    "        SET m.name = row.NAME, m.highRisk = toBoolean(row.HIGHRISK);\n",
    "    \"\"\"\n",
    "    )"
   ]
  },
  {
   "cell_type": "code",
   "execution_count": 12,
   "metadata": {
    "execution": {
     "iopub.execute_input": "2023-04-13T08:47:33.402206Z",
     "iopub.status.busy": "2023-04-13T08:47:33.402206Z",
     "iopub.status.idle": "2023-04-13T08:47:34.440812Z",
     "shell.execute_reply": "2023-04-13T08:47:34.439904Z",
     "shell.execute_reply.started": "2023-04-13T08:47:33.402206Z"
    },
    "id": "SWBqn1LLa-Vb",
    "tags": []
   },
   "outputs": [],
   "source": [
    "if RELOAD_DATA:\n",
    "    # Load Debit data\n",
    "    gds.run_cypher(\n",
    "    \"\"\"\n",
    "        LOAD CSV WITH HEADERS FROM \"https://raw.githubusercontent.com/neo4j-field/graph-summit-apac-2023/main/data/debit.csv\" AS row\n",
    "        WITH row\n",
    "        MERGE (b:Bank { id: row.IDDEST })\n",
    "        SET b.name = row.NAMEDEST\n",
    "        MERGE (c:Client { id: row.IDORIG })\n",
    "        MERGE (t:Transaction:Debit { globalStep: row.GLOBALSTEP })\n",
    "        SET t.amount = toFloat(row.AMOUNT), t.isFraud = toBoolean(row.ISFRAUD)\n",
    "        MERGE (t)-[:TO]->(b)\n",
    "        MERGE (c)-[:PERFORMED]->(t);\n",
    "    \"\"\"\n",
    "    )"
   ]
  },
  {
   "cell_type": "code",
   "execution_count": 13,
   "metadata": {
    "execution": {
     "iopub.execute_input": "2023-04-13T08:47:34.441813Z",
     "iopub.status.busy": "2023-04-13T08:47:34.441813Z",
     "iopub.status.idle": "2023-04-13T08:48:40.066988Z",
     "shell.execute_reply": "2023-04-13T08:48:40.065032Z",
     "shell.execute_reply.started": "2023-04-13T08:47:34.441813Z"
    },
    "id": "UaWM2vKba-Ys",
    "tags": []
   },
   "outputs": [],
   "source": [
    "if RELOAD_DATA:\n",
    "    # Load CashIn data, largest file then takes few seconds\n",
    "    gds.run_cypher(\n",
    "    \"\"\"\n",
    "        LOAD CSV WITH HEADERS FROM \"https://raw.githubusercontent.com/neo4j-field/graph-summit-apac-2023/main/data/cashin.csv\" AS row\n",
    "        CALL {\n",
    "            WITH row\n",
    "            MERGE (m:Merchant { id: row.IDDEST })\n",
    "            SET m.name = row.NAMEDEST\n",
    "            MERGE (c:Client { id: row.IDORIG })\n",
    "            MERGE (t:Transaction:CashIn { globalStep: row.GLOBALSTEP })\n",
    "            SET t.amount = toFloat(row.AMOUNT), t.isFraud = toBoolean(row.ISFRAUD)\n",
    "            MERGE (t)-[:TO]->(m)\n",
    "            MERGE (c)-[:PERFORMED]->(t)\n",
    "        } IN TRANSACTIONS OF 10 ROWS;\n",
    "    \"\"\"\n",
    "    )"
   ]
  },
  {
   "cell_type": "code",
   "execution_count": 14,
   "metadata": {
    "execution": {
     "iopub.execute_input": "2023-04-13T08:48:40.069881Z",
     "iopub.status.busy": "2023-04-13T08:48:40.068882Z",
     "iopub.status.idle": "2023-04-13T08:49:11.879576Z",
     "shell.execute_reply": "2023-04-13T08:49:11.877574Z",
     "shell.execute_reply.started": "2023-04-13T08:48:40.069881Z"
    },
    "id": "nwVnCVnCa-bG",
    "tags": []
   },
   "outputs": [],
   "source": [
    "if RELOAD_DATA:\n",
    "    # Load CashOut data\n",
    "    gds.run_cypher(\n",
    "    \"\"\"\n",
    "        LOAD CSV WITH HEADERS FROM \"https://raw.githubusercontent.com/neo4j-field/graph-summit-apac-2023/main/data/cashout.csv\" AS row\n",
    "        CALL {\n",
    "            WITH row\n",
    "            MERGE (m:Merchant { id: row.IDDEST })\n",
    "            SET m.name = row.NAMEDEST\n",
    "            MERGE (c:Client { id: row.IDORIG })\n",
    "            SET c.name = row.NAMEORIG\n",
    "            MERGE (t:Transaction:CashOut { globalStep: row.GLOBALSTEP })\n",
    "            SET t.amount = toFloat(row.AMOUNT), t.isFraud = toBoolean(row.ISFRAUD)\n",
    "            MERGE (t)-[:TO]->(m)\n",
    "            MERGE (c)-[:PERFORMED]->(t)\n",
    "        } IN TRANSACTIONS OF 10 ROWS;\n",
    "    \"\"\"\n",
    "    )"
   ]
  },
  {
   "cell_type": "code",
   "execution_count": 16,
   "metadata": {
    "execution": {
     "iopub.execute_input": "2023-04-13T08:50:03.778953Z",
     "iopub.status.busy": "2023-04-13T08:50:03.778953Z",
     "iopub.status.idle": "2023-04-13T08:50:21.741353Z",
     "shell.execute_reply": "2023-04-13T08:50:21.740257Z",
     "shell.execute_reply.started": "2023-04-13T08:50:03.778953Z"
    },
    "id": "a3rgtFjia-di",
    "tags": []
   },
   "outputs": [
    {
     "ename": "TransientError",
     "evalue": "{code: Neo.TransientError.General.MemoryPoolOutOfMemoryError} {message: The allocation of an extra 315.4 MiB would use more than the limit 358.4 MiB. Currently using 43.0 MiB. dbms.memory.transaction.total.max threshold reached}",
     "output_type": "error",
     "traceback": [
      "\u001b[1;31m---------------------------------------------------------------------------\u001b[0m",
      "\u001b[1;31mTransientError\u001b[0m                            Traceback (most recent call last)",
      "Cell \u001b[1;32mIn[16], line 3\u001b[0m\n\u001b[0;32m      1\u001b[0m \u001b[38;5;28;01mif\u001b[39;00m RELOAD_DATA:\n\u001b[0;32m      2\u001b[0m     \u001b[38;5;66;03m# Load Payment data\u001b[39;00m\n\u001b[1;32m----> 3\u001b[0m     \u001b[43mgds\u001b[49m\u001b[38;5;241;43m.\u001b[39;49m\u001b[43mrun_cypher\u001b[49m\u001b[43m(\u001b[49m\n\u001b[0;32m      4\u001b[0m \u001b[43m    \u001b[49m\u001b[38;5;124;43;03m\"\"\"\u001b[39;49;00m\n\u001b[0;32m      5\u001b[0m \u001b[38;5;124;43;03m        LOAD CSV WITH HEADERS FROM \"https://raw.githubusercontent.com/neo4j-field/graph-summit-apac-2023/main/data/payment.csv\" AS row\u001b[39;49;00m\n\u001b[0;32m      6\u001b[0m \u001b[38;5;124;43;03m        CALL {\u001b[39;49;00m\n\u001b[0;32m      7\u001b[0m \u001b[38;5;124;43;03m            WITH row\u001b[39;49;00m\n\u001b[0;32m      8\u001b[0m \u001b[38;5;124;43;03m            MERGE (m:Merchant { id: row.IDDEST })\u001b[39;49;00m\n\u001b[0;32m      9\u001b[0m \u001b[38;5;124;43;03m            SET m.name = row.NAMEDEST\u001b[39;49;00m\n\u001b[0;32m     10\u001b[0m \u001b[38;5;124;43;03m            MERGE (c:Client { id: row.IDORIG })\u001b[39;49;00m\n\u001b[0;32m     11\u001b[0m \u001b[38;5;124;43;03m            SET c.name = row.NAMEORIG\u001b[39;49;00m\n\u001b[0;32m     12\u001b[0m \u001b[38;5;124;43;03m            MERGE (t:Transaction:Payment { globalStep: row.GLOBALSTEP })\u001b[39;49;00m\n\u001b[0;32m     13\u001b[0m \u001b[38;5;124;43;03m            SET t.amount = toFloat(row.AMOUNT), t.isFraud = toBoolean(row.ISFRAUD)\u001b[39;49;00m\n\u001b[0;32m     14\u001b[0m \u001b[38;5;124;43;03m            MERGE (t)-[:TO]->(m)\u001b[39;49;00m\n\u001b[0;32m     15\u001b[0m \u001b[38;5;124;43;03m            MERGE (c)-[:PERFORMED]->(t)\u001b[39;49;00m\n\u001b[0;32m     16\u001b[0m \u001b[38;5;124;43;03m            FOREACH (ignoreMe in CASE WHEN row.TYPEORIG = 'MULE' THEN [1] ELSE [] END | SET c :Mule)\u001b[39;49;00m\n\u001b[0;32m     17\u001b[0m \u001b[38;5;124;43;03m        } IN TRANSACTIONS OF 5 ROWS;\u001b[39;49;00m\n\u001b[0;32m     18\u001b[0m \u001b[38;5;124;43;03m    \"\"\"\u001b[39;49;00m\n\u001b[0;32m     19\u001b[0m \u001b[43m    \u001b[49m\u001b[43m)\u001b[49m\n",
      "File \u001b[1;32m~\\anaconda3\\envs\\neo4j\\lib\\site-packages\\graphdatascience\\graph_data_science.py:146\u001b[0m, in \u001b[0;36mGraphDataScience.run_cypher\u001b[1;34m(self, query, params, database)\u001b[0m\n\u001b[0;32m    143\u001b[0m \u001b[38;5;28;01mif\u001b[39;00m \u001b[38;5;28misinstance\u001b[39m(\u001b[38;5;28mself\u001b[39m\u001b[38;5;241m.\u001b[39m_query_runner, ArrowQueryRunner):\n\u001b[0;32m    144\u001b[0m     qr \u001b[38;5;241m=\u001b[39m \u001b[38;5;28mself\u001b[39m\u001b[38;5;241m.\u001b[39m_query_runner\u001b[38;5;241m.\u001b[39mfallback_query_runner()\n\u001b[1;32m--> 146\u001b[0m \u001b[38;5;28;01mreturn\u001b[39;00m \u001b[43mqr\u001b[49m\u001b[38;5;241;43m.\u001b[39;49m\u001b[43mrun_query\u001b[49m\u001b[43m(\u001b[49m\u001b[43mquery\u001b[49m\u001b[43m,\u001b[49m\u001b[43m \u001b[49m\u001b[43mparams\u001b[49m\u001b[43m,\u001b[49m\u001b[43m \u001b[49m\u001b[43mdatabase\u001b[49m\u001b[43m)\u001b[49m\n",
      "File \u001b[1;32m~\\anaconda3\\envs\\neo4j\\lib\\site-packages\\graphdatascience\\query_runner\\neo4j_query_runner.py:53\u001b[0m, in \u001b[0;36mNeo4jQueryRunner.run_query\u001b[1;34m(self, query, params, database)\u001b[0m\n\u001b[0;32m     44\u001b[0m     warnings\u001b[38;5;241m.\u001b[39mfilterwarnings(\n\u001b[0;32m     45\u001b[0m         \u001b[38;5;124m\"\u001b[39m\u001b[38;5;124mignore\u001b[39m\u001b[38;5;124m\"\u001b[39m,\n\u001b[0;32m     46\u001b[0m         message\u001b[38;5;241m=\u001b[39m\u001b[38;5;124mr\u001b[39m\u001b[38;5;124m\"\u001b[39m\u001b[38;5;124m^ssl.OP_NO_SSL\u001b[39m\u001b[38;5;124m\\\u001b[39m\u001b[38;5;124m*/ssl.OP_NO_TLS\u001b[39m\u001b[38;5;124m\\\u001b[39m\u001b[38;5;124m* options are deprecated$\u001b[39m\u001b[38;5;124m\"\u001b[39m,\n\u001b[0;32m     47\u001b[0m     )\n\u001b[0;32m     48\u001b[0m     warnings\u001b[38;5;241m.\u001b[39mfilterwarnings(\n\u001b[0;32m     49\u001b[0m         \u001b[38;5;124m\"\u001b[39m\u001b[38;5;124mignore\u001b[39m\u001b[38;5;124m\"\u001b[39m,\n\u001b[0;32m     50\u001b[0m         message\u001b[38;5;241m=\u001b[39m\u001b[38;5;124mr\u001b[39m\u001b[38;5;124m\"\u001b[39m\u001b[38;5;124m^`id` is deprecated, use `element_id` instead$\u001b[39m\u001b[38;5;124m\"\u001b[39m,\n\u001b[0;32m     51\u001b[0m     )\n\u001b[1;32m---> 53\u001b[0m result \u001b[38;5;241m=\u001b[39m \u001b[43msession\u001b[49m\u001b[38;5;241;43m.\u001b[39;49m\u001b[43mrun\u001b[49m\u001b[43m(\u001b[49m\u001b[43mquery\u001b[49m\u001b[43m,\u001b[49m\u001b[43m \u001b[49m\u001b[43mparams\u001b[49m\u001b[43m)\u001b[49m\n\u001b[0;32m     55\u001b[0m \u001b[38;5;66;03m# Though pandas support may be experimental in the `neo4j` package, it should always\u001b[39;00m\n\u001b[0;32m     56\u001b[0m \u001b[38;5;66;03m# be supported in the `graphdatascience` package.\u001b[39;00m\n\u001b[0;32m     57\u001b[0m warnings\u001b[38;5;241m.\u001b[39mfilterwarnings(\n\u001b[0;32m     58\u001b[0m     \u001b[38;5;124m\"\u001b[39m\u001b[38;5;124mignore\u001b[39m\u001b[38;5;124m\"\u001b[39m,\n\u001b[0;32m     59\u001b[0m     message\u001b[38;5;241m=\u001b[39m\u001b[38;5;124mr\u001b[39m\u001b[38;5;124m\"\u001b[39m\u001b[38;5;124m^pandas support is experimental and might be changed or removed in future versions$\u001b[39m\u001b[38;5;124m\"\u001b[39m,\n\u001b[0;32m     60\u001b[0m )\n",
      "File \u001b[1;32m~\\anaconda3\\envs\\neo4j\\lib\\site-packages\\neo4j\\_sync\\work\\session.py:289\u001b[0m, in \u001b[0;36mSession.run\u001b[1;34m(self, query, parameters, **kwargs)\u001b[0m\n\u001b[0;32m    287\u001b[0m bookmarks \u001b[38;5;241m=\u001b[39m \u001b[38;5;28mself\u001b[39m\u001b[38;5;241m.\u001b[39m_get_bookmarks()\n\u001b[0;32m    288\u001b[0m parameters \u001b[38;5;241m=\u001b[39m \u001b[38;5;28mdict\u001b[39m(parameters \u001b[38;5;129;01mor\u001b[39;00m {}, \u001b[38;5;241m*\u001b[39m\u001b[38;5;241m*\u001b[39mkwargs)\n\u001b[1;32m--> 289\u001b[0m \u001b[38;5;28;43mself\u001b[39;49m\u001b[38;5;241;43m.\u001b[39;49m\u001b[43m_auto_result\u001b[49m\u001b[38;5;241;43m.\u001b[39;49m\u001b[43m_run\u001b[49m\u001b[43m(\u001b[49m\n\u001b[0;32m    290\u001b[0m \u001b[43m    \u001b[49m\u001b[43mquery\u001b[49m\u001b[43m,\u001b[49m\u001b[43m \u001b[49m\u001b[43mparameters\u001b[49m\u001b[43m,\u001b[49m\u001b[43m \u001b[49m\u001b[38;5;28;43mself\u001b[39;49m\u001b[38;5;241;43m.\u001b[39;49m\u001b[43m_config\u001b[49m\u001b[38;5;241;43m.\u001b[39;49m\u001b[43mdatabase\u001b[49m\u001b[43m,\u001b[49m\n\u001b[0;32m    291\u001b[0m \u001b[43m    \u001b[49m\u001b[38;5;28;43mself\u001b[39;49m\u001b[38;5;241;43m.\u001b[39;49m\u001b[43m_config\u001b[49m\u001b[38;5;241;43m.\u001b[39;49m\u001b[43mimpersonated_user\u001b[49m\u001b[43m,\u001b[49m\u001b[43m \u001b[49m\u001b[38;5;28;43mself\u001b[39;49m\u001b[38;5;241;43m.\u001b[39;49m\u001b[43m_config\u001b[49m\u001b[38;5;241;43m.\u001b[39;49m\u001b[43mdefault_access_mode\u001b[49m\u001b[43m,\u001b[49m\n\u001b[0;32m    292\u001b[0m \u001b[43m    \u001b[49m\u001b[43mbookmarks\u001b[49m\n\u001b[0;32m    293\u001b[0m \u001b[43m\u001b[49m\u001b[43m)\u001b[49m\n\u001b[0;32m    295\u001b[0m \u001b[38;5;28;01mreturn\u001b[39;00m \u001b[38;5;28mself\u001b[39m\u001b[38;5;241m.\u001b[39m_auto_result\n",
      "File \u001b[1;32m~\\anaconda3\\envs\\neo4j\\lib\\site-packages\\neo4j\\_sync\\work\\result.py:166\u001b[0m, in \u001b[0;36mResult._run\u001b[1;34m(self, query, parameters, db, imp_user, access_mode, bookmarks)\u001b[0m\n\u001b[0;32m    164\u001b[0m \u001b[38;5;28mself\u001b[39m\u001b[38;5;241m.\u001b[39m_pull()\n\u001b[0;32m    165\u001b[0m \u001b[38;5;28mself\u001b[39m\u001b[38;5;241m.\u001b[39m_connection\u001b[38;5;241m.\u001b[39msend_all()\n\u001b[1;32m--> 166\u001b[0m \u001b[38;5;28;43mself\u001b[39;49m\u001b[38;5;241;43m.\u001b[39;49m\u001b[43m_attach\u001b[49m\u001b[43m(\u001b[49m\u001b[43m)\u001b[49m\n",
      "File \u001b[1;32m~\\anaconda3\\envs\\neo4j\\lib\\site-packages\\neo4j\\_sync\\work\\result.py:274\u001b[0m, in \u001b[0;36mResult._attach\u001b[1;34m(self)\u001b[0m\n\u001b[0;32m    272\u001b[0m \u001b[38;5;28;01mif\u001b[39;00m \u001b[38;5;28mself\u001b[39m\u001b[38;5;241m.\u001b[39m_exhausted \u001b[38;5;129;01mis\u001b[39;00m \u001b[38;5;28;01mFalse\u001b[39;00m:\n\u001b[0;32m    273\u001b[0m     \u001b[38;5;28;01mwhile\u001b[39;00m \u001b[38;5;28mself\u001b[39m\u001b[38;5;241m.\u001b[39m_attached \u001b[38;5;129;01mis\u001b[39;00m \u001b[38;5;28;01mFalse\u001b[39;00m:\n\u001b[1;32m--> 274\u001b[0m         \u001b[38;5;28;43mself\u001b[39;49m\u001b[38;5;241;43m.\u001b[39;49m\u001b[43m_connection\u001b[49m\u001b[38;5;241;43m.\u001b[39;49m\u001b[43mfetch_message\u001b[49m\u001b[43m(\u001b[49m\u001b[43m)\u001b[49m\n",
      "File \u001b[1;32m~\\anaconda3\\envs\\neo4j\\lib\\site-packages\\neo4j\\_sync\\io\\_common.py:180\u001b[0m, in \u001b[0;36mConnectionErrorHandler.__getattr__.<locals>.outer.<locals>.inner\u001b[1;34m(*args, **kwargs)\u001b[0m\n\u001b[0;32m    178\u001b[0m \u001b[38;5;28;01mdef\u001b[39;00m \u001b[38;5;21minner\u001b[39m(\u001b[38;5;241m*\u001b[39margs, \u001b[38;5;241m*\u001b[39m\u001b[38;5;241m*\u001b[39mkwargs):\n\u001b[0;32m    179\u001b[0m     \u001b[38;5;28;01mtry\u001b[39;00m:\n\u001b[1;32m--> 180\u001b[0m         func(\u001b[38;5;241m*\u001b[39margs, \u001b[38;5;241m*\u001b[39m\u001b[38;5;241m*\u001b[39mkwargs)\n\u001b[0;32m    181\u001b[0m     \u001b[38;5;28;01mexcept\u001b[39;00m (Neo4jError, ServiceUnavailable, SessionExpired) \u001b[38;5;28;01mas\u001b[39;00m exc:\n\u001b[0;32m    182\u001b[0m         \u001b[38;5;28;01massert\u001b[39;00m \u001b[38;5;129;01mnot\u001b[39;00m asyncio\u001b[38;5;241m.\u001b[39miscoroutinefunction(\u001b[38;5;28mself\u001b[39m\u001b[38;5;241m.\u001b[39m__on_error)\n",
      "File \u001b[1;32m~\\anaconda3\\envs\\neo4j\\lib\\site-packages\\neo4j\\_sync\\io\\_bolt.py:658\u001b[0m, in \u001b[0;36mBolt.fetch_message\u001b[1;34m(self)\u001b[0m\n\u001b[0;32m    654\u001b[0m \u001b[38;5;66;03m# Receive exactly one message\u001b[39;00m\n\u001b[0;32m    655\u001b[0m tag, fields \u001b[38;5;241m=\u001b[39m \u001b[38;5;28mself\u001b[39m\u001b[38;5;241m.\u001b[39minbox\u001b[38;5;241m.\u001b[39mpop(\n\u001b[0;32m    656\u001b[0m     hydration_hooks\u001b[38;5;241m=\u001b[39m\u001b[38;5;28mself\u001b[39m\u001b[38;5;241m.\u001b[39mresponses[\u001b[38;5;241m0\u001b[39m]\u001b[38;5;241m.\u001b[39mhydration_hooks\n\u001b[0;32m    657\u001b[0m )\n\u001b[1;32m--> 658\u001b[0m res \u001b[38;5;241m=\u001b[39m \u001b[38;5;28;43mself\u001b[39;49m\u001b[38;5;241;43m.\u001b[39;49m\u001b[43m_process_message\u001b[49m\u001b[43m(\u001b[49m\u001b[43mtag\u001b[49m\u001b[43m,\u001b[49m\u001b[43m \u001b[49m\u001b[43mfields\u001b[49m\u001b[43m)\u001b[49m\n\u001b[0;32m    659\u001b[0m \u001b[38;5;28mself\u001b[39m\u001b[38;5;241m.\u001b[39midle_since \u001b[38;5;241m=\u001b[39m perf_counter()\n\u001b[0;32m    660\u001b[0m \u001b[38;5;28;01mreturn\u001b[39;00m res\n",
      "File \u001b[1;32m~\\anaconda3\\envs\\neo4j\\lib\\site-packages\\neo4j\\_sync\\io\\_bolt5.py:317\u001b[0m, in \u001b[0;36mBolt5x0._process_message\u001b[1;34m(self, tag, fields)\u001b[0m\n\u001b[0;32m    315\u001b[0m \u001b[38;5;28mself\u001b[39m\u001b[38;5;241m.\u001b[39m_server_state_manager\u001b[38;5;241m.\u001b[39mstate \u001b[38;5;241m=\u001b[39m ServerStates\u001b[38;5;241m.\u001b[39mFAILED\n\u001b[0;32m    316\u001b[0m \u001b[38;5;28;01mtry\u001b[39;00m:\n\u001b[1;32m--> 317\u001b[0m     \u001b[43mresponse\u001b[49m\u001b[38;5;241;43m.\u001b[39;49m\u001b[43mon_failure\u001b[49m\u001b[43m(\u001b[49m\u001b[43msummary_metadata\u001b[49m\u001b[43m \u001b[49m\u001b[38;5;129;43;01mor\u001b[39;49;00m\u001b[43m \u001b[49m\u001b[43m{\u001b[49m\u001b[43m}\u001b[49m\u001b[43m)\u001b[49m\n\u001b[0;32m    318\u001b[0m \u001b[38;5;28;01mexcept\u001b[39;00m (ServiceUnavailable, DatabaseUnavailable):\n\u001b[0;32m    319\u001b[0m     \u001b[38;5;28;01mif\u001b[39;00m \u001b[38;5;28mself\u001b[39m\u001b[38;5;241m.\u001b[39mpool:\n",
      "File \u001b[1;32m~\\anaconda3\\envs\\neo4j\\lib\\site-packages\\neo4j\\_sync\\io\\_common.py:247\u001b[0m, in \u001b[0;36mResponse.on_failure\u001b[1;34m(self, metadata)\u001b[0m\n\u001b[0;32m    245\u001b[0m handler \u001b[38;5;241m=\u001b[39m \u001b[38;5;28mself\u001b[39m\u001b[38;5;241m.\u001b[39mhandlers\u001b[38;5;241m.\u001b[39mget(\u001b[38;5;124m\"\u001b[39m\u001b[38;5;124mon_summary\u001b[39m\u001b[38;5;124m\"\u001b[39m)\n\u001b[0;32m    246\u001b[0m Util\u001b[38;5;241m.\u001b[39mcallback(handler)\n\u001b[1;32m--> 247\u001b[0m \u001b[38;5;28;01mraise\u001b[39;00m Neo4jError\u001b[38;5;241m.\u001b[39mhydrate(\u001b[38;5;241m*\u001b[39m\u001b[38;5;241m*\u001b[39mmetadata)\n",
      "\u001b[1;31mTransientError\u001b[0m: {code: Neo.TransientError.General.MemoryPoolOutOfMemoryError} {message: The allocation of an extra 315.4 MiB would use more than the limit 358.4 MiB. Currently using 43.0 MiB. dbms.memory.transaction.total.max threshold reached}"
     ]
    }
   ],
   "source": [
    "if RELOAD_DATA:\n",
    "    # Load Payment data\n",
    "    gds.run_cypher(\n",
    "    \"\"\"\n",
    "        LOAD CSV WITH HEADERS FROM \"https://raw.githubusercontent.com/neo4j-field/graph-summit-apac-2023/main/data/payment.csv\" AS row\n",
    "        CALL {\n",
    "            WITH row\n",
    "            MERGE (m:Merchant { id: row.IDDEST })\n",
    "            SET m.name = row.NAMEDEST\n",
    "            MERGE (c:Client { id: row.IDORIG })\n",
    "            SET c.name = row.NAMEORIG\n",
    "            MERGE (t:Transaction:Payment { globalStep: row.GLOBALSTEP })\n",
    "            SET t.amount = toFloat(row.AMOUNT), t.isFraud = toBoolean(row.ISFRAUD)\n",
    "            MERGE (t)-[:TO]->(m)\n",
    "            MERGE (c)-[:PERFORMED]->(t)\n",
    "            FOREACH (ignoreMe in CASE WHEN row.TYPEORIG = 'MULE' THEN [1] ELSE [] END | SET c :Mule)\n",
    "        } IN TRANSACTIONS OF 5 ROWS;\n",
    "    \"\"\"\n",
    "    )"
   ]
  },
  {
   "cell_type": "code",
   "execution_count": null,
   "metadata": {
    "execution": {
     "iopub.status.busy": "2023-04-13T08:49:45.732126Z",
     "iopub.status.idle": "2023-04-13T08:49:45.732126Z",
     "shell.execute_reply": "2023-04-13T08:49:45.732126Z",
     "shell.execute_reply.started": "2023-04-13T08:49:45.732126Z"
    },
    "id": "tt9gS2zNa-gX",
    "tags": []
   },
   "outputs": [],
   "source": [
    "if RELOAD_DATA:\n",
    "    # Load Transfer data\n",
    "    gds.run_cypher(\n",
    "    \"\"\"\n",
    "    LOAD CSV WITH HEADERS FROM \"https://raw.githubusercontent.com/neo4j-field/graph-summit-apac-2023/main/data/transfer.csv\" AS row\n",
    "    CALL {\n",
    "        WITH row\n",
    "        MERGE (cd:Client { id: row.IDDEST })\n",
    "        SET cd.name = row.NAMEDEST\n",
    "        MERGE (co:Client { id: row.IDORIG })\n",
    "        SET co.name = row.NAMEORIG\n",
    "        MERGE (t:Transaction:Transfer { globalStep: row.GLOBALSTEP })\n",
    "        SET t.amount = toFloat(row.AMOUNT), t.isFraud = toBoolean(row.ISFRAUD)\n",
    "        MERGE (t)-[:TO]->(cd)\n",
    "        MERGE (co)-[:PERFORMED]->(t)\n",
    "        FOREACH (ignoreMe in CASE WHEN row.TYPEDEST = 'MULE' THEN [1] ELSE [] END | SET cd :Mule)\n",
    "        FOREACH (ignoreMe in CASE WHEN row.TYPEORIG = 'MULE' THEN [1] ELSE [] END | SET co :Mule)\n",
    "    } IN TRANSACTIONS OF 5 ROWS;\n",
    "    \"\"\"\n",
    "    )"
   ]
  },
  {
   "cell_type": "markdown",
   "metadata": {},
   "source": [
    "Before updating the graph, you can check out the result with this command in Neo4j Browser (accessible from the Sandbox UI).  \n",
    "`CALL db.schema.visualization`  \n",
    "to see the data model from the data you have just loaded\n",
    "\n",
    "---\n",
    "### Enriching the graph\n",
    "\n",
    "Using the transaction details, we are able to enrich the model by adding the ordering of the transaction using the global step."
   ]
  },
  {
   "cell_type": "code",
   "execution_count": null,
   "metadata": {
    "execution": {
     "iopub.status.busy": "2023-04-13T08:49:45.733099Z",
     "iopub.status.idle": "2023-04-13T08:49:45.734046Z",
     "shell.execute_reply": "2023-04-13T08:49:45.734046Z",
     "shell.execute_reply.started": "2023-04-13T08:49:45.734046Z"
    },
    "id": "4o2iOkxVa-it",
    "tags": []
   },
   "outputs": [],
   "source": [
    "if RELOAD_DATA:\n",
    "    # Update data model with new relationships\n",
    "    gds.run_cypher(\n",
    "    \"\"\"\n",
    "    MATCH (c:Client) with c.id as clientId\n",
    "    CALL {\n",
    "        WITH clientId\n",
    "        MATCH (c:Client {id: clientId})-[:PERFORMED]->(tx:Transaction)\n",
    "        WITH c, tx ORDER BY tx.globalStep\n",
    "        WITH c, collect(tx) AS txs\n",
    "        WITH c, txs, head(txs) AS _start, last(txs) AS _last\n",
    "\n",
    "        MERGE (c)-[:FIRST_TX]->(_start)\n",
    "        MERGE (c)-[:LAST_TX]->(_last)\n",
    "        WITH c, apoc.coll.pairsMin(txs) AS pairs\n",
    "\n",
    "        UNWIND pairs AS pair\n",
    "          WITH pair[0] AS a, pair[1] AS b\n",
    "          MERGE (a)-[n:NEXT]->(b)\n",
    "    } IN TRANSACTIONS OF 10 ROWS;\n",
    "    \"\"\"\n",
    "    )"
   ]
  },
  {
   "cell_type": "markdown",
   "metadata": {},
   "source": [
    "### Having a first look at the dataset"
   ]
  },
  {
   "cell_type": "code",
   "execution_count": null,
   "metadata": {
    "execution": {
     "iopub.status.busy": "2023-04-13T08:49:45.734046Z",
     "iopub.status.idle": "2023-04-13T08:49:45.734046Z",
     "shell.execute_reply": "2023-04-13T08:49:45.734046Z",
     "shell.execute_reply.started": "2023-04-13T08:49:45.734046Z"
    },
    "tags": []
   },
   "outputs": [],
   "source": [
    "result = gds.run_cypher(\n",
    "    \"\"\"\n",
    "    CALL db.labels() YIELD label\n",
    "    CALL apoc.cypher.run('MATCH (:`'+label+'`) RETURN count(*) as freq',{}) YIELD value\n",
    "    WITH label,value.freq AS freq\n",
    "    CALL apoc.meta.stats() YIELD nodeCount\n",
    "    WITH *, 10^3 AS scaleFactor, toFloat(freq)/toFloat(nodeCount) AS relFreq\n",
    "    RETURN label AS nodeLabel,\n",
    "        freq AS frequency,\n",
    "        round(relFreq*scaleFactor)/scaleFactor AS relativeFrequency\n",
    "    ORDER BY freq DESC\n",
    "    \"\"\"\n",
    ")\n",
    "result"
   ]
  },
  {
   "cell_type": "markdown",
   "metadata": {},
   "source": [
    "### Let's have a look on how the money is exchanged across entities"
   ]
  },
  {
   "cell_type": "code",
   "execution_count": null,
   "metadata": {
    "execution": {
     "iopub.status.busy": "2023-04-13T08:49:45.736047Z",
     "iopub.status.idle": "2023-04-13T08:49:45.736047Z",
     "shell.execute_reply": "2023-04-13T08:49:45.736047Z",
     "shell.execute_reply.started": "2023-04-13T08:49:45.736047Z"
    }
   },
   "outputs": [],
   "source": [
    "result = gds.run_cypher(\n",
    "    \"\"\"\n",
    "    MATCH (t:Transaction)\n",
    "    WITH sum(t.amount) AS globalSum, count(t) AS globalCnt\n",
    "    WITH *, 10^3 AS scaleFactor\n",
    "    UNWIND ['CashIn', 'CashOut', 'Payment', 'Debit', 'Transfer'] AS txType\n",
    "        CALL apoc.cypher.run('MATCH (t:' + txType + ') RETURN sum(t.amount) as txAmount, count(t) AS txCnt', {}) YIELD value\n",
    "        RETURN txType,\n",
    "            value.txAmount AS TotalMarketValue,\n",
    "            100 * round(scaleFactor * (toFloat(value.txAmount) / toFloat(globalSum)))/scaleFactor AS `%MarketValue`,\n",
    "            100 * round(scaleFactor * (toFloat(value.txCnt) / toFloat(globalCnt)))/scaleFactor AS `%MarketTransactions`,\n",
    "            toInteger(toFloat(value.txAmount) / toFloat(value.txCnt)) AS AvgTransactionValue,\n",
    "            value.txCnt AS NumberOfTransactions\n",
    "        ORDER BY `%MarketTransactions` DESC\n",
    "    \"\"\"\n",
    ")\n",
    "result"
   ]
  },
  {
   "cell_type": "markdown",
   "metadata": {},
   "source": [
    "---\n",
    "### Let's do some data science \n",
    "\n",
    "Now that our graph is constructed and filled with data, we can start our analysis.  \n",
    "\n",
    "We will use the [Weakly Connected Components](https://neo4j.com/docs/graph-data-science/current/algorithms/wcc/) algorithm to investigate.  \n",
    "\n",
    "---"
   ]
  },
  {
   "cell_type": "code",
   "execution_count": null,
   "metadata": {
    "execution": {
     "iopub.status.busy": "2023-04-13T08:49:45.736047Z",
     "iopub.status.idle": "2023-04-13T08:49:45.737113Z",
     "shell.execute_reply": "2023-04-13T08:49:45.737113Z",
     "shell.execute_reply.started": "2023-04-13T08:49:45.737113Z"
    },
    "id": "1RIXaXRFbazk",
    "tags": []
   },
   "outputs": [],
   "source": [
    "# My first graph project name to use wcc algorithm\n",
    "graphName = 'wccGroups'\n",
    "# We will focus on fraud group above 5 members\n",
    "fraudGroupMinSize = 4"
   ]
  },
  {
   "cell_type": "code",
   "execution_count": null,
   "metadata": {
    "execution": {
     "iopub.status.busy": "2023-04-13T08:49:45.738074Z",
     "iopub.status.idle": "2023-04-13T08:49:45.738074Z",
     "shell.execute_reply": "2023-04-13T08:49:45.738074Z",
     "shell.execute_reply.started": "2023-04-13T08:49:45.738074Z"
    },
    "id": "OtUtta8EqVEf",
    "tags": []
   },
   "outputs": [],
   "source": [
    "# Remove existing projection with the same name, in case of a re run of the notebook\n",
    "if gds.graph.exists(graphName).exists:\n",
    "    gds.graph.drop(gds.graph.get(graphName))"
   ]
  },
  {
   "cell_type": "markdown",
   "metadata": {},
   "source": [
    "### Lets' find first party fraud\n",
    "\n",
    "By checking connections among clients, we can identify fake profiles and shady clients.  \n",
    "We will start with a memory estimate of our projection.  "
   ]
  },
  {
   "cell_type": "code",
   "execution_count": null,
   "metadata": {
    "execution": {
     "iopub.status.busy": "2023-04-13T08:49:45.739065Z",
     "iopub.status.idle": "2023-04-13T08:49:45.740060Z",
     "shell.execute_reply": "2023-04-13T08:49:45.740060Z",
     "shell.execute_reply.started": "2023-04-13T08:49:45.740060Z"
    },
    "tags": []
   },
   "outputs": [],
   "source": [
    "gds.graph.project.estimate(\n",
    "    ['Client', 'SSN', 'Email', 'Phone'],     # Nodes to be added in the projection\n",
    "    ['HAS_SSN', 'HAS_EMAIL', 'HAS_PHONE'])   # Relationships to be added in the projection"
   ]
  },
  {
   "cell_type": "markdown",
   "metadata": {},
   "source": [
    "### We will create the projection to be used\n",
    "\n",
    "We will use the variable _projection_ in our notebook. If you want to use it in Neo4j Browser, you can run "
   ]
  },
  {
   "cell_type": "code",
   "execution_count": null,
   "metadata": {
    "execution": {
     "iopub.status.busy": "2023-04-13T08:49:45.741049Z",
     "iopub.status.idle": "2023-04-13T08:49:45.741049Z",
     "shell.execute_reply": "2023-04-13T08:49:45.741049Z",
     "shell.execute_reply.started": "2023-04-13T08:49:45.741049Z"
    },
    "id": "jg8EWiKaqVHO",
    "tags": []
   },
   "outputs": [],
   "source": [
    "projection, projectionPandas = gds.graph.project(graphName, ['Client', 'SSN', 'Email', 'Phone'], ['HAS_SSN', 'HAS_EMAIL', 'HAS_PHONE'])\n",
    "projectionPandas"
   ]
  },
  {
   "cell_type": "markdown",
   "metadata": {},
   "source": [
    "### Before running the algorithm, we estimate the memory needed to execute it"
   ]
  },
  {
   "cell_type": "code",
   "execution_count": null,
   "metadata": {
    "execution": {
     "iopub.status.busy": "2023-04-13T08:49:45.742042Z",
     "iopub.status.idle": "2023-04-13T08:49:45.742042Z",
     "shell.execute_reply": "2023-04-13T08:49:45.742042Z",
     "shell.execute_reply.started": "2023-04-13T08:49:45.742042Z"
    },
    "tags": []
   },
   "outputs": [],
   "source": [
    "gds.wcc.stream.estimate(projection)"
   ]
  },
  {
   "cell_type": "markdown",
   "metadata": {},
   "source": [
    "### Let's check how the algorithm will find community in the projection"
   ]
  },
  {
   "cell_type": "code",
   "execution_count": null,
   "metadata": {
    "colab": {
     "base_uri": "https://localhost:8080/",
     "height": 394
    },
    "execution": {
     "iopub.status.busy": "2023-04-13T08:49:45.743030Z",
     "iopub.status.idle": "2023-04-13T08:49:45.744046Z",
     "shell.execute_reply": "2023-04-13T08:49:45.744046Z",
     "shell.execute_reply.started": "2023-04-13T08:49:45.744046Z"
    },
    "id": "j7dls0G-qVMN",
    "outputId": "ea568b15-21d0-404c-a908-0d76bfc25fa9",
    "tags": []
   },
   "outputs": [],
   "source": [
    "result = gds.wcc.stream(projection)\n",
    "result.head(10)"
   ]
  },
  {
   "cell_type": "code",
   "execution_count": null,
   "metadata": {
    "execution": {
     "iopub.status.busy": "2023-04-13T08:49:45.746048Z",
     "iopub.status.idle": "2023-04-13T08:49:45.747074Z",
     "shell.execute_reply": "2023-04-13T08:49:45.747074Z",
     "shell.execute_reply.started": "2023-04-13T08:49:45.747074Z"
    }
   },
   "outputs": [],
   "source": [
    "result.groupby(['componentId']).count().sort_values('nodeId', ascending=False).head(10)"
   ]
  },
  {
   "cell_type": "markdown",
   "metadata": {},
   "source": [
    "### Let's populate the graph with a new property to represent the community detected by the wcc algorithm."
   ]
  },
  {
   "cell_type": "code",
   "execution_count": null,
   "metadata": {
    "colab": {
     "base_uri": "https://localhost:8080/"
    },
    "execution": {
     "iopub.status.busy": "2023-04-13T08:49:45.748046Z",
     "iopub.status.idle": "2023-04-13T08:49:45.748046Z",
     "shell.execute_reply": "2023-04-13T08:49:45.748046Z",
     "shell.execute_reply.started": "2023-04-13T08:49:45.748046Z"
    },
    "id": "Z2NF86MlzHVR",
    "outputId": "dada8627-55e7-42ab-91ca-26296e4d19b2",
    "tags": []
   },
   "outputs": [],
   "source": [
    "result_wcc = gds.wcc.write(projection, writeProperty='fraud_group', minComponentSize=fraudGroupMinSize)\n",
    "result_wcc"
   ]
  },
  {
   "cell_type": "code",
   "execution_count": null,
   "metadata": {
    "colab": {
     "base_uri": "https://localhost:8080/",
     "height": 49
    },
    "execution": {
     "iopub.status.busy": "2023-04-13T08:49:45.749010Z",
     "iopub.status.idle": "2023-04-13T08:49:45.750009Z",
     "shell.execute_reply": "2023-04-13T08:49:45.750009Z",
     "shell.execute_reply.started": "2023-04-13T08:49:45.750009Z"
    },
    "id": "7d0hPxuYzHX3",
    "outputId": "9e0895f1-8f65-4b5f-c5ca-0bdf42ff6c45",
    "tags": []
   },
   "outputs": [],
   "source": [
    "# Create an index on the new property just created by the wcc algorithm on Clients\n",
    "gds.run_cypher(\"CREATE INDEX ClientFraudIndex IF NOT EXISTS FOR (c:Client) on c.fraud_group;\")"
   ]
  },
  {
   "cell_type": "code",
   "execution_count": null,
   "metadata": {
    "colab": {
     "base_uri": "https://localhost:8080/",
     "height": 363
    },
    "execution": {
     "iopub.status.busy": "2023-04-13T08:49:45.751011Z",
     "iopub.status.idle": "2023-04-13T08:49:45.751011Z",
     "shell.execute_reply": "2023-04-13T08:49:45.751011Z",
     "shell.execute_reply.started": "2023-04-13T08:49:45.751011Z"
    },
    "id": "IFvM5X4KzHaJ",
    "outputId": "740dab9c-9124-432f-82d2-4fad1665a524",
    "tags": []
   },
   "outputs": [],
   "source": [
    "# Look at the community created by the algorithm\n",
    "# We can see the biggest community has 16 elements\n",
    "result = gds.run_cypher(\"\"\"\n",
    "  MATCH (c:Client) WHERE c.fraud_group IS NOT NULL\n",
    "  WITH c.fraud_group AS groupId, collect(c.id) AS members\n",
    "  WITH groupId, size(members) AS groupSize\n",
    "  WITH collect(groupId) AS groupsOfSize, groupSize\n",
    "  RETURN groupSize, size(groupsOfSize) AS numOfGroups, groupsOfSize as FraudGroupIds\n",
    "  ORDER BY groupSize DESC;\n",
    "\"\"\")\n",
    "result.head(10)"
   ]
  },
  {
   "cell_type": "markdown",
   "metadata": {},
   "source": [
    "# Look at the large community in Neo4j Browser\n",
    "Run this Cypher query in Neo4j Browser to visualize the two largest communities.  \n",
    "\n",
    "`MATCH (c:Client)-[r:HAS_PHONE|HAS_EMAIL|HAS_PHONE]->(n) WHERE c.fraud_group IN [5207, 5649] RETURN c,r,n`  \n",
    "or just to see large groups  \n",
    "`MATCH (c:Client) WHERE c.fraud_group IS NOT NULL\n",
    "WITH c.fraud_group AS groupId, collect(c.id) AS members\n",
    "WITH *, size(members) AS groupSize WHERE groupSize > 12\n",
    "MATCH p=(c:Client {fraud_group:groupId})-[:HAS_SSN|HAS_EMAIL|HAS_PHONE]->()\n",
    "RETURN p`"
   ]
  },
  {
   "cell_type": "code",
   "execution_count": null,
   "metadata": {
    "colab": {
     "base_uri": "https://localhost:8080/",
     "height": 112
    },
    "execution": {
     "iopub.status.busy": "2023-04-13T08:49:45.752012Z",
     "iopub.status.idle": "2023-04-13T08:49:45.752012Z",
     "shell.execute_reply": "2023-04-13T08:49:45.752012Z",
     "shell.execute_reply.started": "2023-04-13T08:49:45.752012Z"
    },
    "id": "gan-K2JOdvsr",
    "outputId": "99097d3d-5fb5-432f-ce38-ce5bb7ec9035",
    "tags": []
   },
   "outputs": [],
   "source": [
    "result = gds.run_cypher(\"\"\"\n",
    "  MATCH (c:Client) WHERE c.fraud_group IS NOT NULL\n",
    "  WITH c.fraud_group AS groupId, collect(c.id) AS members\n",
    "  WITH groupId, size(members) AS groupSize WHERE groupSize > $gs\n",
    "  MATCH (:Client {fraud_group:groupId})-[]-(txn)-[]-(d)      \n",
    "  WHERE d.fraud_group IS NULL\n",
    "  UNWIND labels(txn) AS txnType                                                 \n",
    "  RETURN distinct(txnType), count(txnType);\n",
    "\"\"\", params= {'gs': fraudGroupMinSize} )\n",
    "result"
   ]
  },
  {
   "cell_type": "markdown",
   "metadata": {},
   "source": [
    "### Let's create a new property to identofy suspect clients"
   ]
  },
  {
   "cell_type": "code",
   "execution_count": null,
   "metadata": {
    "colab": {
     "base_uri": "https://localhost:8080/",
     "height": 81
    },
    "execution": {
     "iopub.status.busy": "2023-04-13T08:49:45.753009Z",
     "iopub.status.idle": "2023-04-13T08:49:45.753009Z",
     "shell.execute_reply": "2023-04-13T08:49:45.753009Z",
     "shell.execute_reply.started": "2023-04-13T08:49:45.753009Z"
    },
    "id": "vVzy325Hdvu-",
    "outputId": "379bb171-6001-4739-e0e7-bad10308e000",
    "tags": []
   },
   "outputs": [],
   "source": [
    "result = gds.run_cypher(\"\"\"\n",
    "  MATCH (c:Client) WHERE c.fraud_group IS NOT NULL\n",
    "  WITH c.fraud_group AS groupId, collect(c.id) AS members\n",
    "  WITH groupId, size(members) AS groupSize WHERE groupSize > $gs\n",
    "  MATCH (c1:Client {fraud_group:groupId})-[]-(t:Transaction)-[]-(c2:Client)     \n",
    "  WHERE c2.fraud_group IS NULL\n",
    "  SET c1.suspect = true, c2.suspect = true                                      \n",
    "  MERGE (c1)-[r:TRANSACTED_WITH]->(c2)                                          \n",
    "  ON CREATE SET r += t\n",
    "  RETURN count(r);\n",
    "\"\"\", params= {'gs': fraudGroupMinSize})\n",
    "result"
   ]
  },
  {
   "cell_type": "markdown",
   "metadata": {},
   "source": [
    "### We found 3335 suspect transactions, let's investigate them using again wcc"
   ]
  },
  {
   "cell_type": "code",
   "execution_count": null,
   "metadata": {
    "execution": {
     "iopub.status.busy": "2023-04-13T08:49:45.755012Z",
     "iopub.status.idle": "2023-04-13T08:49:45.756011Z",
     "shell.execute_reply": "2023-04-13T08:49:45.756011Z",
     "shell.execute_reply.started": "2023-04-13T08:49:45.756011Z"
    }
   },
   "outputs": [],
   "source": [
    "graphName2 = 'wccGroups2'"
   ]
  },
  {
   "cell_type": "code",
   "execution_count": null,
   "metadata": {
    "execution": {
     "iopub.status.busy": "2023-04-13T08:49:45.757012Z",
     "iopub.status.idle": "2023-04-13T08:49:45.757012Z",
     "shell.execute_reply": "2023-04-13T08:49:45.757012Z",
     "shell.execute_reply.started": "2023-04-13T08:49:45.757012Z"
    },
    "id": "ObHYE5frdvxg",
    "tags": []
   },
   "outputs": [],
   "source": [
    "# Remove existing graph with the same name\n",
    "if gds.graph.exists(graphName2).exists:\n",
    "    gds.graph.drop(gds.graph.get(graphName2))"
   ]
  },
  {
   "cell_type": "markdown",
   "metadata": {},
   "source": [
    "### Creating a new projection using only suspect clients"
   ]
  },
  {
   "cell_type": "code",
   "execution_count": null,
   "metadata": {
    "execution": {
     "iopub.status.busy": "2023-04-13T08:49:45.758009Z",
     "iopub.status.idle": "2023-04-13T08:49:45.758009Z",
     "shell.execute_reply": "2023-04-13T08:49:45.758009Z",
     "shell.execute_reply.started": "2023-04-13T08:49:45.758009Z"
    },
    "id": "yzo487KpkRGh",
    "tags": []
   },
   "outputs": [],
   "source": [
    "projection2, projectionPandas2 = gds.graph.project.cypher(graphName2, \n",
    "          'MATCH (c:Client {suspect:true}) RETURN id(c) AS id', \n",
    "          'MATCH (c1:Client {suspect:true})-[r:TRANSACTED_WITH]->(c2:Client) RETURN id(c1) AS source, id(c2) as target')\n",
    "projectionPandas2"
   ]
  },
  {
   "cell_type": "code",
   "execution_count": null,
   "metadata": {
    "execution": {
     "iopub.status.busy": "2023-04-13T08:49:45.759014Z",
     "iopub.status.idle": "2023-04-13T08:49:45.760018Z",
     "shell.execute_reply": "2023-04-13T08:49:45.759014Z",
     "shell.execute_reply.started": "2023-04-13T08:49:45.759014Z"
    },
    "id": "__-LyayFkRLD",
    "tags": []
   },
   "outputs": [],
   "source": [
    "result = gds.wcc.write(projection2, writeProperty='fraud_group_2');"
   ]
  },
  {
   "cell_type": "code",
   "execution_count": null,
   "metadata": {
    "colab": {
     "base_uri": "https://localhost:8080/",
     "height": 49
    },
    "execution": {
     "iopub.status.busy": "2023-04-13T08:49:45.761018Z",
     "iopub.status.idle": "2023-04-13T08:49:45.761018Z",
     "shell.execute_reply": "2023-04-13T08:49:45.761018Z",
     "shell.execute_reply.started": "2023-04-13T08:49:45.761018Z"
    },
    "id": "iFgy6whHk0MK",
    "outputId": "1485b417-20b5-4aa2-9f61-9f8942bd3a09",
    "tags": []
   },
   "outputs": [],
   "source": [
    "# Create an index on the new property\n",
    "gds.run_cypher(\"CREATE INDEX ClientFraud2Index IF NOT EXISTS FOR (c:Client) on c.fraud_group_2;\")"
   ]
  },
  {
   "cell_type": "code",
   "execution_count": null,
   "metadata": {
    "colab": {
     "base_uri": "https://localhost:8080/",
     "height": 206
    },
    "execution": {
     "iopub.status.busy": "2023-04-13T08:49:45.762019Z",
     "iopub.status.idle": "2023-04-13T08:49:45.762019Z",
     "shell.execute_reply": "2023-04-13T08:49:45.762019Z",
     "shell.execute_reply.started": "2023-04-13T08:49:45.762019Z"
    },
    "id": "uTHK8ZwXk0Pz",
    "outputId": "9978be1c-bae1-4ef2-8a2c-aef4f0388237",
    "tags": []
   },
   "outputs": [],
   "source": [
    "result = gds.run_cypher(\"\"\"\n",
    "MATCH (c:Client) WHERE c.fraud_group_2 IS NOT NULL\n",
    "WITH c.fraud_group_2 AS secondGroupId, collect(c.id) AS members\n",
    "RETURN secondGroupId, size(members) AS groupSize\n",
    "ORDER BY groupSize DESC;\n",
    "\"\"\")\n",
    "result.head(5)"
   ]
  },
  {
   "cell_type": "code",
   "execution_count": null,
   "metadata": {
    "execution": {
     "iopub.status.busy": "2023-04-13T08:49:45.763018Z",
     "iopub.status.idle": "2023-04-13T08:49:45.763018Z",
     "shell.execute_reply": "2023-04-13T08:49:45.763018Z",
     "shell.execute_reply.started": "2023-04-13T08:49:45.763018Z"
    }
   },
   "outputs": [],
   "source": [
    "graphName3 = 'betweenness'"
   ]
  },
  {
   "cell_type": "code",
   "execution_count": null,
   "metadata": {
    "execution": {
     "iopub.status.busy": "2023-04-13T08:49:45.765019Z",
     "iopub.status.idle": "2023-04-13T08:49:45.765019Z",
     "shell.execute_reply": "2023-04-13T08:49:45.765019Z",
     "shell.execute_reply.started": "2023-04-13T08:49:45.765019Z"
    },
    "id": "G_K6ZaMJlOdv",
    "tags": []
   },
   "outputs": [],
   "source": [
    "# Remove existing graph with the same name\n",
    "if gds.graph.exists(graphName3).exists:\n",
    "    gds.graph.drop(gds.graph.get(graphName3))"
   ]
  },
  {
   "cell_type": "code",
   "execution_count": null,
   "metadata": {
    "execution": {
     "iopub.status.busy": "2023-04-13T08:49:45.766015Z",
     "iopub.status.idle": "2023-04-13T08:49:45.767051Z",
     "shell.execute_reply": "2023-04-13T08:49:45.767051Z",
     "shell.execute_reply.started": "2023-04-13T08:49:45.767051Z"
    },
    "id": "ICdNnyXylOgQ",
    "tags": []
   },
   "outputs": [],
   "source": [
    "projection3, projectionPandas3 = gds.graph.project.cypher(graphName3, \n",
    "    'MATCH (c:Client) WHERE c.fraud_group_2 IS NOT NULL WITH c.fraud_group_2 AS secondGroupId, collect(c.id) AS members WITH secondGroupId, size(members) AS groupSize ORDER BY groupSize DESC LIMIT 1 WITH secondGroupId MATCH (c:Client {fraud_group_2:secondGroupId})-[r:TRANSACTED_WITH]-(c2:Client) RETURN id(c) AS id',\n",
    "    'MATCH (c:Client) WHERE c.fraud_group_2 IS NOT NULL WITH c.fraud_group_2 AS secondGroupId, collect(c.id) AS members WITH secondGroupId, size(members) AS groupSize ORDER BY groupSize DESC LIMIT 1 WITH secondGroupId MATCH (c1:Client {fraud_group_2:secondGroupId})-[:TRANSACTED_WITH]-(c2:Client) RETURN id(c1) AS source, id(c2) AS target'\n",
    ")"
   ]
  },
  {
   "cell_type": "code",
   "execution_count": null,
   "metadata": {
    "colab": {
     "base_uri": "https://localhost:8080/"
    },
    "execution": {
     "iopub.status.busy": "2023-04-13T08:49:45.769017Z",
     "iopub.status.idle": "2023-04-13T08:49:45.769017Z",
     "shell.execute_reply": "2023-04-13T08:49:45.769017Z",
     "shell.execute_reply.started": "2023-04-13T08:49:45.769017Z"
    },
    "id": "jvqNUkDglOio",
    "outputId": "062c3f10-abd3-4f67-cdbb-4a1bbdeff8ad",
    "tags": []
   },
   "outputs": [],
   "source": [
    "#Graph Projection Stats from Pandas object\n",
    "print(projectionPandas3)"
   ]
  },
  {
   "cell_type": "code",
   "execution_count": null,
   "metadata": {
    "colab": {
     "base_uri": "https://localhost:8080/"
    },
    "execution": {
     "iopub.status.busy": "2023-04-13T08:49:45.770016Z",
     "iopub.status.idle": "2023-04-13T08:49:45.771016Z",
     "shell.execute_reply": "2023-04-13T08:49:45.771016Z",
     "shell.execute_reply.started": "2023-04-13T08:49:45.771016Z"
    },
    "id": "ploAIAQPlizR",
    "outputId": "203c451b-b758-4bde-fd19-047dff602038",
    "tags": []
   },
   "outputs": [],
   "source": [
    "result = gds.betweenness.write(projection3, writeProperty='score')\n",
    "result"
   ]
  },
  {
   "cell_type": "code",
   "execution_count": null,
   "metadata": {
    "colab": {
     "base_uri": "https://localhost:8080/",
     "height": 300
    },
    "execution": {
     "iopub.status.busy": "2023-04-13T08:49:45.772018Z",
     "iopub.status.idle": "2023-04-13T08:49:45.772018Z",
     "shell.execute_reply": "2023-04-13T08:49:45.772018Z",
     "shell.execute_reply.started": "2023-04-13T08:49:45.772018Z"
    },
    "id": "aj02mhKIlx67",
    "outputId": "780e62c3-4090-4367-a977-ba187360cc50",
    "tags": []
   },
   "outputs": [],
   "source": [
    "gds.run_cypher(\"\"\"\n",
    "  CALL gds.betweenness.stream('betweenness') YIELD nodeId, score\n",
    "  WITH gds.util.asNode(nodeId) AS c, score WHERE score > 0                       // Filter 0 scores again\n",
    "  MATCH (c)-[r:TRANSACTED_WITH]-(:Client)                                        // Retrieve the relationships\n",
    "  WITH c.name AS name, score, collect(r) AS txns                                 // Collect and count the number of relationships\n",
    "  WITH name, score AS original, score/size(txns) AS newScore\n",
    "  RETURN name, newScore, original ORDER BY newScore DESC;  \n",
    "\"\"\")"
   ]
  }
 ],
 "metadata": {
  "colab": {
   "authorship_tag": "ABX9TyOiPOIwDvHXAbwXfUP4II87",
   "include_colab_link": true,
   "provenance": []
  },
  "kernelspec": {
   "display_name": "Python 3 (ipykernel)",
   "language": "python",
   "name": "python3"
  },
  "language_info": {
   "codemirror_mode": {
    "name": "ipython",
    "version": 3
   },
   "file_extension": ".py",
   "mimetype": "text/x-python",
   "name": "python",
   "nbconvert_exporter": "python",
   "pygments_lexer": "ipython3",
   "version": "3.10.9"
  }
 },
 "nbformat": 4,
 "nbformat_minor": 4
}
