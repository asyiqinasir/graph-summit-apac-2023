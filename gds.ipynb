{
 "cells": [
  {
   "cell_type": "code",
   "execution_count": 1,
   "metadata": {
    "execution": {
     "iopub.execute_input": "2023-04-06T08:32:48.586539Z",
     "iopub.status.busy": "2023-04-06T08:32:48.585530Z",
     "iopub.status.idle": "2023-04-06T08:32:49.906585Z",
     "shell.execute_reply": "2023-04-06T08:32:49.905562Z",
     "shell.execute_reply.started": "2023-04-06T08:32:48.586539Z"
    },
    "id": "D3z2cYxEUpWJ",
    "tags": []
   },
   "outputs": [
    {
     "name": "stdout",
     "output_type": "stream",
     "text": [
      "Requirement already satisfied: graphdatascience in c:\\users\\xavier.pilas\\anaconda3\\envs\\neo4j\\lib\\site-packages (1.6)\n",
      "Requirement already satisfied: multimethod<2.0,>=1.0 in c:\\users\\xavier.pilas\\anaconda3\\envs\\neo4j\\lib\\site-packages (from graphdatascience) (1.9)\n",
      "Requirement already satisfied: pyarrow<11.0,>=4.0 in c:\\users\\xavier.pilas\\anaconda3\\envs\\neo4j\\lib\\site-packages (from graphdatascience) (9.0.0)\n",
      "Requirement already satisfied: tqdm<5.0,>=4.0 in c:\\users\\xavier.pilas\\anaconda3\\envs\\neo4j\\lib\\site-packages (from graphdatascience) (4.64.1)\n",
      "Requirement already satisfied: neo4j<6.0,>=4.4.2 in c:\\users\\xavier.pilas\\anaconda3\\envs\\neo4j\\lib\\site-packages (from graphdatascience) (5.5.0)\n",
      "Requirement already satisfied: pandas<2.0,>=1.0 in c:\\users\\xavier.pilas\\anaconda3\\envs\\neo4j\\lib\\site-packages (from graphdatascience) (1.5.0)\n",
      "Requirement already satisfied: pytz in c:\\users\\xavier.pilas\\anaconda3\\envs\\neo4j\\lib\\site-packages (from neo4j<6.0,>=4.4.2->graphdatascience) (2022.7)\n",
      "Requirement already satisfied: python-dateutil>=2.8.1 in c:\\users\\xavier.pilas\\anaconda3\\envs\\neo4j\\lib\\site-packages (from pandas<2.0,>=1.0->graphdatascience) (2.8.2)\n",
      "Requirement already satisfied: numpy>=1.21.0 in c:\\users\\xavier.pilas\\anaconda3\\envs\\neo4j\\lib\\site-packages (from pandas<2.0,>=1.0->graphdatascience) (1.23.3)\n",
      "Requirement already satisfied: colorama in c:\\users\\xavier.pilas\\anaconda3\\envs\\neo4j\\lib\\site-packages (from tqdm<5.0,>=4.0->graphdatascience) (0.4.6)\n",
      "Requirement already satisfied: six>=1.5 in c:\\users\\xavier.pilas\\anaconda3\\envs\\neo4j\\lib\\site-packages (from python-dateutil>=2.8.1->pandas<2.0,>=1.0->graphdatascience) (1.16.0)\n"
     ]
    }
   ],
   "source": [
    "# Install Neo4j GDS Python Client - Install Output Suppressed \n",
    "import sys\n",
    "!{sys.executable} -m pip install graphdatascience"
   ]
  },
  {
   "cell_type": "code",
   "execution_count": 2,
   "metadata": {
    "execution": {
     "iopub.execute_input": "2023-04-06T08:32:49.908510Z",
     "iopub.status.busy": "2023-04-06T08:32:49.908510Z",
     "iopub.status.idle": "2023-04-06T08:32:50.702675Z",
     "shell.execute_reply": "2023-04-06T08:32:50.702675Z",
     "shell.execute_reply.started": "2023-04-06T08:32:49.908510Z"
    },
    "id": "nqPnRkIfWTor",
    "tags": []
   },
   "outputs": [],
   "source": [
    "# Neo4j GDS Python Client\n",
    "from graphdatascience import GraphDataScience"
   ]
  },
  {
   "cell_type": "code",
   "execution_count": 3,
   "metadata": {
    "execution": {
     "iopub.execute_input": "2023-04-06T08:32:50.703690Z",
     "iopub.status.busy": "2023-04-06T08:32:50.703690Z",
     "iopub.status.idle": "2023-04-06T08:32:52.818157Z",
     "shell.execute_reply": "2023-04-06T08:32:52.817156Z",
     "shell.execute_reply.started": "2023-04-06T08:32:50.703690Z"
    },
    "id": "xi7xemCCWTwZ",
    "tags": []
   },
   "outputs": [],
   "source": [
    "# Instantiate your GDS Session\n",
    "# Use Neo4j/Bolt URI and credentials according to your setup\n",
    "# For local standalone instance Bolt connection without auth   \n",
    "# gds = GraphDataScience(\"bolt://localhost:7687\", auth=None)\n",
    "# For local standalone instance Bolt connection with auth   \n",
    "# gds = GraphDataScience(\"bolt://localhost:7687\", auth=(\"neo4j\", \"test123\"))\n",
    "# For Remote Cluster Neo4j connection with auth \n",
    "# gds = GraphDataScience(\"neo4j://<FQDN or IP Address>:7687\", auth=(\"neo4j\", \"removal-knock-heart\"))\n",
    "# For Remote standalone instance Bolt connection with auth \n",
    "# -- The below instance might have been nuked by the time you work on this notebook. \n",
    "# Roll out a new Neo4j GDS instance to work this notebook to it's end!\n",
    "gds = GraphDataScience(\"bolt://3.210.198.179:7687\", auth=(\"neo4j\", \"apostrophe-knives-rice\"))"
   ]
  },
  {
   "cell_type": "code",
   "execution_count": 4,
   "metadata": {
    "colab": {
     "base_uri": "https://localhost:8080/"
    },
    "execution": {
     "iopub.execute_input": "2023-04-06T08:32:52.824160Z",
     "iopub.status.busy": "2023-04-06T08:32:52.824160Z",
     "iopub.status.idle": "2023-04-06T08:32:53.098582Z",
     "shell.execute_reply": "2023-04-06T08:32:53.096594Z",
     "shell.execute_reply.started": "2023-04-06T08:32:52.824160Z"
    },
    "id": "u3TcuHHHWTzR",
    "outputId": "622f8dc2-61b4-44b7-e028-be995db0dbed",
    "tags": []
   },
   "outputs": [
    {
     "name": "stdout",
     "output_type": "stream",
     "text": [
      "Neo4j GDS Version: 2.3.1\n"
     ]
    }
   ],
   "source": [
    "print(f\"Neo4j GDS Version: {gds.version()}\")"
   ]
  },
  {
   "cell_type": "code",
   "execution_count": 5,
   "metadata": {
    "colab": {
     "base_uri": "https://localhost:8080/"
    },
    "execution": {
     "iopub.execute_input": "2023-04-06T08:32:53.101582Z",
     "iopub.status.busy": "2023-04-06T08:32:53.100579Z",
     "iopub.status.idle": "2023-04-06T08:32:53.409920Z",
     "shell.execute_reply": "2023-04-06T08:32:53.407906Z",
     "shell.execute_reply.started": "2023-04-06T08:32:53.101582Z"
    },
    "id": "GSpANHCwWpVR",
    "outputId": "951085f1-1c42-4aac-f207-6cecea01d459",
    "tags": []
   },
   "outputs": [
    {
     "name": "stdout",
     "output_type": "stream",
     "text": [
      "Neo4j GDS is not licensed\n"
     ]
    }
   ],
   "source": [
    "licenseState = \"is\" if gds.is_licensed() else \"is not\"\n",
    "print(f\"Neo4j GDS {licenseState} licensed\")"
   ]
  },
  {
   "cell_type": "code",
   "execution_count": 6,
   "metadata": {
    "execution": {
     "iopub.execute_input": "2023-04-06T08:32:53.412985Z",
     "iopub.status.busy": "2023-04-06T08:32:53.411926Z",
     "iopub.status.idle": "2023-04-06T08:32:53.423870Z",
     "shell.execute_reply": "2023-04-06T08:32:53.422924Z",
     "shell.execute_reply.started": "2023-04-06T08:32:53.412985Z"
    },
    "id": "jNfTsoQKWpXt",
    "tags": []
   },
   "outputs": [],
   "source": [
    "# Optional - Set database if you're not using the default DB. \n",
    "# Not applicable for AuraDS, Neo4j Desktop and Neo4j Sandbox.\n",
    "# gds.set_database(\"my-db\")"
   ]
  },
  {
   "cell_type": "code",
   "execution_count": 7,
   "metadata": {
    "execution": {
     "iopub.execute_input": "2023-04-06T08:32:53.424870Z",
     "iopub.status.busy": "2023-04-06T08:32:53.424870Z",
     "iopub.status.idle": "2023-04-06T08:32:53.438978Z",
     "shell.execute_reply": "2023-04-06T08:32:53.438007Z",
     "shell.execute_reply.started": "2023-04-06T08:32:53.424870Z"
    },
    "id": "L1VaJViHa6TX",
    "tags": []
   },
   "outputs": [],
   "source": [
    "RELOAD_DATA = False"
   ]
  },
  {
   "cell_type": "code",
   "execution_count": 9,
   "metadata": {
    "execution": {
     "iopub.execute_input": "2023-04-06T08:33:07.219123Z",
     "iopub.status.busy": "2023-04-06T08:33:07.219123Z",
     "iopub.status.idle": "2023-04-06T08:33:08.168376Z",
     "shell.execute_reply": "2023-04-06T08:33:08.166389Z",
     "shell.execute_reply.started": "2023-04-06T08:33:07.219123Z"
    },
    "id": "BZ-Bk77eWpac",
    "tags": []
   },
   "outputs": [],
   "source": [
    "# Optional - Clean up the Sandbox example graph\n",
    "# Uncomment to execute\n",
    "if RELOAD_DATA:\n",
    "    gds.run_cypher(\n",
    "        \"\"\"\n",
    "        MATCH (n) CALL {\n",
    "          WITH n\n",
    "          DETACH DELETE n\n",
    "        } IN TRANSACTIONS OF 10 ROWS;\n",
    "        \"\"\"\n",
    "    )\n",
    "else:\n",
    "    gds.run_cypher(\n",
    "        \"\"\"\n",
    "        MATCH (c:Client) SET c.fraud_group = null, c.fraud_group_2 = null, c.score = null;\n",
    "        \"\"\"\n",
    "    )"
   ]
  },
  {
   "cell_type": "code",
   "execution_count": 10,
   "metadata": {
    "execution": {
     "iopub.execute_input": "2023-04-06T08:33:08.170385Z",
     "iopub.status.busy": "2023-04-06T08:33:08.170385Z",
     "iopub.status.idle": "2023-04-06T08:33:08.182877Z",
     "shell.execute_reply": "2023-04-06T08:33:08.181872Z",
     "shell.execute_reply.started": "2023-04-06T08:33:08.170385Z"
    },
    "id": "T_STaebhWpcy",
    "tags": []
   },
   "outputs": [],
   "source": [
    "if RELOAD_DATA:\n",
    "    nodeListCSV = gds.run_cypher(\n",
    "    \"\"\"\n",
    "    LOAD CSV WITH HEADERS FROM \"https://raw.githubusercontent.com/neo4j-field/graph-summit-apac-2023/main/data/clients.csv\" AS row\n",
    "    RETURN row limit 5\n",
    "    \"\"\"\n",
    "    )\n",
    "    # The object returned is a Pandas Data Frame, so we can explore using standard Pandas methods\n",
    "    # The output is not what we expected but remember here were reading the CSV file and loading it into the Data Frame\n",
    "    nodeListCSV.head(5)"
   ]
  },
  {
   "cell_type": "code",
   "execution_count": 11,
   "metadata": {
    "execution": {
     "iopub.execute_input": "2023-04-06T08:33:12.042674Z",
     "iopub.status.busy": "2023-04-06T08:33:12.041240Z",
     "iopub.status.idle": "2023-04-06T08:33:12.056289Z",
     "shell.execute_reply": "2023-04-06T08:33:12.055110Z",
     "shell.execute_reply.started": "2023-04-06T08:33:12.042674Z"
    },
    "id": "931Nv3tbaOOO",
    "tags": []
   },
   "outputs": [],
   "source": [
    "if RELOAD_DATA:\n",
    "    # First we create index\n",
    "    CONSTRAINTS = [\n",
    "      \"CREATE CONSTRAINT ClientConstraint IF NOT EXISTS FOR (p:Client) REQUIRE p.id IS UNIQUE;\",\n",
    "      \"CREATE CONSTRAINT EmailConstraint IF NOT EXISTS FOR (p:Email) REQUIRE p.email IS UNIQUE;\",\n",
    "      \"CREATE CONSTRAINT PhoneConstraint IF NOT EXISTS FOR (p:Phone) REQUIRE p.phoneNumber IS UNIQUE;\",\n",
    "      \"CREATE CONSTRAINT SSNConstraint IF NOT EXISTS FOR (p:SSN) REQUIRE p.ssn IS UNIQUE;\",\n",
    "      \"CREATE CONSTRAINT MerchantConstraint IF NOT EXISTS FOR (p:Merchant) REQUIRE p.id IS UNIQUE;\",\n",
    "      \"CREATE CONSTRAINT BankConstraint IF NOT EXISTS FOR (p:Bank) REQUIRE p.id IS UNIQUE;\",\n",
    "      \"CREATE CONSTRAINT TransactionConstraint IF NOT EXISTS FOR (p:Transaction) REQUIRE p.globalStep IS UNIQUE;\",\n",
    "      \"CREATE CONSTRAINT DebitConstraint IF NOT EXISTS FOR (p:Transaction) REQUIRE p.globalStep IS UNIQUE;\",\n",
    "      \"CREATE CONSTRAINT CashInConstraint IF NOT EXISTS FOR (p:CashIn) REQUIRE p.globalStep IS UNIQUE;\",\n",
    "      \"CREATE CONSTRAINT CashOutConstraint IF NOT EXISTS FOR (p:CashOut) REQUIRE p.globalStep IS UNIQUE;\",\n",
    "      \"CREATE CONSTRAINT TransferConstraint IF NOT EXISTS FOR (p:Transfer) REQUIRE p.globalStep IS UNIQUE;\",\n",
    "      \"CREATE CONSTRAINT PaymentConstraint IF NOT EXISTS FOR (p:Payment) REQUIRE p.globalStep IS UNIQUE;\"\n",
    "    ]\n",
    "    for c in CONSTRAINTS:\n",
    "        gds.run_cypher(c)"
   ]
  },
  {
   "cell_type": "code",
   "execution_count": 12,
   "metadata": {
    "execution": {
     "iopub.execute_input": "2023-04-06T08:33:56.704561Z",
     "iopub.status.busy": "2023-04-06T08:33:56.704561Z",
     "iopub.status.idle": "2023-04-06T08:33:56.716563Z",
     "shell.execute_reply": "2023-04-06T08:33:56.714610Z",
     "shell.execute_reply.started": "2023-04-06T08:33:56.704561Z"
    },
    "id": "9gzLKgHkaboi",
    "tags": []
   },
   "outputs": [],
   "source": [
    "if RELOAD_DATA:\n",
    "    # Load Clients\n",
    "    gds.run_cypher(\n",
    "    \"\"\"\n",
    "        LOAD CSV WITH HEADERS FROM \"https://raw.githubusercontent.com/neo4j-field/graph-summit-apac-2023/main/data/clients.csv\" AS row\n",
    "        WITH row\n",
    "        MERGE (c:Client { id: row.ID })\n",
    "        SET c.name = row.NAME, c.isFraud = toBoolean(row.ISFRAUD)\n",
    "        MERGE (p:Phone { phoneNumber: row.PHONENUMBER })\n",
    "        MERGE (c)-[:HAS_PHONE]->(p)\n",
    "        MERGE (s:SSN { ssn: row.SSN })\n",
    "        MERGE (c)-[:HAS_SSN]->(s)\n",
    "        MERGE (e:Email { email: row.EMAIL })\n",
    "        MERGE (c)-[:HAS_EMAIL]->(e);\n",
    "    \"\"\"\n",
    "    )"
   ]
  },
  {
   "cell_type": "code",
   "execution_count": 13,
   "metadata": {
    "execution": {
     "iopub.execute_input": "2023-04-06T08:33:57.152833Z",
     "iopub.status.busy": "2023-04-06T08:33:57.151827Z",
     "iopub.status.idle": "2023-04-06T08:33:57.165487Z",
     "shell.execute_reply": "2023-04-06T08:33:57.164478Z",
     "shell.execute_reply.started": "2023-04-06T08:33:57.151827Z"
    },
    "id": "yQR8nWTRa-Rx",
    "tags": []
   },
   "outputs": [],
   "source": [
    "if RELOAD_DATA:\n",
    "    # Load Merchants\n",
    "    gds.run_cypher(\n",
    "    \"\"\"\n",
    "        LOAD CSV WITH HEADERS FROM \"https://raw.githubusercontent.com/neo4j-field/graph-summit-apac-2023/main/data/merchants.csv\" AS row\n",
    "        WITH row\n",
    "        MERGE (m:Merchant { id: row.ID })\n",
    "        SET m.name = row.NAME, m.highRisk = toBoolean(row.HIGHRISK);\n",
    "    \"\"\"\n",
    "    )"
   ]
  },
  {
   "cell_type": "code",
   "execution_count": 14,
   "metadata": {
    "execution": {
     "iopub.execute_input": "2023-04-06T08:33:57.493987Z",
     "iopub.status.busy": "2023-04-06T08:33:57.493987Z",
     "iopub.status.idle": "2023-04-06T08:33:57.510035Z",
     "shell.execute_reply": "2023-04-06T08:33:57.509109Z",
     "shell.execute_reply.started": "2023-04-06T08:33:57.493987Z"
    },
    "id": "SWBqn1LLa-Vb",
    "tags": []
   },
   "outputs": [],
   "source": [
    "if RELOAD_DATA:\n",
    "    # Load Debit\n",
    "    gds.run_cypher(\n",
    "    \"\"\"\n",
    "        LOAD CSV WITH HEADERS FROM \"https://raw.githubusercontent.com/neo4j-field/graph-summit-apac-2023/main/data/debit.csv\" AS row\n",
    "        WITH row\n",
    "        MERGE (b:Bank { id: row.IDDEST })\n",
    "        SET b.name = row.NAMEDEST\n",
    "        MERGE (c:Client { id: row.IDORIG })\n",
    "        MERGE (t:Transaction:Debit { globalStep: row.GLOBALSTEP })\n",
    "        SET t.amount = toFloat(row.AMOUNT), t.isFraud = toBoolean(row.ISFRAUD)\n",
    "        MERGE (t)-[:TO]->(b)\n",
    "        MERGE (c)-[:PERFORMED]->(t);\n",
    "    \"\"\"\n",
    "    )"
   ]
  },
  {
   "cell_type": "code",
   "execution_count": 15,
   "metadata": {
    "execution": {
     "iopub.execute_input": "2023-04-06T08:33:57.799817Z",
     "iopub.status.busy": "2023-04-06T08:33:57.799817Z",
     "iopub.status.idle": "2023-04-06T08:33:57.805791Z",
     "shell.execute_reply": "2023-04-06T08:33:57.804788Z",
     "shell.execute_reply.started": "2023-04-06T08:33:57.799817Z"
    },
    "id": "UaWM2vKba-Ys",
    "tags": []
   },
   "outputs": [],
   "source": [
    "if RELOAD_DATA:\n",
    "    # Load CashIn\n",
    "    gds.run_cypher(\n",
    "    \"\"\"\n",
    "        LOAD CSV WITH HEADERS FROM \"https://raw.githubusercontent.com/neo4j-field/graph-summit-apac-2023/main/data/cashin.csv\" AS row\n",
    "        CALL {\n",
    "            WITH row\n",
    "            MERGE (m:Merchant { id: row.IDDEST })\n",
    "            SET m.name = row.NAMEDEST\n",
    "            MERGE (c:Client { id: row.IDORIG })\n",
    "            MERGE (t:Transaction:CashIn { globalStep: row.GLOBALSTEP })\n",
    "            SET t.amount = toFloat(row.AMOUNT), t.isFraud = toBoolean(row.ISFRAUD)\n",
    "            MERGE (t)-[:TO]->(m)\n",
    "            MERGE (c)-[:PERFORMED]->(t)\n",
    "        } IN TRANSACTIONS OF 10 ROWS;\n",
    "    \"\"\"\n",
    "    )"
   ]
  },
  {
   "cell_type": "code",
   "execution_count": 16,
   "metadata": {
    "execution": {
     "iopub.execute_input": "2023-04-06T08:33:58.130355Z",
     "iopub.status.busy": "2023-04-06T08:33:58.129356Z",
     "iopub.status.idle": "2023-04-06T08:33:58.147356Z",
     "shell.execute_reply": "2023-04-06T08:33:58.146346Z",
     "shell.execute_reply.started": "2023-04-06T08:33:58.130355Z"
    },
    "id": "nwVnCVnCa-bG",
    "tags": []
   },
   "outputs": [],
   "source": [
    "if RELOAD_DATA:\n",
    "    # Load CashOut\n",
    "    gds.run_cypher(\n",
    "    \"\"\"\n",
    "        LOAD CSV WITH HEADERS FROM \"https://raw.githubusercontent.com/neo4j-field/graph-summit-apac-2023/main/data/cashout.csv\" AS row\n",
    "        CALL {\n",
    "            WITH row\n",
    "            MERGE (m:Merchant { id: row.IDDEST })\n",
    "            SET m.name = row.NAMEDEST\n",
    "            MERGE (c:Client { id: row.IDORIG })\n",
    "            SET c.name = row.NAMEORIG\n",
    "            MERGE (t:Transaction:CashOut { globalStep: row.GLOBALSTEP })\n",
    "            SET t.amount = toFloat(row.AMOUNT), t.isFraud = toBoolean(row.ISFRAUD)\n",
    "            MERGE (t)-[:TO]->(m)\n",
    "            MERGE (c)-[:PERFORMED]->(t)\n",
    "        } IN TRANSACTIONS OF 10 ROWS;\n",
    "    \"\"\"\n",
    "    )"
   ]
  },
  {
   "cell_type": "code",
   "execution_count": 17,
   "metadata": {
    "execution": {
     "iopub.execute_input": "2023-04-06T08:33:58.404446Z",
     "iopub.status.busy": "2023-04-06T08:33:58.404446Z",
     "iopub.status.idle": "2023-04-06T08:33:58.411408Z",
     "shell.execute_reply": "2023-04-06T08:33:58.410406Z",
     "shell.execute_reply.started": "2023-04-06T08:33:58.404446Z"
    },
    "id": "a3rgtFjia-di",
    "tags": []
   },
   "outputs": [],
   "source": [
    "if RELOAD_DATA:\n",
    "    # Load Payment\n",
    "    gds.run_cypher(\n",
    "    \"\"\"\n",
    "        LOAD CSV WITH HEADERS FROM \"https://raw.githubusercontent.com/neo4j-field/graph-summit-apac-2023/main/data/payment.csv\" AS row\n",
    "        CALL {\n",
    "            WITH row\n",
    "            MERGE (m:Merchant { id: row.IDDEST })\n",
    "            SET m.name = row.NAMEDEST\n",
    "            MERGE (c:Client { id: row.IDORIG })\n",
    "            SET c.name = row.NAMEORIG\n",
    "            MERGE (t:Transaction:Payment { globalStep: row.GLOBALSTEP })\n",
    "            SET t.amount = toFloat(row.AMOUNT), t.isFraud = toBoolean(row.ISFRAUD)\n",
    "            MERGE (t)-[:TO]->(m)\n",
    "            MERGE (c)-[:PERFORMED]->(t)\n",
    "            FOREACH (ignoreMe in CASE WHEN row.TYPEORIG = 'MULE' THEN [1] ELSE [] END | SET c :Mule)\n",
    "        } IN TRANSACTIONS OF 10 ROWS;\n",
    "    \"\"\"\n",
    "    )"
   ]
  },
  {
   "cell_type": "code",
   "execution_count": 18,
   "metadata": {
    "execution": {
     "iopub.execute_input": "2023-04-06T08:33:58.841771Z",
     "iopub.status.busy": "2023-04-06T08:33:58.840774Z",
     "iopub.status.idle": "2023-04-06T08:33:58.864359Z",
     "shell.execute_reply": "2023-04-06T08:33:58.862783Z",
     "shell.execute_reply.started": "2023-04-06T08:33:58.841771Z"
    },
    "id": "tt9gS2zNa-gX",
    "tags": []
   },
   "outputs": [],
   "source": [
    "if RELOAD_DATA:\n",
    "    # Load Transfer\n",
    "    gds.run_cypher(\n",
    "    \"\"\"\n",
    "    LOAD CSV WITH HEADERS FROM \"https://raw.githubusercontent.com/neo4j-field/graph-summit-apac-2023/main/data/transfer.csv\" AS row\n",
    "    CALL {\n",
    "        WITH row\n",
    "        MERGE (cd:Client { id: row.IDDEST })\n",
    "        SET cd.name = row.NAMEDEST\n",
    "        MERGE (co:Client { id: row.IDORIG })\n",
    "        SET co.name = row.NAMEORIG\n",
    "        MERGE (t:Transaction:Transfer { globalStep: row.GLOBALSTEP })\n",
    "        SET t.amount = toFloat(row.AMOUNT), t.isFraud = toBoolean(row.ISFRAUD)\n",
    "        MERGE (t)-[:TO]->(cd)\n",
    "        MERGE (co)-[:PERFORMED]->(t)\n",
    "        FOREACH (ignoreMe in CASE WHEN row.TYPEDEST = 'MULE' THEN [1] ELSE [] END | SET cd :Mule)\n",
    "        FOREACH (ignoreMe in CASE WHEN row.TYPEORIG = 'MULE' THEN [1] ELSE [] END | SET co :Mule)\n",
    "    } IN TRANSACTIONS OF 10 ROWS;\n",
    "    \"\"\"\n",
    "    )"
   ]
  },
  {
   "cell_type": "code",
   "execution_count": 19,
   "metadata": {
    "execution": {
     "iopub.execute_input": "2023-04-06T08:33:59.264793Z",
     "iopub.status.busy": "2023-04-06T08:33:59.264793Z",
     "iopub.status.idle": "2023-04-06T08:33:59.282810Z",
     "shell.execute_reply": "2023-04-06T08:33:59.281923Z",
     "shell.execute_reply.started": "2023-04-06T08:33:59.264793Z"
    },
    "id": "4o2iOkxVa-it",
    "tags": []
   },
   "outputs": [],
   "source": [
    "if RELOAD_DATA:\n",
    "    # Update data model\n",
    "    gds.run_cypher(\n",
    "    \"\"\"\n",
    "    MATCH (c:Client) with c.id as clientId\n",
    "    CALL {\n",
    "        WITH clientId\n",
    "        MATCH (c:Client {id: clientId})-[:PERFORMED]->(tx:Transaction)\n",
    "        WITH c, tx ORDER BY tx.globalStep\n",
    "        WITH c, collect(tx) AS txs\n",
    "        WITH c, txs, head(txs) AS _start, last(txs) AS _last\n",
    "\n",
    "        MERGE (c)-[:FIRST_TX]->(_start)\n",
    "        MERGE (c)-[:LAST_TX]->(_last)\n",
    "        WITH c, apoc.coll.pairsMin(txs) AS pairs\n",
    "\n",
    "        UNWIND pairs AS pair\n",
    "          WITH pair[0] AS a, pair[1] AS b\n",
    "          MERGE (a)-[n:NEXT]->(b)\n",
    "    } IN TRANSACTIONS OF 10 ROWS;\n",
    "    \"\"\"\n",
    "    )"
   ]
  },
  {
   "cell_type": "code",
   "execution_count": 20,
   "metadata": {
    "execution": {
     "iopub.execute_input": "2023-04-06T08:33:59.705448Z",
     "iopub.status.busy": "2023-04-06T08:33:59.704439Z",
     "iopub.status.idle": "2023-04-06T08:33:59.717370Z",
     "shell.execute_reply": "2023-04-06T08:33:59.715360Z",
     "shell.execute_reply.started": "2023-04-06T08:33:59.705448Z"
    },
    "id": "1RIXaXRFbazk",
    "tags": []
   },
   "outputs": [],
   "source": [
    "graphName = 'wccGroups'\n",
    "fraudGroupMinSize = 5"
   ]
  },
  {
   "cell_type": "code",
   "execution_count": 21,
   "metadata": {
    "execution": {
     "iopub.execute_input": "2023-04-06T08:34:00.154323Z",
     "iopub.status.busy": "2023-04-06T08:34:00.154323Z",
     "iopub.status.idle": "2023-04-06T08:34:01.157702Z",
     "shell.execute_reply": "2023-04-06T08:34:01.156789Z",
     "shell.execute_reply.started": "2023-04-06T08:34:00.154323Z"
    },
    "id": "OtUtta8EqVEf",
    "tags": []
   },
   "outputs": [],
   "source": [
    "if gds.graph.exists(graphName).exists:\n",
    "    gds.graph.drop(gds.graph.get(graphName))"
   ]
  },
  {
   "cell_type": "code",
   "execution_count": 22,
   "metadata": {
    "execution": {
     "iopub.execute_input": "2023-04-06T08:34:01.160707Z",
     "iopub.status.busy": "2023-04-06T08:34:01.160707Z",
     "iopub.status.idle": "2023-04-06T08:34:02.953503Z",
     "shell.execute_reply": "2023-04-06T08:34:02.951526Z",
     "shell.execute_reply.started": "2023-04-06T08:34:01.160707Z"
    },
    "id": "jg8EWiKaqVHO",
    "tags": []
   },
   "outputs": [],
   "source": [
    "projection, projectionPandas = gds.graph.project(graphName, ['Client', 'SSN', 'Email', 'Phone'], ['HAS_SSN', 'HAS_EMAIL', 'HAS_PHONE'])"
   ]
  },
  {
   "cell_type": "code",
   "execution_count": 23,
   "metadata": {
    "colab": {
     "base_uri": "https://localhost:8080/"
    },
    "execution": {
     "iopub.execute_input": "2023-04-06T08:34:02.954517Z",
     "iopub.status.busy": "2023-04-06T08:34:02.954517Z",
     "iopub.status.idle": "2023-04-06T08:34:02.968569Z",
     "shell.execute_reply": "2023-04-06T08:34:02.967615Z",
     "shell.execute_reply.started": "2023-04-06T08:34:02.954517Z"
    },
    "id": "85gtdy4JqVJe",
    "outputId": "73dc8304-4967-424f-e706-d93ec526b478",
    "tags": []
   },
   "outputs": [
    {
     "name": "stdout",
     "output_type": "stream",
     "text": [
      "nodeProjection            {'Email': {'label': 'Email', 'properties': {}}...\n",
      "relationshipProjection    {'HAS_SSN': {'orientation': 'NATURAL', 'indexI...\n",
      "graphName                                                         wccGroups\n",
      "nodeCount                                                              8047\n",
      "relationshipCount                                                      7749\n",
      "projectMillis                                                           696\n",
      "Name: 0, dtype: object\n"
     ]
    }
   ],
   "source": [
    "#Graph Projection Stats from Pandas object\n",
    "print(projectionPandas)"
   ]
  },
  {
   "cell_type": "code",
   "execution_count": 24,
   "metadata": {
    "colab": {
     "base_uri": "https://localhost:8080/",
     "height": 394
    },
    "execution": {
     "iopub.execute_input": "2023-04-06T08:34:02.973191Z",
     "iopub.status.busy": "2023-04-06T08:34:02.972194Z",
     "iopub.status.idle": "2023-04-06T08:34:07.266317Z",
     "shell.execute_reply": "2023-04-06T08:34:07.265303Z",
     "shell.execute_reply.started": "2023-04-06T08:34:02.972194Z"
    },
    "id": "j7dls0G-qVMN",
    "outputId": "ea568b15-21d0-404c-a908-0d76bfc25fa9",
    "tags": []
   },
   "outputs": [
    {
     "data": {
      "text/html": [
       "<div>\n",
       "<style scoped>\n",
       "    .dataframe tbody tr th:only-of-type {\n",
       "        vertical-align: middle;\n",
       "    }\n",
       "\n",
       "    .dataframe tbody tr th {\n",
       "        vertical-align: top;\n",
       "    }\n",
       "\n",
       "    .dataframe thead th {\n",
       "        text-align: right;\n",
       "    }\n",
       "</style>\n",
       "<table border=\"1\" class=\"dataframe\">\n",
       "  <thead>\n",
       "    <tr style=\"text-align: right;\">\n",
       "      <th></th>\n",
       "      <th>nodeId</th>\n",
       "    </tr>\n",
       "    <tr>\n",
       "      <th>componentId</th>\n",
       "      <th></th>\n",
       "    </tr>\n",
       "  </thead>\n",
       "  <tbody>\n",
       "    <tr>\n",
       "      <th>5649</th>\n",
       "      <td>25</td>\n",
       "    </tr>\n",
       "    <tr>\n",
       "      <th>5207</th>\n",
       "      <td>25</td>\n",
       "    </tr>\n",
       "    <tr>\n",
       "      <th>5231</th>\n",
       "      <td>23</td>\n",
       "    </tr>\n",
       "    <tr>\n",
       "      <th>5191</th>\n",
       "      <td>23</td>\n",
       "    </tr>\n",
       "    <tr>\n",
       "      <th>5221</th>\n",
       "      <td>23</td>\n",
       "    </tr>\n",
       "    <tr>\n",
       "      <th>6164</th>\n",
       "      <td>22</td>\n",
       "    </tr>\n",
       "    <tr>\n",
       "      <th>5218</th>\n",
       "      <td>21</td>\n",
       "    </tr>\n",
       "    <tr>\n",
       "      <th>5698</th>\n",
       "      <td>21</td>\n",
       "    </tr>\n",
       "    <tr>\n",
       "      <th>5631</th>\n",
       "      <td>21</td>\n",
       "    </tr>\n",
       "    <tr>\n",
       "      <th>5626</th>\n",
       "      <td>21</td>\n",
       "    </tr>\n",
       "  </tbody>\n",
       "</table>\n",
       "</div>"
      ],
      "text/plain": [
       "             nodeId\n",
       "componentId        \n",
       "5649             25\n",
       "5207             25\n",
       "5231             23\n",
       "5191             23\n",
       "5221             23\n",
       "6164             22\n",
       "5218             21\n",
       "5698             21\n",
       "5631             21\n",
       "5626             21"
      ]
     },
     "execution_count": 24,
     "metadata": {},
     "output_type": "execute_result"
    }
   ],
   "source": [
    "result = gds.wcc.stream(projection)\n",
    "result.groupby(['componentId']).count().sort_values('nodeId', ascending=False).head(10)"
   ]
  },
  {
   "cell_type": "code",
   "execution_count": 25,
   "metadata": {
    "colab": {
     "base_uri": "https://localhost:8080/"
    },
    "execution": {
     "iopub.execute_input": "2023-04-06T08:34:07.268255Z",
     "iopub.status.busy": "2023-04-06T08:34:07.268255Z",
     "iopub.status.idle": "2023-04-06T08:34:07.704429Z",
     "shell.execute_reply": "2023-04-06T08:34:07.703431Z",
     "shell.execute_reply.started": "2023-04-06T08:34:07.268255Z"
    },
    "id": "Z2NF86MlzHVR",
    "outputId": "dada8627-55e7-42ab-91ca-26296e4d19b2",
    "tags": []
   },
   "outputs": [
    {
     "data": {
      "text/plain": [
       "writeMillis                                                            143\n",
       "nodePropertiesWritten                                                 2631\n",
       "componentCount                                                        1527\n",
       "componentDistribution    {'p99': 20, 'min': 4, 'max': 25, 'mean': 5.269...\n",
       "postProcessingMillis                                                     8\n",
       "preProcessingMillis                                                      0\n",
       "computeMillis                                                            9\n",
       "configuration            {'jobId': '28d79a8b-7f89-4087-84eb-526a582b299...\n",
       "Name: 0, dtype: object"
      ]
     },
     "execution_count": 25,
     "metadata": {},
     "output_type": "execute_result"
    }
   ],
   "source": [
    "result = gds.wcc.write(projection, writeProperty='fraud_group', minComponentSize=fraudGroupMinSize)\n",
    "result"
   ]
  },
  {
   "cell_type": "code",
   "execution_count": 26,
   "metadata": {
    "colab": {
     "base_uri": "https://localhost:8080/",
     "height": 49
    },
    "execution": {
     "iopub.execute_input": "2023-04-06T08:34:07.707433Z",
     "iopub.status.busy": "2023-04-06T08:34:07.706435Z",
     "iopub.status.idle": "2023-04-06T08:34:07.982969Z",
     "shell.execute_reply": "2023-04-06T08:34:07.982005Z",
     "shell.execute_reply.started": "2023-04-06T08:34:07.707433Z"
    },
    "id": "7d0hPxuYzHX3",
    "outputId": "9e0895f1-8f65-4b5f-c5ca-0bdf42ff6c45",
    "tags": []
   },
   "outputs": [
    {
     "data": {
      "text/html": [
       "<div>\n",
       "<style scoped>\n",
       "    .dataframe tbody tr th:only-of-type {\n",
       "        vertical-align: middle;\n",
       "    }\n",
       "\n",
       "    .dataframe tbody tr th {\n",
       "        vertical-align: top;\n",
       "    }\n",
       "\n",
       "    .dataframe thead th {\n",
       "        text-align: right;\n",
       "    }\n",
       "</style>\n",
       "<table border=\"1\" class=\"dataframe\">\n",
       "  <thead>\n",
       "    <tr style=\"text-align: right;\">\n",
       "      <th></th>\n",
       "    </tr>\n",
       "  </thead>\n",
       "  <tbody>\n",
       "  </tbody>\n",
       "</table>\n",
       "</div>"
      ],
      "text/plain": [
       "Empty DataFrame\n",
       "Columns: []\n",
       "Index: []"
      ]
     },
     "execution_count": 26,
     "metadata": {},
     "output_type": "execute_result"
    }
   ],
   "source": [
    "# Create an index on the new property\n",
    "gds.run_cypher(\"CREATE INDEX ClientFraudIndex IF NOT EXISTS FOR (c:Client) on c.fraud_group;\")"
   ]
  },
  {
   "cell_type": "code",
   "execution_count": 27,
   "metadata": {
    "colab": {
     "base_uri": "https://localhost:8080/",
     "height": 363
    },
    "execution": {
     "iopub.execute_input": "2023-04-06T08:34:07.984971Z",
     "iopub.status.busy": "2023-04-06T08:34:07.984971Z",
     "iopub.status.idle": "2023-04-06T08:34:08.307344Z",
     "shell.execute_reply": "2023-04-06T08:34:08.306144Z",
     "shell.execute_reply.started": "2023-04-06T08:34:07.984971Z"
    },
    "id": "IFvM5X4KzHaJ",
    "outputId": "740dab9c-9124-432f-82d2-4fad1665a524",
    "tags": []
   },
   "outputs": [
    {
     "data": {
      "text/html": [
       "<div>\n",
       "<style scoped>\n",
       "    .dataframe tbody tr th:only-of-type {\n",
       "        vertical-align: middle;\n",
       "    }\n",
       "\n",
       "    .dataframe tbody tr th {\n",
       "        vertical-align: top;\n",
       "    }\n",
       "\n",
       "    .dataframe thead th {\n",
       "        text-align: right;\n",
       "    }\n",
       "</style>\n",
       "<table border=\"1\" class=\"dataframe\">\n",
       "  <thead>\n",
       "    <tr style=\"text-align: right;\">\n",
       "      <th></th>\n",
       "      <th>groupSize</th>\n",
       "      <th>numOfGroups</th>\n",
       "    </tr>\n",
       "  </thead>\n",
       "  <tbody>\n",
       "    <tr>\n",
       "      <th>0</th>\n",
       "      <td>16</td>\n",
       "      <td>2</td>\n",
       "    </tr>\n",
       "    <tr>\n",
       "      <th>1</th>\n",
       "      <td>14</td>\n",
       "      <td>3</td>\n",
       "    </tr>\n",
       "    <tr>\n",
       "      <th>2</th>\n",
       "      <td>13</td>\n",
       "      <td>1</td>\n",
       "    </tr>\n",
       "    <tr>\n",
       "      <th>3</th>\n",
       "      <td>12</td>\n",
       "      <td>7</td>\n",
       "    </tr>\n",
       "    <tr>\n",
       "      <th>4</th>\n",
       "      <td>11</td>\n",
       "      <td>3</td>\n",
       "    </tr>\n",
       "    <tr>\n",
       "      <th>5</th>\n",
       "      <td>10</td>\n",
       "      <td>19</td>\n",
       "    </tr>\n",
       "    <tr>\n",
       "      <th>6</th>\n",
       "      <td>9</td>\n",
       "      <td>14</td>\n",
       "    </tr>\n",
       "    <tr>\n",
       "      <th>7</th>\n",
       "      <td>8</td>\n",
       "      <td>20</td>\n",
       "    </tr>\n",
       "    <tr>\n",
       "      <th>8</th>\n",
       "      <td>7</td>\n",
       "      <td>22</td>\n",
       "    </tr>\n",
       "    <tr>\n",
       "      <th>9</th>\n",
       "      <td>6</td>\n",
       "      <td>30</td>\n",
       "    </tr>\n",
       "  </tbody>\n",
       "</table>\n",
       "</div>"
      ],
      "text/plain": [
       "   groupSize  numOfGroups\n",
       "0         16            2\n",
       "1         14            3\n",
       "2         13            1\n",
       "3         12            7\n",
       "4         11            3\n",
       "5         10           19\n",
       "6          9           14\n",
       "7          8           20\n",
       "8          7           22\n",
       "9          6           30"
      ]
     },
     "execution_count": 27,
     "metadata": {},
     "output_type": "execute_result"
    }
   ],
   "source": [
    "result = gds.run_cypher(\"\"\"\n",
    "  MATCH (c:Client) WHERE c.fraud_group IS NOT NULL\n",
    "  WITH c.fraud_group AS groupId, collect(c.id) AS members\n",
    "  WITH groupId, size(members) AS groupSize\n",
    "  WITH collect(groupId) AS groupsOfSize, groupSize\n",
    "  RETURN groupSize, size(groupsOfSize) AS numOfGroups\n",
    "  ORDER BY groupSize DESC;\n",
    "\"\"\")\n",
    "result.head(10)"
   ]
  },
  {
   "cell_type": "code",
   "execution_count": 28,
   "metadata": {
    "colab": {
     "base_uri": "https://localhost:8080/",
     "height": 112
    },
    "execution": {
     "iopub.execute_input": "2023-04-06T08:34:08.311369Z",
     "iopub.status.busy": "2023-04-06T08:34:08.309369Z",
     "iopub.status.idle": "2023-04-06T08:34:08.806801Z",
     "shell.execute_reply": "2023-04-06T08:34:08.804750Z",
     "shell.execute_reply.started": "2023-04-06T08:34:08.311369Z"
    },
    "id": "gan-K2JOdvsr",
    "outputId": "99097d3d-5fb5-432f-ce38-ce5bb7ec9035",
    "tags": []
   },
   "outputs": [
    {
     "data": {
      "text/html": [
       "<div>\n",
       "<style scoped>\n",
       "    .dataframe tbody tr th:only-of-type {\n",
       "        vertical-align: middle;\n",
       "    }\n",
       "\n",
       "    .dataframe tbody tr th {\n",
       "        vertical-align: top;\n",
       "    }\n",
       "\n",
       "    .dataframe thead th {\n",
       "        text-align: right;\n",
       "    }\n",
       "</style>\n",
       "<table border=\"1\" class=\"dataframe\">\n",
       "  <thead>\n",
       "    <tr style=\"text-align: right;\">\n",
       "      <th></th>\n",
       "      <th>txnType</th>\n",
       "      <th>count(txnType)</th>\n",
       "    </tr>\n",
       "  </thead>\n",
       "  <tbody>\n",
       "    <tr>\n",
       "      <th>0</th>\n",
       "      <td>Transaction</td>\n",
       "      <td>3535</td>\n",
       "    </tr>\n",
       "    <tr>\n",
       "      <th>1</th>\n",
       "      <td>Transfer</td>\n",
       "      <td>3535</td>\n",
       "    </tr>\n",
       "  </tbody>\n",
       "</table>\n",
       "</div>"
      ],
      "text/plain": [
       "       txnType  count(txnType)\n",
       "0  Transaction            3535\n",
       "1     Transfer            3535"
      ]
     },
     "execution_count": 28,
     "metadata": {},
     "output_type": "execute_result"
    }
   ],
   "source": [
    "result = gds.run_cypher(\"\"\"\n",
    "  MATCH (c:Client) WHERE c.fraud_group IS NOT NULL\n",
    "  WITH c.fraud_group AS groupId, collect(c.id) AS members\n",
    "  WITH groupId, size(members) AS groupSize WHERE groupSize > $gs\n",
    "  MATCH (:Client {fraud_group:groupId})-[]-(txn:Transaction)-[]-(c:Client)      // Build our network as before\n",
    "  WHERE c.fraud_group IS NULL\n",
    "  UNWIND labels(txn) AS txnType                                                 // Since our PaySim demo stacks labels, let's look at our txn reference\n",
    "  RETURN distinct(txnType), count(txnType);\n",
    "\"\"\", params= {'gs': fraudGroupMinSize} )\n",
    "result"
   ]
  },
  {
   "cell_type": "code",
   "execution_count": 29,
   "metadata": {
    "colab": {
     "base_uri": "https://localhost:8080/",
     "height": 81
    },
    "execution": {
     "iopub.execute_input": "2023-04-06T08:34:08.812756Z",
     "iopub.status.busy": "2023-04-06T08:34:08.812756Z",
     "iopub.status.idle": "2023-04-06T08:34:09.789148Z",
     "shell.execute_reply": "2023-04-06T08:34:09.787199Z",
     "shell.execute_reply.started": "2023-04-06T08:34:08.812756Z"
    },
    "id": "vVzy325Hdvu-",
    "outputId": "379bb171-6001-4739-e0e7-bad10308e000",
    "tags": []
   },
   "outputs": [
    {
     "data": {
      "text/html": [
       "<div>\n",
       "<style scoped>\n",
       "    .dataframe tbody tr th:only-of-type {\n",
       "        vertical-align: middle;\n",
       "    }\n",
       "\n",
       "    .dataframe tbody tr th {\n",
       "        vertical-align: top;\n",
       "    }\n",
       "\n",
       "    .dataframe thead th {\n",
       "        text-align: right;\n",
       "    }\n",
       "</style>\n",
       "<table border=\"1\" class=\"dataframe\">\n",
       "  <thead>\n",
       "    <tr style=\"text-align: right;\">\n",
       "      <th></th>\n",
       "      <th>count(r)</th>\n",
       "    </tr>\n",
       "  </thead>\n",
       "  <tbody>\n",
       "    <tr>\n",
       "      <th>0</th>\n",
       "      <td>3535</td>\n",
       "    </tr>\n",
       "  </tbody>\n",
       "</table>\n",
       "</div>"
      ],
      "text/plain": [
       "   count(r)\n",
       "0      3535"
      ]
     },
     "execution_count": 29,
     "metadata": {},
     "output_type": "execute_result"
    }
   ],
   "source": [
    "result = gds.run_cypher(\"\"\"\n",
    "  MATCH (c:Client) WHERE c.fraud_group IS NOT NULL\n",
    "  WITH c.fraud_group AS groupId, collect(c.id) AS members\n",
    "  WITH groupId, size(members) AS groupSize WHERE groupSize > $gs\n",
    "  MATCH (c1:Client {fraud_group:groupId})-[]-(t:Transaction)-[]-(c2:Client)     // Expand our search to Clients one Transaction away\n",
    "  WHERE c2.fraud_group IS NULL\n",
    "  SET c1.suspect = true, c2.suspect = true                                      // Set these Clients as suspects for easier recall\n",
    "  MERGE (c1)-[r:TRANSACTED_WITH]->(c2)                                          // Merge a relationship directly between Clients and copy some of the Transaction properties over in case we need them.\n",
    "  ON CREATE SET r += t\n",
    "  RETURN count(r);\n",
    "\"\"\", params= {'gs': fraudGroupMinSize})\n",
    "result"
   ]
  },
  {
   "cell_type": "code",
   "execution_count": 30,
   "metadata": {
    "execution": {
     "iopub.execute_input": "2023-04-06T08:34:09.791110Z",
     "iopub.status.busy": "2023-04-06T08:34:09.791110Z",
     "iopub.status.idle": "2023-04-06T08:34:09.804153Z",
     "shell.execute_reply": "2023-04-06T08:34:09.802111Z",
     "shell.execute_reply.started": "2023-04-06T08:34:09.791110Z"
    },
    "id": "snQCZ4O5kK7g",
    "tags": []
   },
   "outputs": [],
   "source": [
    "graphName2 = 'wccGroups2'"
   ]
  },
  {
   "cell_type": "code",
   "execution_count": 31,
   "metadata": {
    "execution": {
     "iopub.execute_input": "2023-04-06T08:34:09.808180Z",
     "iopub.status.busy": "2023-04-06T08:34:09.807157Z",
     "iopub.status.idle": "2023-04-06T08:34:10.596149Z",
     "shell.execute_reply": "2023-04-06T08:34:10.594161Z",
     "shell.execute_reply.started": "2023-04-06T08:34:09.808180Z"
    },
    "id": "ObHYE5frdvxg",
    "tags": []
   },
   "outputs": [],
   "source": [
    "if gds.graph.exists(graphName2).exists:\n",
    "    gds.graph.drop(gds.graph.get(graphName2))"
   ]
  },
  {
   "cell_type": "code",
   "execution_count": 32,
   "metadata": {
    "execution": {
     "iopub.execute_input": "2023-04-06T08:34:10.600146Z",
     "iopub.status.busy": "2023-04-06T08:34:10.599161Z",
     "iopub.status.idle": "2023-04-06T08:34:10.894306Z",
     "shell.execute_reply": "2023-04-06T08:34:10.891862Z",
     "shell.execute_reply.started": "2023-04-06T08:34:10.600146Z"
    },
    "id": "yzo487KpkRGh",
    "tags": []
   },
   "outputs": [],
   "source": [
    "projection2, projectionPandas2 = gds.graph.project.cypher(graphName2, \n",
    "          'MATCH (c:Client {suspect:true}) RETURN id(c) AS id', \n",
    "          'MATCH (c1:Client {suspect:true})-[r:TRANSACTED_WITH]->(c2:Client) RETURN id(c1) AS source, id(c2) as target')"
   ]
  },
  {
   "cell_type": "code",
   "execution_count": 33,
   "metadata": {
    "colab": {
     "base_uri": "https://localhost:8080/"
    },
    "execution": {
     "iopub.execute_input": "2023-04-06T08:34:10.897248Z",
     "iopub.status.busy": "2023-04-06T08:34:10.896248Z",
     "iopub.status.idle": "2023-04-06T08:34:10.925549Z",
     "shell.execute_reply": "2023-04-06T08:34:10.922297Z",
     "shell.execute_reply.started": "2023-04-06T08:34:10.897248Z"
    },
    "id": "2BL4awvbkRI3",
    "outputId": "4cd152a0-c119-4d49-cf2d-1e15f858679e",
    "tags": []
   },
   "outputs": [
    {
     "name": "stdout",
     "output_type": "stream",
     "text": [
      "nodeQuery            MATCH (c:Client {suspect:true}) RETURN id(c) A...\n",
      "relationshipQuery    MATCH (c1:Client {suspect:true})-[r:TRANSACTED...\n",
      "graphName                                                   wccGroups2\n",
      "nodeCount                                                         1278\n",
      "relationshipCount                                                 1165\n",
      "projectMillis                                                       24\n",
      "Name: 0, dtype: object\n"
     ]
    }
   ],
   "source": [
    "#Graph Projection Stats from Pandas object\n",
    "print(projectionPandas2)"
   ]
  },
  {
   "cell_type": "code",
   "execution_count": 34,
   "metadata": {
    "execution": {
     "iopub.execute_input": "2023-04-06T08:34:10.928531Z",
     "iopub.status.busy": "2023-04-06T08:34:10.927544Z",
     "iopub.status.idle": "2023-04-06T08:34:11.379461Z",
     "shell.execute_reply": "2023-04-06T08:34:11.376553Z",
     "shell.execute_reply.started": "2023-04-06T08:34:10.928531Z"
    },
    "id": "__-LyayFkRLD",
    "tags": []
   },
   "outputs": [],
   "source": [
    "result = gds.wcc.write(projection2, writeProperty='fraud_group_2');"
   ]
  },
  {
   "cell_type": "code",
   "execution_count": 35,
   "metadata": {
    "colab": {
     "base_uri": "https://localhost:8080/",
     "height": 49
    },
    "execution": {
     "iopub.execute_input": "2023-04-06T08:34:11.382456Z",
     "iopub.status.busy": "2023-04-06T08:34:11.381471Z",
     "iopub.status.idle": "2023-04-06T08:34:11.659620Z",
     "shell.execute_reply": "2023-04-06T08:34:11.657685Z",
     "shell.execute_reply.started": "2023-04-06T08:34:11.382456Z"
    },
    "id": "iFgy6whHk0MK",
    "outputId": "1485b417-20b5-4aa2-9f61-9f8942bd3a09",
    "tags": []
   },
   "outputs": [
    {
     "data": {
      "text/html": [
       "<div>\n",
       "<style scoped>\n",
       "    .dataframe tbody tr th:only-of-type {\n",
       "        vertical-align: middle;\n",
       "    }\n",
       "\n",
       "    .dataframe tbody tr th {\n",
       "        vertical-align: top;\n",
       "    }\n",
       "\n",
       "    .dataframe thead th {\n",
       "        text-align: right;\n",
       "    }\n",
       "</style>\n",
       "<table border=\"1\" class=\"dataframe\">\n",
       "  <thead>\n",
       "    <tr style=\"text-align: right;\">\n",
       "      <th></th>\n",
       "    </tr>\n",
       "  </thead>\n",
       "  <tbody>\n",
       "  </tbody>\n",
       "</table>\n",
       "</div>"
      ],
      "text/plain": [
       "Empty DataFrame\n",
       "Columns: []\n",
       "Index: []"
      ]
     },
     "execution_count": 35,
     "metadata": {},
     "output_type": "execute_result"
    }
   ],
   "source": [
    "# Create an index on the new property\n",
    "gds.run_cypher(\"CREATE INDEX ClientFraud2Index IF NOT EXISTS FOR (c:Client) on c.fraud_group_2;\")"
   ]
  },
  {
   "cell_type": "code",
   "execution_count": 36,
   "metadata": {
    "colab": {
     "base_uri": "https://localhost:8080/",
     "height": 206
    },
    "execution": {
     "iopub.execute_input": "2023-04-06T08:34:11.662649Z",
     "iopub.status.busy": "2023-04-06T08:34:11.662649Z",
     "iopub.status.idle": "2023-04-06T08:34:11.982658Z",
     "shell.execute_reply": "2023-04-06T08:34:11.980681Z",
     "shell.execute_reply.started": "2023-04-06T08:34:11.662649Z"
    },
    "id": "uTHK8ZwXk0Pz",
    "outputId": "9978be1c-bae1-4ef2-8a2c-aef4f0388237",
    "tags": []
   },
   "outputs": [
    {
     "data": {
      "text/html": [
       "<div>\n",
       "<style scoped>\n",
       "    .dataframe tbody tr th:only-of-type {\n",
       "        vertical-align: middle;\n",
       "    }\n",
       "\n",
       "    .dataframe tbody tr th {\n",
       "        vertical-align: top;\n",
       "    }\n",
       "\n",
       "    .dataframe thead th {\n",
       "        text-align: right;\n",
       "    }\n",
       "</style>\n",
       "<table border=\"1\" class=\"dataframe\">\n",
       "  <thead>\n",
       "    <tr style=\"text-align: right;\">\n",
       "      <th></th>\n",
       "      <th>secondGroupId</th>\n",
       "      <th>groupSize</th>\n",
       "    </tr>\n",
       "  </thead>\n",
       "  <tbody>\n",
       "    <tr>\n",
       "      <th>0</th>\n",
       "      <td>56</td>\n",
       "      <td>29</td>\n",
       "    </tr>\n",
       "    <tr>\n",
       "      <th>1</th>\n",
       "      <td>68</td>\n",
       "      <td>28</td>\n",
       "    </tr>\n",
       "    <tr>\n",
       "      <th>2</th>\n",
       "      <td>2</td>\n",
       "      <td>26</td>\n",
       "    </tr>\n",
       "    <tr>\n",
       "      <th>3</th>\n",
       "      <td>38</td>\n",
       "      <td>23</td>\n",
       "    </tr>\n",
       "    <tr>\n",
       "      <th>4</th>\n",
       "      <td>14</td>\n",
       "      <td>23</td>\n",
       "    </tr>\n",
       "  </tbody>\n",
       "</table>\n",
       "</div>"
      ],
      "text/plain": [
       "   secondGroupId  groupSize\n",
       "0             56         29\n",
       "1             68         28\n",
       "2              2         26\n",
       "3             38         23\n",
       "4             14         23"
      ]
     },
     "execution_count": 36,
     "metadata": {},
     "output_type": "execute_result"
    }
   ],
   "source": [
    "result = gds.run_cypher(\"\"\"\n",
    "MATCH (c:Client) WHERE c.fraud_group_2 IS NOT NULL\n",
    "WITH c.fraud_group_2 AS secondGroupId, collect(c.id) AS members\n",
    "RETURN secondGroupId, size(members) AS groupSize\n",
    "ORDER BY groupSize DESC;\n",
    "\"\"\")\n",
    "result.head(5)"
   ]
  },
  {
   "cell_type": "code",
   "execution_count": 37,
   "metadata": {
    "execution": {
     "iopub.execute_input": "2023-04-06T08:34:11.985591Z",
     "iopub.status.busy": "2023-04-06T08:34:11.984621Z",
     "iopub.status.idle": "2023-04-06T08:34:11.999131Z",
     "shell.execute_reply": "2023-04-06T08:34:11.996183Z",
     "shell.execute_reply.started": "2023-04-06T08:34:11.985591Z"
    },
    "id": "WRNNRG0ElDj1",
    "tags": []
   },
   "outputs": [],
   "source": [
    "graphName3 = 'betweenness'"
   ]
  },
  {
   "cell_type": "code",
   "execution_count": 38,
   "metadata": {
    "execution": {
     "iopub.execute_input": "2023-04-06T08:34:12.003130Z",
     "iopub.status.busy": "2023-04-06T08:34:12.002175Z",
     "iopub.status.idle": "2023-04-06T08:34:12.798078Z",
     "shell.execute_reply": "2023-04-06T08:34:12.795118Z",
     "shell.execute_reply.started": "2023-04-06T08:34:12.003130Z"
    },
    "id": "G_K6ZaMJlOdv",
    "tags": []
   },
   "outputs": [],
   "source": [
    "if gds.graph.exists(graphName3).exists:\n",
    "    gds.graph.drop(gds.graph.get(graphName3))"
   ]
  },
  {
   "cell_type": "code",
   "execution_count": 39,
   "metadata": {
    "execution": {
     "iopub.execute_input": "2023-04-06T08:34:12.801060Z",
     "iopub.status.busy": "2023-04-06T08:34:12.800069Z",
     "iopub.status.idle": "2023-04-06T08:34:13.837538Z",
     "shell.execute_reply": "2023-04-06T08:34:13.835674Z",
     "shell.execute_reply.started": "2023-04-06T08:34:12.801060Z"
    },
    "id": "ICdNnyXylOgQ",
    "tags": []
   },
   "outputs": [],
   "source": [
    "projection3, projectionPandas3 = gds.graph.project.cypher(graphName3, \n",
    "    'MATCH (c:Client) WHERE c.fraud_group_2 IS NOT NULL WITH c.fraud_group_2 AS secondGroupId, collect(c.id) AS members WITH secondGroupId, size(members) AS groupSize ORDER BY groupSize DESC LIMIT 1 WITH secondGroupId MATCH (c:Client {fraud_group_2:secondGroupId})-[r:TRANSACTED_WITH]-(c2:Client) RETURN id(c) AS id',\n",
    "    'MATCH (c:Client) WHERE c.fraud_group_2 IS NOT NULL WITH c.fraud_group_2 AS secondGroupId, collect(c.id) AS members WITH secondGroupId, size(members) AS groupSize ORDER BY groupSize DESC LIMIT 1 WITH secondGroupId MATCH (c1:Client {fraud_group_2:secondGroupId})-[:TRANSACTED_WITH]-(c2:Client) RETURN id(c1) AS source, id(c2) AS target'\n",
    ")"
   ]
  },
  {
   "cell_type": "code",
   "execution_count": 40,
   "metadata": {
    "colab": {
     "base_uri": "https://localhost:8080/"
    },
    "execution": {
     "iopub.execute_input": "2023-04-06T08:34:13.841547Z",
     "iopub.status.busy": "2023-04-06T08:34:13.840549Z",
     "iopub.status.idle": "2023-04-06T08:34:13.852530Z",
     "shell.execute_reply": "2023-04-06T08:34:13.851539Z",
     "shell.execute_reply.started": "2023-04-06T08:34:13.841547Z"
    },
    "id": "jvqNUkDglOio",
    "outputId": "062c3f10-abd3-4f67-cdbb-4a1bbdeff8ad",
    "tags": []
   },
   "outputs": [
    {
     "name": "stdout",
     "output_type": "stream",
     "text": [
      "nodeQuery            MATCH (c:Client) WHERE c.fraud_group_2 IS NOT ...\n",
      "relationshipQuery    MATCH (c:Client) WHERE c.fraud_group_2 IS NOT ...\n",
      "graphName                                                  betweenness\n",
      "nodeCount                                                           29\n",
      "relationshipCount                                                   56\n",
      "projectMillis                                                       20\n",
      "Name: 0, dtype: object\n"
     ]
    }
   ],
   "source": [
    "#Graph Projection Stats from Pandas object\n",
    "print(projectionPandas3)"
   ]
  },
  {
   "cell_type": "code",
   "execution_count": 41,
   "metadata": {
    "colab": {
     "base_uri": "https://localhost:8080/"
    },
    "execution": {
     "iopub.execute_input": "2023-04-06T08:34:13.854549Z",
     "iopub.status.busy": "2023-04-06T08:34:13.854549Z",
     "iopub.status.idle": "2023-04-06T08:34:14.165931Z",
     "shell.execute_reply": "2023-04-06T08:34:14.164978Z",
     "shell.execute_reply.started": "2023-04-06T08:34:13.854549Z"
    },
    "id": "ploAIAQPlizR",
    "outputId": "203c451b-b758-4bde-fd19-047dff602038",
    "tags": []
   },
   "outputs": [
    {
     "data": {
      "text/plain": [
       "nodePropertiesWritten                                                    29\n",
       "writeMillis                                                               5\n",
       "centralityDistribution    {'p99': 520.003662109375, 'min': 0.0, 'max': 5...\n",
       "postProcessingMillis                                                     19\n",
       "preProcessingMillis                                                       0\n",
       "computeMillis                                                             2\n",
       "configuration             {'jobId': 'b7d24474-8d48-4576-ae14-909b1b1fd8d...\n",
       "Name: 0, dtype: object"
      ]
     },
     "execution_count": 41,
     "metadata": {},
     "output_type": "execute_result"
    }
   ],
   "source": [
    "result = gds.betweenness.write(projection3, writeProperty='score')\n",
    "result"
   ]
  },
  {
   "cell_type": "code",
   "execution_count": 42,
   "metadata": {
    "colab": {
     "base_uri": "https://localhost:8080/",
     "height": 300
    },
    "execution": {
     "iopub.execute_input": "2023-04-06T08:34:14.168949Z",
     "iopub.status.busy": "2023-04-06T08:34:14.167949Z",
     "iopub.status.idle": "2023-04-06T08:34:14.464561Z",
     "shell.execute_reply": "2023-04-06T08:34:14.462566Z",
     "shell.execute_reply.started": "2023-04-06T08:34:14.168949Z"
    },
    "id": "aj02mhKIlx67",
    "outputId": "780e62c3-4090-4367-a977-ba187360cc50",
    "tags": []
   },
   "outputs": [
    {
     "data": {
      "text/html": [
       "<div>\n",
       "<style scoped>\n",
       "    .dataframe tbody tr th:only-of-type {\n",
       "        vertical-align: middle;\n",
       "    }\n",
       "\n",
       "    .dataframe tbody tr th {\n",
       "        vertical-align: top;\n",
       "    }\n",
       "\n",
       "    .dataframe thead th {\n",
       "        text-align: right;\n",
       "    }\n",
       "</style>\n",
       "<table border=\"1\" class=\"dataframe\">\n",
       "  <thead>\n",
       "    <tr style=\"text-align: right;\">\n",
       "      <th></th>\n",
       "      <th>name</th>\n",
       "      <th>newScore</th>\n",
       "      <th>original</th>\n",
       "    </tr>\n",
       "  </thead>\n",
       "  <tbody>\n",
       "    <tr>\n",
       "      <th>0</th>\n",
       "      <td>Austin Cotton</td>\n",
       "      <td>173.333333</td>\n",
       "      <td>520.0</td>\n",
       "    </tr>\n",
       "    <tr>\n",
       "      <th>1</th>\n",
       "      <td>Kevin Bridges</td>\n",
       "      <td>171.000000</td>\n",
       "      <td>342.0</td>\n",
       "    </tr>\n",
       "    <tr>\n",
       "      <th>2</th>\n",
       "      <td>Tyler Turner</td>\n",
       "      <td>171.000000</td>\n",
       "      <td>342.0</td>\n",
       "    </tr>\n",
       "    <tr>\n",
       "      <th>3</th>\n",
       "      <td>Scarlett Stephenson</td>\n",
       "      <td>147.000000</td>\n",
       "      <td>294.0</td>\n",
       "    </tr>\n",
       "    <tr>\n",
       "      <th>4</th>\n",
       "      <td>John Cochran</td>\n",
       "      <td>46.750000</td>\n",
       "      <td>374.0</td>\n",
       "    </tr>\n",
       "    <tr>\n",
       "      <th>5</th>\n",
       "      <td>Dominic Hatfield</td>\n",
       "      <td>42.000000</td>\n",
       "      <td>294.0</td>\n",
       "    </tr>\n",
       "    <tr>\n",
       "      <th>6</th>\n",
       "      <td>Brooklyn Riddle</td>\n",
       "      <td>41.777778</td>\n",
       "      <td>376.0</td>\n",
       "    </tr>\n",
       "    <tr>\n",
       "      <th>7</th>\n",
       "      <td>Peyton Keller</td>\n",
       "      <td>27.000000</td>\n",
       "      <td>54.0</td>\n",
       "    </tr>\n",
       "  </tbody>\n",
       "</table>\n",
       "</div>"
      ],
      "text/plain": [
       "                  name    newScore  original\n",
       "0        Austin Cotton  173.333333     520.0\n",
       "1        Kevin Bridges  171.000000     342.0\n",
       "2         Tyler Turner  171.000000     342.0\n",
       "3  Scarlett Stephenson  147.000000     294.0\n",
       "4         John Cochran   46.750000     374.0\n",
       "5     Dominic Hatfield   42.000000     294.0\n",
       "6      Brooklyn Riddle   41.777778     376.0\n",
       "7        Peyton Keller   27.000000      54.0"
      ]
     },
     "execution_count": 42,
     "metadata": {},
     "output_type": "execute_result"
    }
   ],
   "source": [
    "gds.run_cypher(\"\"\"\n",
    "  CALL gds.betweenness.stream('betweenness') YIELD nodeId, score\n",
    "  WITH gds.util.asNode(nodeId) AS c, score WHERE score > 0                       // Filter 0 scores again\n",
    "  MATCH (c)-[r:TRANSACTED_WITH]-(:Client)                                        // Retrieve the relationships\n",
    "  WITH c.name AS name, score, collect(r) AS txns                                 // Collect and count the number of relationships\n",
    "  WITH name, score AS original, score/size(txns) AS newScore\n",
    "  RETURN name, newScore, original ORDER BY newScore DESC;  \n",
    "\"\"\")"
   ]
  }
 ],
 "metadata": {
  "colab": {
   "authorship_tag": "ABX9TyOiPOIwDvHXAbwXfUP4II87",
   "include_colab_link": true,
   "provenance": []
  },
  "kernelspec": {
   "display_name": "Python 3 (ipykernel)",
   "language": "python",
   "name": "python3"
  },
  "language_info": {
   "codemirror_mode": {
    "name": "ipython",
    "version": 3
   },
   "file_extension": ".py",
   "mimetype": "text/x-python",
   "name": "python",
   "nbconvert_exporter": "python",
   "pygments_lexer": "ipython3",
   "version": "3.10.9"
  }
 },
 "nbformat": 4,
 "nbformat_minor": 4
}
